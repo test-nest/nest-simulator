{
  "metadata": {
    "language_info": {
      "codemirror_mode": {
        "name": "ipython",
        "version": 3
      },
      "version": "3.5.0",
      "pygments_lexer": "ipython3",
      "file_extension": ".py",
      "name": "python",
      "nbconvert_exporter": "python",
      "mimetype": "text/x-python"
    },
    "kernelspec": {
      "display_name": "Python 3",
      "name": "python3",
      "language": "python"
    }
  },
  "cells": [
    {
      "source": [
        "%matplotlib inline"
      ],
      "metadata": {
        "collapsed": false
      },
      "execution_count": null,
      "outputs": [],
      "cell_type": "code"
    },
    {
      "metadata": {},
      "source": [
        "Network of linear rate neurons\n-----------------------------------\n\nThis script simulates an excitatory and an inhibitory population\nof lin_rate_ipn neurons with delayed excitatory and instantaneous\ninhibitory connections. The rate of all neurons is recorded using\na multimeter. The resulting rate for one excitatory and one\ninhibitory neuron is plotted.\n\nReferences\n~~~~~~~~~~~\n\nSee Also\n~~~~~~~~~~\n\n:Authors:\n\nKEYWORDS:\n\n"
      ],
      "cell_type": "markdown"
    },
    {
      "source": [
        "import nest\nimport pylab\nimport numpy"
      ],
      "metadata": {
        "collapsed": false
      },
      "execution_count": null,
      "outputs": [],
      "cell_type": "code"
    },
    {
      "metadata": {},
      "source": [
        "Assigning the simulation parameters to variables.\n\n"
      ],
      "cell_type": "markdown"
    },
    {
      "source": [
        "dt = 0.1  # the resolution in ms\nT = 100.0  # Simulation time in ms"
      ],
      "metadata": {
        "collapsed": false
      },
      "execution_count": null,
      "outputs": [],
      "cell_type": "code"
    },
    {
      "metadata": {},
      "source": [
        "Definition of the number of neurons\n\n"
      ],
      "cell_type": "markdown"
    },
    {
      "source": [
        "order = 50\nNE = int(4 * order)  # number of excitatory neurons\nNI = int(1 * order)  # number of inhibitory neurons\nN = int(NE+NI)       # total number of neurons"
      ],
      "metadata": {
        "collapsed": false
      },
      "execution_count": null,
      "outputs": [],
      "cell_type": "code"
    },
    {
      "metadata": {},
      "source": [
        "Definition of the connections\n\n"
      ],
      "cell_type": "markdown"
    },
    {
      "source": [
        "d_e = 5.   # delay of excitatory connections in ms\ng = 5.0  # ratio inhibitory weight/excitatory weight\nepsilon = 0.1  # connection probability\nw = 0.1/numpy.sqrt(N)  # excitatory connection strength\n\nKE = int(epsilon * NE)  # number of excitatory synapses per neuron (outdegree)\nKI = int(epsilon * NI)  # number of inhibitory synapses per neuron (outdegree)\nK_tot = int(KI + KE)  # total number of synapses per neuron\nconnection_rule = 'fixed_outdegree'  # connection rule"
      ],
      "metadata": {
        "collapsed": false
      },
      "execution_count": null,
      "outputs": [],
      "cell_type": "code"
    },
    {
      "metadata": {},
      "source": [
        "Definition of the neuron model and its neuron parameters\n\n"
      ],
      "cell_type": "markdown"
    },
    {
      "source": [
        "neuron_model = 'lin_rate_ipn'  # neuron model\nneuron_params = {'linear_summation': True,\n                 # type of non-linearity (not affecting linear rate models)\n                 'tau': 10.0,\n                 # time constant of neuronal dynamics in ms\n                 'mean': 2.0,\n                 # mean of Gaussian white noise input\n                 'std': 5.\n                 # standard deviation of Gaussian white noise input\n                 }"
      ],
      "metadata": {
        "collapsed": false
      },
      "execution_count": null,
      "outputs": [],
      "cell_type": "code"
    },
    {
      "metadata": {},
      "source": [
        "Configuration of the simulation kernel by the previously defined time\nresolution used in the simulation. Setting \"print_time\" to True prints\nthe already processed simulation time as well as its percentage of the\ntotal simulation time.\n\n"
      ],
      "cell_type": "markdown"
    },
    {
      "source": [
        "nest.ResetKernel()\nnest.SetKernelStatus({\"resolution\": dt, \"use_wfr\": False,\n                      \"print_time\": True,\n                      \"overwrite_files\": True})\n\nprint(\"Building network\")"
      ],
      "metadata": {
        "collapsed": false
      },
      "execution_count": null,
      "outputs": [],
      "cell_type": "code"
    },
    {
      "metadata": {},
      "source": [
        "Configuration of the neuron model using SetDefaults().\n\n"
      ],
      "cell_type": "markdown"
    },
    {
      "source": [
        "nest.SetDefaults(neuron_model, neuron_params)"
      ],
      "metadata": {
        "collapsed": false
      },
      "execution_count": null,
      "outputs": [],
      "cell_type": "code"
    },
    {
      "metadata": {},
      "source": [
        "Creation of the nodes using `Create`.\n\n"
      ],
      "cell_type": "markdown"
    },
    {
      "source": [
        "n_e = nest.Create(neuron_model, NE)\nn_i = nest.Create(neuron_model, NI)"
      ],
      "metadata": {
        "collapsed": false
      },
      "execution_count": null,
      "outputs": [],
      "cell_type": "code"
    },
    {
      "metadata": {},
      "source": [
        "To record from the rate neurons a multimeter is created and the parameter\n`record_from` is set to `'rate'` as well as the recording interval to `dt`\n\n"
      ],
      "cell_type": "markdown"
    },
    {
      "source": [
        "mm = nest.Create('multimeter', params={'record_from': ['rate'],\n                                       'interval': dt})"
      ],
      "metadata": {
        "collapsed": false
      },
      "execution_count": null,
      "outputs": [],
      "cell_type": "code"
    },
    {
      "metadata": {},
      "source": [
        "Specify synapse and connection dictionaries:\nConnections originating from excitatory neurons are associatated\nwith a delay d (rate_connection_delayed).\nConnections originating from inhibitory neurons are not associatated\nwith a delay (rate_connection_instantaneous).\n\n"
      ],
      "cell_type": "markdown"
    },
    {
      "source": [
        "syn_e = {'weight': w, 'delay': d_e, 'model': 'rate_connection_delayed'}\nsyn_i = {'weight': -g*w, 'model': 'rate_connection_instantaneous'}\nconn_e = {'rule': connection_rule, 'outdegree': KE}\nconn_i = {'rule': connection_rule, 'outdegree': KI}"
      ],
      "metadata": {
        "collapsed": false
      },
      "execution_count": null,
      "outputs": [],
      "cell_type": "code"
    },
    {
      "metadata": {},
      "source": [
        "Connect rate units\n\n"
      ],
      "cell_type": "markdown"
    },
    {
      "source": [
        "nest.Connect(n_e, n_e, conn_e, syn_e)\nnest.Connect(n_i, n_i, conn_i, syn_i)\nnest.Connect(n_e, n_i, conn_i, syn_e)\nnest.Connect(n_i, n_e, conn_e, syn_i)"
      ],
      "metadata": {
        "collapsed": false
      },
      "execution_count": null,
      "outputs": [],
      "cell_type": "code"
    },
    {
      "metadata": {},
      "source": [
        "Connect recording device to rate units\n\n"
      ],
      "cell_type": "markdown"
    },
    {
      "source": [
        "nest.Connect(mm, n_e+n_i)"
      ],
      "metadata": {
        "collapsed": false
      },
      "execution_count": null,
      "outputs": [],
      "cell_type": "code"
    },
    {
      "metadata": {},
      "source": [
        "Simulate the network\n\n"
      ],
      "cell_type": "markdown"
    },
    {
      "source": [
        "nest.Simulate(T)"
      ],
      "metadata": {
        "collapsed": false
      },
      "execution_count": null,
      "outputs": [],
      "cell_type": "code"
    },
    {
      "metadata": {},
      "source": [
        "Plot rates of one excitatory and one inhibitory neuron\n\n"
      ],
      "cell_type": "markdown"
    },
    {
      "source": [
        "data = nest.GetStatus(mm)[0]['events']\nrate_ex = data['rate'][numpy.where(data['senders'] == n_e[0])]\nrate_in = data['rate'][numpy.where(data['senders'] == n_i[0])]\ntimes = data['times'][numpy.where(data['senders'] == n_e[0])]\n\npylab.figure()\npylab.plot(times, rate_ex, label='excitatory')\npylab.plot(times, rate_in, label='inhibitory')\npylab.xlabel('time (ms)')\npylab.ylabel('rate (a.u.)')\npylab.show()"
      ],
      "metadata": {
        "collapsed": false
      },
      "execution_count": null,
      "outputs": [],
      "cell_type": "code"
    }
  ],
  "nbformat": 4,
  "nbformat_minor": 0
}