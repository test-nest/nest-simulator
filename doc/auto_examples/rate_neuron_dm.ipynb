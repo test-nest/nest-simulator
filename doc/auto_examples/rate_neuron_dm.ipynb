{
  "metadata": {
    "language_info": {
      "codemirror_mode": {
        "name": "ipython",
        "version": 3
      },
      "version": "3.5.0",
      "pygments_lexer": "ipython3",
      "file_extension": ".py",
      "name": "python",
      "nbconvert_exporter": "python",
      "mimetype": "text/x-python"
    },
    "kernelspec": {
      "display_name": "Python 3",
      "name": "python3",
      "language": "python"
    }
  },
  "cells": [
    {
      "source": [
        "%matplotlib inline"
      ],
      "metadata": {
        "collapsed": false
      },
      "execution_count": null,
      "outputs": [],
      "cell_type": "code"
    },
    {
      "metadata": {},
      "source": [
        "\nrate_neuron decision making\n-----------------------------\n\nA binary decision is implemented in the form of two rate neurons engaging in\nmutual inhibition.\n\nEvidence for each decision is reflected by the mean of Gaussian white noise\nexperienced by the respective neuron. The activity of each neuron is recorded\nusing multimeter devices.\n\nIt can be observed how noise as well as the difference in evidence affects\nwhich neuron exhibits larger activity and hence which decision will be made.\n\nKEYWORDS:\n\n"
      ],
      "cell_type": "markdown"
    },
    {
      "source": [
        "import nest\nimport pylab\nimport numpy"
      ],
      "metadata": {
        "collapsed": false
      },
      "execution_count": null,
      "outputs": [],
      "cell_type": "code"
    },
    {
      "metadata": {},
      "source": [
        "The function `build_network` takes the standard deviation of Gaussian\nwhite noise and the time resolution as arguments.\nFirst the Kernel is reset and the `use_wfr` (waveform-relaxation) is set to\nfalse while the resolution is set to the specified value ``dt``.\nTwo rate neurons with linear activation functions are created and the\nhandle is stored in the variables `D1` and `D2`. The output of both decision\nunits is rectified at zero.\nThe two decisions units are coupled via mutual inhibition.\nNext the multimeter is created and the handle stored in mm and the option\n`record_from` is set. The multimeter is then connected to the two units\nin order to 'observe' them.  The connect function takes the handles as input.\n\n"
      ],
      "cell_type": "markdown"
    },
    {
      "source": [
        "def build_network(sigma, dt):\n    nest.ResetKernel()\n    nest.SetKernelStatus({'resolution': dt, 'use_wfr': False})\n    Params = {'lambda': 0.1, 'std': sigma, 'tau': 1., 'rectify_output': True}\n    D1 = nest.Create('lin_rate_ipn', params=Params)\n    D2 = nest.Create('lin_rate_ipn', params=Params)\n\n    nest.Connect(D1, D2, 'all_to_all', {\n        'model': 'rate_connection_instantaneous', 'weight': -0.2})\n    nest.Connect(D2, D1, 'all_to_all', {\n        'model': 'rate_connection_instantaneous', 'weight': -0.2})\n\n    mm = nest.Create('multimeter')\n    nest.SetStatus(mm, {'interval': dt, 'record_from': ['rate']})\n    nest.Connect(mm, D1, syn_spec={'delay': dt})\n    nest.Connect(mm, D2, syn_spec={'delay': dt})\n\n    return D1, D2, mm"
      ],
      "metadata": {
        "collapsed": false
      },
      "execution_count": null,
      "outputs": [],
      "cell_type": "code"
    },
    {
      "metadata": {},
      "source": [
        "The decision making process is simulated for three different levels of noise\nand three differences in evidence for a given decision. The activity of both\ndecision units is plotted for each scenario.\n\n"
      ],
      "cell_type": "markdown"
    },
    {
      "source": [
        "fig_size = [14, 8]\nfig_rows = 3\nfig_cols = 3\nfig_plots = fig_rows * fig_cols\nface = 'white'\nedge = 'white'\n\nax = [None] * fig_plots\nfig = pylab.figure(facecolor=face, edgecolor=edge, figsize=fig_size)\n\ndt = 1e-3\nsigma = [0.0, 0.1, 0.2]\ndE = [0.0, 0.004, 0.008]\nT = numpy.linspace(0, 200, 200 / dt - 1)"
      ],
      "metadata": {
        "collapsed": false
      },
      "execution_count": null,
      "outputs": [],
      "cell_type": "code"
    },
    {
      "metadata": {},
      "source": [
        "First using `build_network` the network is built and the handles of the\ndecision units and the multimeter are stored in `D1`, `D2` and `mm`. The\nnetwork is simulated using `Simulate`, which takes the desired simulation\ntime in milliseconds and advances the network state by this amount of time.\nAfter an initial period in the absence of evidence for either decision,\nevidence is given by changing the state of each decision unit. Note that both\nunits receive evidence.\n\n"
      ],
      "cell_type": "markdown"
    },
    {
      "source": [
        "for i in range(9):\n\n    c = i % 3\n    r = int(i / 3)\n    D1, D2, mm = build_network(sigma[r], dt)\n\n    nest.Simulate(100.0)\n    nest.SetStatus(D1, {'mean': 1. + dE[c]})\n    nest.SetStatus(D2, {'mean': 1. - dE[c]})\n    nest.Simulate(100.0)\n\n    data = nest.GetStatus(mm)\n    senders = data[0]['events']['senders']\n    voltages = data[0]['events']['rate']\n\n    # The activity values ('voltages') are read out by the multimeter\n\n    ax[i] = fig.add_subplot(fig_rows, fig_cols, i + 1)\n    ax[i].plot(T, voltages[numpy.where(senders == D1)],\n               'b', linewidth=2, label=\"D1\")\n    ax[i].plot(T, voltages[numpy.where(senders == D2)],\n               'r', linewidth=2, label=\"D2\")\n    ax[i].set_ylim([-.5, 12.])\n    ax[i].get_xaxis().set_ticks([])\n    ax[i].get_yaxis().set_ticks([])\n    if c == 0:\n        ax[i].set_ylabel(\"activity ($\\sigma=%.1f$) \" % (sigma[r]))\n        ax[i].get_yaxis().set_ticks([0, 3, 6, 9, 12])\n\n    if r == 0:\n        ax[i].set_title(\"$\\Delta E=%.3f$ \" % (dE[c]))\n        if c == 2:\n            pylab.legend(loc=0)\n    if r == 2:\n        ax[i].get_xaxis().set_ticks([0, 50, 100, 150, 200])\n        ax[i].set_xlabel('time (ms)')"
      ],
      "metadata": {
        "collapsed": false
      },
      "execution_count": null,
      "outputs": [],
      "cell_type": "code"
    },
    {
      "metadata": {},
      "source": [
        "The activity of the two units is plotted in each scenario.\n\nIn the absence of noise, the network will not make a decision if evidence\nfor both choices is equal. With noise, this symmetry can be broken and a\ndecision wil be taken despite identical evidence.\n\nAs evidence for D1 relative to D2 increases, it becomes more likely that\nthe corresponding decision will be taken. For small differences in the\nevidence for the two decisions, noise can lead to the 'wrong' decision.\n\n"
      ],
      "cell_type": "markdown"
    },
    {
      "source": [
        "pylab.show()"
      ],
      "metadata": {
        "collapsed": false
      },
      "execution_count": null,
      "outputs": [],
      "cell_type": "code"
    }
  ],
  "nbformat": 4,
  "nbformat_minor": 0
}