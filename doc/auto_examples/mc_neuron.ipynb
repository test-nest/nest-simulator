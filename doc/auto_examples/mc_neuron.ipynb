{
  "metadata": {
    "language_info": {
      "codemirror_mode": {
        "name": "ipython",
        "version": 3
      },
      "version": "3.5.0",
      "pygments_lexer": "ipython3",
      "file_extension": ".py",
      "name": "python",
      "nbconvert_exporter": "python",
      "mimetype": "text/x-python"
    },
    "kernelspec": {
      "display_name": "Python 3",
      "name": "python3",
      "language": "python"
    }
  },
  "cells": [
    {
      "source": [
        "%matplotlib inline"
      ],
      "metadata": {
        "collapsed": false
      },
      "execution_count": null,
      "outputs": [],
      "cell_type": "code"
    },
    {
      "metadata": {},
      "source": [
        "\nMulti-compartment neuron example\n--------------------------------\n\nSimple example of how to use the three-compartment ``iaf_cond_alpha_mc``\nneuron model.\n\nThree stimulation paradigms are illustrated:\n - externally applied current, one compartment at a time\n - spikes impinging on each compartment, one at a time\n - rheobase current injected to soma causing output spikes\n\nVoltage and synaptic conductance traces are shown for all compartments.\n\nKEYWORDS: iaf_cond_alpha_mc\n\n"
      ],
      "cell_type": "markdown"
    },
    {
      "metadata": {},
      "source": [
        "First, we import all necessary modules to simulate, analyze and plot this\nexample.\n\n"
      ],
      "cell_type": "markdown"
    },
    {
      "source": [
        "import nest\nimport pylab\n\nnest.ResetKernel()"
      ],
      "metadata": {
        "collapsed": false
      },
      "execution_count": null,
      "outputs": [],
      "cell_type": "code"
    },
    {
      "metadata": {},
      "source": [
        "We then extract the receptor types and the list of recordable quantities\nfrom the neuron model. Receptor types and recordable quantities uniquely\ndefine the receptor type and the compartment while establishing synaptic\nconnections or assigning multimeters.\n\n"
      ],
      "cell_type": "markdown"
    },
    {
      "source": [
        "syns = nest.GetDefaults('iaf_cond_alpha_mc')['receptor_types']\nprint(\"iaf_cond_alpha_mc receptor_types: {0}\".format(syns))\n\nrqs = nest.GetDefaults('iaf_cond_alpha_mc')['recordables']\nprint(\"iaf_cond_alpha_mc recordables   : {0}\".format(rqs))"
      ],
      "metadata": {
        "collapsed": false
      },
      "execution_count": null,
      "outputs": [],
      "cell_type": "code"
    },
    {
      "metadata": {},
      "source": [
        "The simulation parameters are assigned to variables.\n\n"
      ],
      "cell_type": "markdown"
    },
    {
      "source": [
        "nest.SetDefaults('iaf_cond_alpha_mc',\n                 {'V_th': -60.0,  # threshold potential\n                  'V_reset': -65.0,  # reset potential\n                  't_ref': 10.0,  # refractory period\n                  'g_sp': 5.0,  # somato-proximal coupling conductance\n                  'soma': {'g_L': 12.0},  # somatic leak conductance\n                  # proximal excitatory and inhibitory synaptic time constants\n                  'proximal': {'tau_syn_ex': 1.0,\n                               'tau_syn_in': 5.0},\n                  'distal': {'C_m': 90.0}  # distal capacitance\n                  })"
      ],
      "metadata": {
        "collapsed": false
      },
      "execution_count": null,
      "outputs": [],
      "cell_type": "code"
    },
    {
      "metadata": {},
      "source": [
        "The nodes are created using `Create`. We store the returned handles\nin variables for later reference.\n\n"
      ],
      "cell_type": "markdown"
    },
    {
      "source": [
        "n = nest.Create('iaf_cond_alpha_mc')"
      ],
      "metadata": {
        "collapsed": false
      },
      "execution_count": null,
      "outputs": [],
      "cell_type": "code"
    },
    {
      "metadata": {},
      "source": [
        "A `multimeter` is created and connected to the neurons. The parameters\nspecified for the multimeter include the list of quantities that should be\nrecorded and the time interval at which quantities are measured.\n\n"
      ],
      "cell_type": "markdown"
    },
    {
      "source": [
        "mm = nest.Create('multimeter', params={'record_from': rqs, 'interval': 0.1})\nnest.Connect(mm, n)"
      ],
      "metadata": {
        "collapsed": false
      },
      "execution_count": null,
      "outputs": [],
      "cell_type": "code"
    },
    {
      "metadata": {},
      "source": [
        "We create one current generator per compartment and configure a stimulus\nregime that drives distal, proximal and soma dendrites, in that order.\nConfiguration of the current generator includes the definition of the start\nand stop times and the amplitude of the injected current.\n\n"
      ],
      "cell_type": "markdown"
    },
    {
      "source": [
        "cgs = nest.Create('dc_generator', 3)\nnest.SetStatus(cgs,\n               [{'start': 250.0, 'stop': 300.0, 'amplitude': 50.0},   # soma\n                {'start': 150.0, 'stop': 200.0, 'amplitude': -50.0},  # proxim.\n                {'start': 50.0, 'stop': 100.0, 'amplitude': 100.0}])  # distal"
      ],
      "metadata": {
        "collapsed": false
      },
      "execution_count": null,
      "outputs": [],
      "cell_type": "code"
    },
    {
      "metadata": {},
      "source": [
        "Generators are then connected to the correct compartments. Specification of\nthe `receptor_type` uniquely defines the target compartment and receptor.\n\n"
      ],
      "cell_type": "markdown"
    },
    {
      "source": [
        "nest.Connect([cgs[0]], n, syn_spec={'receptor_type': syns['soma_curr']})\nnest.Connect([cgs[1]], n, syn_spec={'receptor_type': syns['proximal_curr']})\nnest.Connect([cgs[2]], n, syn_spec={'receptor_type': syns['distal_curr']})"
      ],
      "metadata": {
        "collapsed": false
      },
      "execution_count": null,
      "outputs": [],
      "cell_type": "code"
    },
    {
      "metadata": {},
      "source": [
        "We create one excitatory and one inhibitory spike generator per compartment\nand configure a regime that drives distal, proximal and soma dendrites, in\nthat order, alternating the excitatory and inhibitory spike generators.\n\n"
      ],
      "cell_type": "markdown"
    },
    {
      "source": [
        "sgs = nest.Create('spike_generator', 6)\nnest.SetStatus(sgs,\n               [{'spike_times': [600.0, 620.0]},  # soma excitatory\n                {'spike_times': [610.0, 630.0]},  # soma inhibitory\n                {'spike_times': [500.0, 520.0]},  # proximal excitatory\n                {'spike_times': [510.0, 530.0]},  # proximal inhibitory\n                {'spike_times': [400.0, 420.0]},  # distal excitatory\n                {'spike_times': [410.0, 430.0]}])  # distal inhibitory"
      ],
      "metadata": {
        "collapsed": false
      },
      "execution_count": null,
      "outputs": [],
      "cell_type": "code"
    },
    {
      "metadata": {},
      "source": [
        "Connect generators to correct compartments in the same way as in case of\ncurrent generator\n\n"
      ],
      "cell_type": "markdown"
    },
    {
      "source": [
        "nest.Connect([sgs[0]], n, syn_spec={'receptor_type': syns['soma_exc']})\nnest.Connect([sgs[1]], n, syn_spec={'receptor_type': syns['soma_inh']})\nnest.Connect([sgs[2]], n, syn_spec={'receptor_type': syns['proximal_exc']})\nnest.Connect([sgs[3]], n, syn_spec={'receptor_type': syns['proximal_inh']})\nnest.Connect([sgs[4]], n, syn_spec={'receptor_type': syns['distal_exc']})\nnest.Connect([sgs[5]], n, syn_spec={'receptor_type': syns['distal_inh']})"
      ],
      "metadata": {
        "collapsed": false
      },
      "execution_count": null,
      "outputs": [],
      "cell_type": "code"
    },
    {
      "metadata": {},
      "source": [
        "Run the simulation for 700 ms.\n\n"
      ],
      "cell_type": "markdown"
    },
    {
      "source": [
        "nest.Simulate(700)"
      ],
      "metadata": {
        "collapsed": false
      },
      "execution_count": null,
      "outputs": [],
      "cell_type": "code"
    },
    {
      "metadata": {},
      "source": [
        "Now we set the intrinsic current of soma to 150 pA to make the neuron spike.\n\n"
      ],
      "cell_type": "markdown"
    },
    {
      "source": [
        "nest.SetStatus(n, {'soma': {'I_e': 150.0}})"
      ],
      "metadata": {
        "collapsed": false
      },
      "execution_count": null,
      "outputs": [],
      "cell_type": "code"
    },
    {
      "metadata": {},
      "source": [
        "We simulate the network for another 300 ms and retrieve recorded data from\nthe multimeter\n\n"
      ],
      "cell_type": "markdown"
    },
    {
      "source": [
        "nest.Simulate(300)\nrec = nest.GetStatus(mm)[0]['events']"
      ],
      "metadata": {
        "collapsed": false
      },
      "execution_count": null,
      "outputs": [],
      "cell_type": "code"
    },
    {
      "metadata": {},
      "source": [
        "We create an array with the time points when the quantities were actually\nrecorded\n\n"
      ],
      "cell_type": "markdown"
    },
    {
      "source": [
        "t = rec['times']"
      ],
      "metadata": {
        "collapsed": false
      },
      "execution_count": null,
      "outputs": [],
      "cell_type": "code"
    },
    {
      "metadata": {},
      "source": [
        "We plot the time traces of the membrane potential and the state of each\nmembrane potential for soma, proximal and distal dendrites (V_m.s, V_m.p and\nV_m.d).\n\n"
      ],
      "cell_type": "markdown"
    },
    {
      "source": [
        "pylab.figure()\npylab.subplot(211)\npylab.plot(t, rec['V_m.s'], t, rec['V_m.p'], t, rec['V_m.d'])\npylab.legend(('Soma', 'Proximal dendrite', 'Distal dendrite'),\n             loc='lower right')\npylab.axis([0, 1000, -76, -59])\npylab.ylabel('Membrane potential [mV]')\npylab.title('Responses of iaf_cond_alpha_mc neuron')"
      ],
      "metadata": {
        "collapsed": false
      },
      "execution_count": null,
      "outputs": [],
      "cell_type": "code"
    },
    {
      "metadata": {},
      "source": [
        "Finally, we plot the time traces of the synaptic conductance measured in\neach compartment.\n\n"
      ],
      "cell_type": "markdown"
    },
    {
      "source": [
        "pylab.subplot(212)\npylab.plot(t, rec['g_ex.s'], 'b-', t, rec['g_ex.p'], 'g-',\n           t, rec['g_ex.d'], 'r-')\npylab.plot(t, rec['g_in.s'], 'b--', t, rec['g_in.p'], 'g--',\n           t, rec['g_in.d'], 'r--')\npylab.legend(('g_ex.s', 'g_ex.p', 'g_in.d', 'g_in.s', 'g_in.p', 'g_in.d'))\npylab.axis([350, 700, 0, 1.15])\npylab.xlabel('Time [ms]')\npylab.ylabel('Synaptic conductance [nS]')"
      ],
      "metadata": {
        "collapsed": false
      },
      "execution_count": null,
      "outputs": [],
      "cell_type": "code"
    }
  ],
  "nbformat": 4,
  "nbformat_minor": 0
}