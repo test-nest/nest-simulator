{
  "metadata": {
    "language_info": {
      "codemirror_mode": {
        "name": "ipython",
        "version": 3
      },
      "version": "3.5.0",
      "pygments_lexer": "ipython3",
      "file_extension": ".py",
      "name": "python",
      "nbconvert_exporter": "python",
      "mimetype": "text/x-python"
    },
    "kernelspec": {
      "display_name": "Python 3",
      "name": "python3",
      "language": "python"
    }
  },
  "cells": [
    {
      "source": [
        "%matplotlib inline"
      ],
      "metadata": {
        "collapsed": false
      },
      "execution_count": null,
      "outputs": [],
      "cell_type": "code"
    },
    {
      "metadata": {},
      "source": [
        "Intrinsic currents subthreshold\n------------------------------------\n\nThis example illustrates how to record from a model with multiple\nintrinsic currents and visualize the results. This is illustrated\nusing the `ht_neuron` which has four intrinsic currents: I_NaP,\nI_KNa, I_T, and I_h. It is a slightly simplified implementation of\nneuron model proposed in [1].\n\nThe neuron is driven by DC current, which is alternated\nbetween depolarizing and hyperpolarizing. Hyperpolarization\nintervals become increasingly longer.\n\nReferences\n~~~~~~~~~~~\n\n.. [1] Hill and Tononi (2005) Modeling Sleep and Wakefulness in the\n       Thalamocortical System J Neurophysiol 93:1671\n       http://dx.doi.org/10.1152/jn.00915.2004.\n\nSee Also\n~~~~~~~~~~\n\nintrinsic_currents_spiking.py\n\n:Authors:\n\nKEYWORDS:\n\n"
      ],
      "cell_type": "markdown"
    },
    {
      "metadata": {},
      "source": [
        "We imported all necessary modules for simulation, analysis and plotting.\n\n"
      ],
      "cell_type": "markdown"
    },
    {
      "source": [
        "import nest\nimport numpy as np\nimport matplotlib.pyplot as plt"
      ],
      "metadata": {
        "collapsed": false
      },
      "execution_count": null,
      "outputs": [],
      "cell_type": "code"
    },
    {
      "metadata": {},
      "source": [
        "Additionally, we set the verbosity using `set_verbosity` to suppress info\nmessages. We also reset the kernel to be sure to start with a clean NEST.\n\n"
      ],
      "cell_type": "markdown"
    },
    {
      "source": [
        "nest.set_verbosity(\"M_WARNING\")\nnest.ResetKernel()"
      ],
      "metadata": {
        "collapsed": false
      },
      "execution_count": null,
      "outputs": [],
      "cell_type": "code"
    },
    {
      "metadata": {},
      "source": [
        "We define simulation parameters:\n\n- The length of depolarization intervals\n- The length of hyperpolarization intervals\n- The amplitude for de- and hyperpolarizing currents\n- The end of the time window to plot\n\n"
      ],
      "cell_type": "markdown"
    },
    {
      "source": [
        "n_blocks = 5\nt_block = 20.\nt_dep = [t_block] * n_blocks\nt_hyp = [t_block * 2 ** n for n in range(n_blocks)]\nI_dep = 10.\nI_hyp = -5.\n\nt_end = 500."
      ],
      "metadata": {
        "collapsed": false
      },
      "execution_count": null,
      "outputs": [],
      "cell_type": "code"
    },
    {
      "metadata": {},
      "source": [
        "We create the one neuron instance and the DC current generator and store\nthe returned handles.\n\n"
      ],
      "cell_type": "markdown"
    },
    {
      "source": [
        "nrn = nest.Create('ht_neuron')\ndc = nest.Create('dc_generator')"
      ],
      "metadata": {
        "collapsed": false
      },
      "execution_count": null,
      "outputs": [],
      "cell_type": "code"
    },
    {
      "metadata": {},
      "source": [
        "We create a multimeter to record\n\n- membrane potential `V_m`\n- threshold value `theta`\n- intrinsic currents `I_NaP`, `I_KNa`, `I_T`, `I_h`\n\nby passing these names in the `record_from` list.\n\nTo find out which quantities can be recorded from a given neuron,\nrun::\n\n  nest.GetDefaults('ht_neuron')['recordables']\n\nThe result will contain an entry like::\n\n  <SLILiteral: V_m>\n\nfor each recordable quantity. You need to pass the value of the\n`SLILiteral`, in this case `V_m` in the `record_from` list.\n\nWe want to record values with 0.1 ms resolution, so we set the\nrecording interval as well; the default recording resolution is 1 ms.\n\n"
      ],
      "cell_type": "markdown"
    },
    {
      "source": [
        "# create multimeter and configure it to record all information\n# we want at 0.1ms resolution\nmm = nest.Create('multimeter',\n                 params={'interval': 0.1,\n                         'record_from': ['V_m', 'theta',\n                                         'I_NaP', 'I_KNa', 'I_T', 'I_h']}\n                 )"
      ],
      "metadata": {
        "collapsed": false
      },
      "execution_count": null,
      "outputs": [],
      "cell_type": "code"
    },
    {
      "metadata": {},
      "source": [
        "We connect the DC generator and the multimeter to the neuron. Note that\nthe multimeter, just like the voltmeter is connected to the neuron,\nnot the neuron to the multimeter.\n\n"
      ],
      "cell_type": "markdown"
    },
    {
      "source": [
        "nest.Connect(dc, nrn)\nnest.Connect(mm, nrn)"
      ],
      "metadata": {
        "collapsed": false
      },
      "execution_count": null,
      "outputs": [],
      "cell_type": "code"
    },
    {
      "metadata": {},
      "source": [
        "We are ready to simulate. We alternate between driving the neuron with\ndepolarizing and hyperpolarizing currents. Before each simulation\ninterval, we set the amplitude of the DC generator to the correct value.\n\n"
      ],
      "cell_type": "markdown"
    },
    {
      "source": [
        "for t_sim_dep, t_sim_hyp in zip(t_dep, t_hyp):\n\n    nest.SetStatus(dc, {'amplitude': I_dep})\n    nest.Simulate(t_sim_dep)\n\n    nest.SetStatus(dc, {'amplitude': I_hyp})\n    nest.Simulate(t_sim_hyp)"
      ],
      "metadata": {
        "collapsed": false
      },
      "execution_count": null,
      "outputs": [],
      "cell_type": "code"
    },
    {
      "metadata": {},
      "source": [
        "We now fetch the data recorded by the multimeter. The data are returned as\na dictionary with entry ``'times'`` containing timestamps for all recorded\n data, plus one entry per recorded quantity.\n\nAll data is contained in the ``'events'`` entry of the status dictionary\nreturned by the multimeter. Because all NEST function return arrays,\nwe need to pick out element ``0`` from the result of `GetStatus`.\n\n"
      ],
      "cell_type": "markdown"
    },
    {
      "source": [
        "data = nest.GetStatus(mm)[0]['events']\nt = data['times']"
      ],
      "metadata": {
        "collapsed": false
      },
      "execution_count": null,
      "outputs": [],
      "cell_type": "code"
    },
    {
      "metadata": {},
      "source": [
        "The next step is to plot the results. We create a new figure, add a single\nsubplot and plot at first membrane potential and threshold.\n\n"
      ],
      "cell_type": "markdown"
    },
    {
      "source": [
        "fig = plt.figure()\nVax = fig.add_subplot(111)\nVax.plot(t, data['V_m'], 'b-', lw=2, label=r'$V_m$')\nVax.plot(t, data['theta'], 'g-', lw=2, label=r'$\\Theta$')\nVax.set_ylim(-80., 0.)\nVax.set_ylabel('Voltageinf [mV]')\nVax.set_xlabel('Time [ms]')"
      ],
      "metadata": {
        "collapsed": false
      },
      "execution_count": null,
      "outputs": [],
      "cell_type": "code"
    },
    {
      "metadata": {},
      "source": [
        "To plot the input current, we need to create an input current trace. We\nconstruct it from the durations of the de- and hyperpolarizing inputs and\nadd the delay in the connection between DC generator and neuron:\n\n1. We find the delay by checking the status of the dc->nrn connection.\n1. We find the resolution of the simulation from the kernel status.\n1. Each current interval begins one time step after the previous interval,\nis delayed by the delay and effective for the given duration.\n1. We build the time axis incrementally. We only add the delay when adding\nthe first time point after t=0. All subsequent points are then\nautomatically shifted by the delay.\n\n"
      ],
      "cell_type": "markdown"
    },
    {
      "source": [
        "delay = nest.GetStatus(nest.GetConnections(dc, nrn))[0]['delay']\ndt = nest.GetKernelStatus('resolution')\n\nt_dc, I_dc = [0], [0]\n\nfor td, th in zip(t_dep, t_hyp):\n    t_prev = t_dc[-1]\n    t_start_dep = t_prev + dt if t_prev > 0 else t_prev + dt + delay\n    t_end_dep = t_start_dep + td\n    t_start_hyp = t_end_dep + dt\n    t_end_hyp = t_start_hyp + th\n\n    t_dc.extend([t_start_dep, t_end_dep, t_start_hyp, t_end_hyp])\n    I_dc.extend([I_dep, I_dep, I_hyp, I_hyp])"
      ],
      "metadata": {
        "collapsed": false
      },
      "execution_count": null,
      "outputs": [],
      "cell_type": "code"
    },
    {
      "metadata": {},
      "source": [
        "The following function turns a name such as I_NaP into proper TeX code\n$I_{\\mathrm{NaP}}$ for a pretty label.\n\n"
      ],
      "cell_type": "markdown"
    },
    {
      "source": [
        "def texify_name(name):\n    return r'${}_{{\\mathrm{{{}}}}}$'.format(*name.split('_'))"
      ],
      "metadata": {
        "collapsed": false
      },
      "execution_count": null,
      "outputs": [],
      "cell_type": "code"
    },
    {
      "metadata": {},
      "source": [
        "Next, we add a right vertical axis and plot the currents with respect to\nthat axis.\n\n"
      ],
      "cell_type": "markdown"
    },
    {
      "source": [
        "Iax = Vax.twinx()\nIax.plot(t_dc, I_dc, 'k-', lw=2, label=texify_name('I_DC'))\n\nfor iname, color in (('I_h', 'maroon'), ('I_T', 'orange'),\n                     ('I_NaP', 'crimson'), ('I_KNa', 'aqua')):\n    Iax.plot(t, data[iname], color=color, lw=2, label=texify_name(iname))\n\nIax.set_xlim(0, t_end)\nIax.set_ylim(-10., 15.)\nIax.set_ylabel('Current [pA]')\nIax.set_title('ht_neuron driven by DC current')"
      ],
      "metadata": {
        "collapsed": false
      },
      "execution_count": null,
      "outputs": [],
      "cell_type": "code"
    },
    {
      "metadata": {},
      "source": [
        "We need to make a little extra effort to combine lines from the two axis\ninto one legend.\n\n"
      ],
      "cell_type": "markdown"
    },
    {
      "source": [
        "lines_V, labels_V = Vax.get_legend_handles_labels()\nlines_I, labels_I = Iax.get_legend_handles_labels()\ntry:\n    Iax.legend(lines_V + lines_I, labels_V + labels_I, fontsize='small')\nexcept TypeError:\n    # work-around for older Matplotlib versions\n    Iax.legend(lines_V + lines_I, labels_V + labels_I)"
      ],
      "metadata": {
        "collapsed": false
      },
      "execution_count": null,
      "outputs": [],
      "cell_type": "code"
    },
    {
      "metadata": {},
      "source": [
        "Note that I_KNa is not activated in this example because the neuron does\nnot spike. I_T has only a very small amplitude.\n\n"
      ],
      "cell_type": "markdown"
    }
  ],
  "nbformat": 4,
  "nbformat_minor": 0
}