{
  "metadata": {
    "language_info": {
      "codemirror_mode": {
        "name": "ipython",
        "version": 3
      },
      "version": "3.5.0",
      "pygments_lexer": "ipython3",
      "file_extension": ".py",
      "name": "python",
      "nbconvert_exporter": "python",
      "mimetype": "text/x-python"
    },
    "kernelspec": {
      "display_name": "Python 3",
      "name": "python3",
      "language": "python"
    }
  },
  "cells": [
    {
      "source": [
        "%matplotlib inline"
      ],
      "metadata": {
        "collapsed": false
      },
      "execution_count": null,
      "outputs": [],
      "cell_type": "code"
    },
    {
      "metadata": {},
      "source": [
        " Gap Junctions: Inhibitory network example\n----------------------------------------------\n\nThis script simulates an inhibitory network of 500 Hodgkin-Huxley neurons.\nWithout the gap junctions (meaning for `gap_weight = 0.0`) the network shows\nan asynchronous irregular state that is caused by the external excitatory\nPoissonian drive being balanced by the inhibitory feedback within the\nnetwork. With increasing `gap_weight` the network synchronizes:\n\nFor a lower gap weight of 0.3 nS the network remains in an asynchronous\nstate. With a weight of 0.54 nS the network switches randomly between the\nasynchronous to the synchronous state, while for a gap weight of 0.7 nS a\nstable synchronous state is reached.\n\nThis example is also used as test case 2 (see figure 9 and 10)\nin [1].\n\nReferences\n~~~~~~~~~~~\n\n.. [1] Hahne et al. (2015) A unified framework for spiking and gap-junction\n       interactions in distributed neuronal network simulations, Front.\n       Neuroinform. http://dx.doi.org/10.3389/neuro.11.012.2008\n\nSee Also\n~~~~~~~~~~\n\n:Authors:\n\nKEYWORDS:\n\n"
      ],
      "cell_type": "markdown"
    },
    {
      "source": [
        "import nest\nimport pylab as pl\nimport numpy\nimport random\n\nn_neuron = 500\ngap_per_neuron = 60\ninh_per_neuron = 50\ndelay = 1.0\nj_exc = 300.\nj_inh = -50.\nthreads = 8\nstepsize = 0.05\nsimtime = 501.\ngap_weight = 0.3\n\nnest.ResetKernel()"
      ],
      "metadata": {
        "collapsed": false
      },
      "execution_count": null,
      "outputs": [],
      "cell_type": "code"
    },
    {
      "metadata": {},
      "source": [
        "First we set the random seed, adjust the kernel settings and create\n`hh_psc_alpha_gap` neurons, `spike_detector` and `poisson_generator`.\n\n"
      ],
      "cell_type": "markdown"
    },
    {
      "source": [
        "random.seed(1)\n\nnest.SetKernelStatus({'resolution': 0.05,\n                      'total_num_virtual_procs': threads,\n                      'print_time': True,\n                      # Settings for waveform relaxation\n                      # 'use_wfr': False uses communication in every step\n                      # instead of an iterative solution\n                      'use_wfr': True,\n                      'wfr_comm_interval': 1.0,\n                      'wfr_tol': 0.0001,\n                      'wfr_max_iterations': 15,\n                      'wfr_interpolation_order': 3})\n\nneurons = nest.Create('hh_psc_alpha_gap', n_neuron)\n\nsd = nest.Create(\"spike_detector\", params={'to_file': False,\n                                           'to_memory': True})\npg = nest.Create(\"poisson_generator\", params={'rate': 500.0})"
      ],
      "metadata": {
        "collapsed": false
      },
      "execution_count": null,
      "outputs": [],
      "cell_type": "code"
    },
    {
      "metadata": {},
      "source": [
        "Each neuron shall receive `inh_per_neuron = 50` inhibitory synapti inputs\nthat are randomly selected from all other neurons, each with synaptic\nweight `j_inh = -50.0` pA and a synaptic delay of 1.0 ms. Furthermore each\n neuron shall receive an excitatory external Poissonian input of 500.0 Hz\nwith synaptic weight `j_exc = 300.0` pA and the same delay.\nThe desired connections are created with the following commands:\n\n"
      ],
      "cell_type": "markdown"
    },
    {
      "source": [
        "conn_dict = {'rule': 'fixed_indegree',\n             'indegree': inh_per_neuron,\n             'autapses': False,\n             'multapses': True}\n\nsyn_dict = {'model': 'static_synapse',\n            'weight': j_inh,\n            'delay': delay}\n\nnest.Connect(neurons, neurons, conn_dict, syn_dict)\n\nnest.Connect(pg, neurons, 'all_to_all', syn_spec={'model': 'static_synapse',\n                                                  'weight': j_exc,\n                                                  'delay': delay})"
      ],
      "metadata": {
        "collapsed": false
      },
      "execution_count": null,
      "outputs": [],
      "cell_type": "code"
    },
    {
      "metadata": {},
      "source": [
        "Then the neurons are connected to the `spike_detector` and the initial\nmembrane potential of each neuron is set randomly between -40 and -80 mV.\n\n"
      ],
      "cell_type": "markdown"
    },
    {
      "source": [
        "nest.Connect(neurons, sd)\n\nfor i in range(n_neuron):\n    nest.SetStatus([neurons[i]], {'V_m': (-40. - 40. * random.random())})"
      ],
      "metadata": {
        "collapsed": false
      },
      "execution_count": null,
      "outputs": [],
      "cell_type": "code"
    },
    {
      "metadata": {},
      "source": [
        "Finally gap junctions are added to the network. (60*500)/2 `gap_junction`\nconnections are added randomly resulting in an average of 60 gap-junction\nconnections per neuron. We must not use the `fixed_indegree` oder\n`fixed_outdegree` functionality of `nest.Connect()` to create the\nconnections, as `gap_junction` connections are bidirectional connections\nand we need to make sure that the same neurons are connected in both ways.\nThis is achieved by creating the connections on the Python level with the\n`random` module of the Python Standard Library and connecting the neurons\nusing the `make_symmetric` flag for `one_to_one` connections.\n\n"
      ],
      "cell_type": "markdown"
    },
    {
      "source": [
        "n_connection = int(n_neuron * gap_per_neuron / 2)\nconnections = numpy.transpose(\n    [random.sample(neurons, 2) for _ in range(n_connection)])\n\nnest.Connect(connections[0], connections[1],\n             {'rule': 'one_to_one', 'make_symmetric': True},\n             {'model': 'gap_junction', 'weight': gap_weight})"
      ],
      "metadata": {
        "collapsed": false
      },
      "execution_count": null,
      "outputs": [],
      "cell_type": "code"
    },
    {
      "metadata": {},
      "source": [
        "In the end we start the simulation and plot the spike pattern.\n\n"
      ],
      "cell_type": "markdown"
    },
    {
      "source": [
        "nest.Simulate(simtime)\n\ntimes = nest.GetStatus(sd, 'events')[0]['times']\nspikes = nest.GetStatus(sd, 'events')[0]['senders']\nn_spikes = nest.GetStatus(sd, 'n_events')[0]\n\nhz_rate = (1000.0 * n_spikes / simtime) / n_neuron\n\npl.figure(1)\npl.plot(times, spikes, 'o')\npl.title('Average spike rate (Hz): %.2f' % hz_rate)\npl.xlabel('time (ms)')\npl.ylabel('neuron no')\npl.show()"
      ],
      "metadata": {
        "collapsed": false
      },
      "execution_count": null,
      "outputs": [],
      "cell_type": "code"
    }
  ],
  "nbformat": 4,
  "nbformat_minor": 0
}