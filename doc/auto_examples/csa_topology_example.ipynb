{
  "metadata": {
    "language_info": {
      "codemirror_mode": {
        "name": "ipython",
        "version": 3
      },
      "version": "3.5.0",
      "pygments_lexer": "ipython3",
      "file_extension": ".py",
      "name": "python",
      "nbconvert_exporter": "python",
      "mimetype": "text/x-python"
    },
    "kernelspec": {
      "display_name": "Python 3",
      "name": "python3",
      "language": "python"
    }
  },
  "cells": [
    {
      "source": [
        "%matplotlib inline"
      ],
      "metadata": {
        "collapsed": false
      },
      "execution_count": null,
      "outputs": [],
      "cell_type": "code"
    },
    {
      "metadata": {},
      "source": [
        "\nUsing CSA with Topology layers\n------------------------------\n\nThis example shows a brute-force way of specifying connections between\nNEST Topology layers using Connection Set Algebra instead of the\nbuilt-in connection routines.\n\nUsing the CSA requires NEST to be compiled with support for\nlibneurosim. For details, see Djurfeldt M, Davison AP and Eppler JM\n(2014) **Efficient generation of connectivity in neuronal networks\nfrom simulator-independent descriptions**, *Front. Neuroinform.*\nhttp://dx.doi.org/10.3389/fninf.2014.00043\n\nFor a related example, see csa_example.py\n\nThis example uses the function GetLeaves, which is deprecated. A deprecation\nwarning is therefore issued. For details about deprecated functions, see\ndocumentation.\n\nReferences\n~~~~~~~~~~~~\n\nSee Also\n~~~~~~~~~~\n\n:Authors:\n\nKEYWORDS:\n\n"
      ],
      "cell_type": "markdown"
    },
    {
      "metadata": {},
      "source": [
        "First, we import all necessary modules.\n\n"
      ],
      "cell_type": "markdown"
    },
    {
      "source": [
        "import nest\nimport nest.topology as topo"
      ],
      "metadata": {
        "collapsed": false
      },
      "execution_count": null,
      "outputs": [],
      "cell_type": "code"
    },
    {
      "metadata": {},
      "source": [
        "Next, we check for the availability of the CSA Python module. If it does\nnot import, we exit with an error message.\n\n"
      ],
      "cell_type": "markdown"
    },
    {
      "source": [
        "try:\n    import csa\n    haveCSA = True\nexcept ImportError:\n    print(\"This example requires CSA to be installed in order to run.\\n\" +\n          \"Please make sure you compiled NEST using\\n\" +\n          \"  -Dwith-libneurosim=[OFF|ON|</path/to/libneurosim>]\\n\" +\n          \"and CSA and libneurosim are available.\")\n    import sys\n    sys.exit()"
      ],
      "metadata": {
        "collapsed": false
      },
      "execution_count": null,
      "outputs": [],
      "cell_type": "code"
    },
    {
      "metadata": {},
      "source": [
        "We define a factory that returns a CSA-style geometry function for\nthe given layer. The function returned will return for each CSA-index\nthe position in space of the given neuron as a 2- or 3-element list.\n\nThis function stores a copy of the neuron positions internally, entailing\nmemory overhead.\n\n"
      ],
      "cell_type": "markdown"
    },
    {
      "source": [
        "def geometryFunction(topologyLayer):\n\n    positions = topo.GetPosition(nest.GetLeaves(topologyLayer)[0])\n\n    def geometry_function(idx):\n        return positions[idx]\n\n    return geometry_function"
      ],
      "metadata": {
        "collapsed": false
      },
      "execution_count": null,
      "outputs": [],
      "cell_type": "code"
    },
    {
      "metadata": {},
      "source": [
        "We create two layers that have 20x20 neurons of type `iaf_psc_alpha`.\n\n"
      ],
      "cell_type": "markdown"
    },
    {
      "source": [
        "pop1 = topo.CreateLayer({'elements': 'iaf_psc_alpha',\n                         'rows': 20, 'columns': 20})\npop2 = topo.CreateLayer({'elements': 'iaf_psc_alpha',\n                         'rows': 20, 'columns': 20})"
      ],
      "metadata": {
        "collapsed": false
      },
      "execution_count": null,
      "outputs": [],
      "cell_type": "code"
    },
    {
      "metadata": {},
      "source": [
        "For each layer, we create a CSA-style geometry function and a CSA metric\nbased on them.\n\n"
      ],
      "cell_type": "markdown"
    },
    {
      "source": [
        "g1 = geometryFunction(pop1)\ng2 = geometryFunction(pop2)\nd = csa.euclidMetric2d(g1, g2)"
      ],
      "metadata": {
        "collapsed": false
      },
      "execution_count": null,
      "outputs": [],
      "cell_type": "code"
    },
    {
      "metadata": {},
      "source": [
        "The connection set ``cs`` describes a Gaussian connectivity profile with\nsigma = 0.2 and cutoff at 0.5, and two values (10000.0 and 1.0) used as\nweight and delay, respectively.\n\n"
      ],
      "cell_type": "markdown"
    },
    {
      "source": [
        "cs = csa.cset(csa.random * (csa.gaussian(0.2, 0.5) * d), 10000.0, 1.0)"
      ],
      "metadata": {
        "collapsed": false
      },
      "execution_count": null,
      "outputs": [],
      "cell_type": "code"
    },
    {
      "metadata": {},
      "source": [
        "We can now connect the populations using the `CGConnect` function. It\ntakes the IDs of pre- and postsynaptic neurons (``pop1`` and ``pop2``),\nthe connection set (``cs``) and a dictionary that map the parameters\nweight and delay to positions in the value set associated with the\nconnection set.\n\n"
      ],
      "cell_type": "markdown"
    },
    {
      "source": [
        "# This is a work-around until NEST 3.0 is released. It will issue a deprecation\n# warning.\npop1_gids = nest.GetLeaves(pop1)[0]\npop2_gids = nest.GetLeaves(pop2)[0]\n\nnest.CGConnect(pop1_gids, pop2_gids, cs, {\"weight\": 0, \"delay\": 1})"
      ],
      "metadata": {
        "collapsed": false
      },
      "execution_count": null,
      "outputs": [],
      "cell_type": "code"
    },
    {
      "metadata": {},
      "source": [
        "Finally, we use the `PlotTargets` function to show all targets in ``pop2``\nstarting at the center neuron of ``pop1``.\n\n"
      ],
      "cell_type": "markdown"
    },
    {
      "source": [
        "topo.PlotTargets(topo.FindCenterElement(pop1), pop2)"
      ],
      "metadata": {
        "collapsed": false
      },
      "execution_count": null,
      "outputs": [],
      "cell_type": "code"
    }
  ],
  "nbformat": 4,
  "nbformat_minor": 0
}