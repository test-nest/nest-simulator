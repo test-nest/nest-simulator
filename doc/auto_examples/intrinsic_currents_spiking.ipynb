{
  "metadata": {
    "language_info": {
      "codemirror_mode": {
        "name": "ipython",
        "version": 3
      },
      "version": "3.5.0",
      "pygments_lexer": "ipython3",
      "file_extension": ".py",
      "name": "python",
      "nbconvert_exporter": "python",
      "mimetype": "text/x-python"
    },
    "kernelspec": {
      "display_name": "Python 3",
      "name": "python3",
      "language": "python"
    }
  },
  "cells": [
    {
      "source": [
        "%matplotlib inline"
      ],
      "metadata": {
        "collapsed": false
      },
      "execution_count": null,
      "outputs": [],
      "cell_type": "code"
    },
    {
      "metadata": {},
      "source": [
        "Intrinsic currents spiking\n-------------------------------\n\nThis example illustrates a neuron receiving spiking input through\nseveral different receptors (AMPA, NMDA, GABA_A, GABA_B), provoking\nspike output. The model, `ht_neuron`, also has intrinsic currents\n(I_NaP, I_KNa, I_T, and I_h). It is a slightly simplified implementation of\nneuron model proposed in [1].\n\nThe neuron is bombarded with spike trains from four Poisson generators,\nwhich are connected to the AMPA, NMDA, GABA_A, and GABA_B receptors,\nrespectively.\n\nReferences\n~~~~~~~~~~~\n\n.. [1] Hill and Tononi (2005) Modeling Sleep and Wakefulness in the\n       Thalamocortical System J Neurophysiol 93:1671\n       http://dx.doi.org/10.1152/jn.00915.2004.\n\nSee Also\n~~~~~~~~~~\n\nintrinsic_currents_subthreshold.py\n\n\n:Authors:\n\nKEYWORDS:\n\n"
      ],
      "cell_type": "markdown"
    },
    {
      "metadata": {},
      "source": [
        "We imported all necessary modules for simulation, analysis and plotting.\n\n"
      ],
      "cell_type": "markdown"
    },
    {
      "source": [
        "import nest\nimport numpy as np\nimport matplotlib.pyplot as plt"
      ],
      "metadata": {
        "collapsed": false
      },
      "execution_count": null,
      "outputs": [],
      "cell_type": "code"
    },
    {
      "metadata": {},
      "source": [
        "Additionally, we set the verbosity using `set_verbosity` to suppress info\nmessages. We also reset the kernel to be sure to start with a clean NEST.\n\n"
      ],
      "cell_type": "markdown"
    },
    {
      "source": [
        "nest.set_verbosity(\"M_WARNING\")\nnest.ResetKernel()"
      ],
      "metadata": {
        "collapsed": false
      },
      "execution_count": null,
      "outputs": [],
      "cell_type": "code"
    },
    {
      "metadata": {},
      "source": [
        "We define the simulation parameters:\n\n- The rate of the input spike trains\n- The weights of the different receptors (names must match receptor types)\n- The time to simulate\n\nNote that all parameter values should be doubles, since NEST expects doubles.\n\n"
      ],
      "cell_type": "markdown"
    },
    {
      "source": [
        "rate_in = 100.\nw_recep = {'AMPA': 30., 'NMDA': 30., 'GABA_A': 5., 'GABA_B': 10.}\nt_sim = 250.\n\nnum_recep = len(w_recep)"
      ],
      "metadata": {
        "collapsed": false
      },
      "execution_count": null,
      "outputs": [],
      "cell_type": "code"
    },
    {
      "metadata": {},
      "source": [
        "We create\n\n- one neuron instance\n- one Poisson generator instance for each synapse type\n- one multimeter to record from the neuron:\n  - membrane potential\n  - threshold potential\n  - synaptic conductances\n  - intrinsic currents\n\nSee `intrinsic_currents_subthreshold.py` for more details on `multimeter`\nconfiguration.\n\n"
      ],
      "cell_type": "markdown"
    },
    {
      "source": [
        "nrn = nest.Create('ht_neuron')\np_gens = nest.Create('poisson_generator', 4,\n                     params={'rate': rate_in})\nmm = nest.Create('multimeter',\n                 params={'interval': 0.1,\n                         'record_from': ['V_m', 'theta',\n                                         'g_AMPA', 'g_NMDA',\n                                         'g_GABA_A', 'g_GABA_B',\n                                         'I_NaP', 'I_KNa', 'I_T', 'I_h']})"
      ],
      "metadata": {
        "collapsed": false
      },
      "execution_count": null,
      "outputs": [],
      "cell_type": "code"
    },
    {
      "metadata": {},
      "source": [
        "We now connect each Poisson generator with the neuron through a different\nreceptor type.\n\nFirst, we need to obtain the numerical codes for the receptor types from\nthe model. The `receptor_types` entry of the default dictionary for the\n`ht_neuron` model is a dictionary mapping receptor names to codes.\n\nIn the loop, we use Python's tuple unpacking mechanism to unpack\ndictionary entries from our w_recep dictionary.\n\nNote that we need to pack the ``pg`` variable into a list before\npassing it to `Connect`, because iterating over the `p_gens` list\nmakes `pg` a \"naked\" GID.\n\n"
      ],
      "cell_type": "markdown"
    },
    {
      "source": [
        "receptors = nest.GetDefaults('ht_neuron')['receptor_types']\nfor pg, (rec_name, rec_wgt) in zip(p_gens, w_recep.items()):\n    nest.Connect([pg], nrn, syn_spec={'receptor_type': receptors[rec_name],\n                                      'weight': rec_wgt})"
      ],
      "metadata": {
        "collapsed": false
      },
      "execution_count": null,
      "outputs": [],
      "cell_type": "code"
    },
    {
      "metadata": {},
      "source": [
        "We then connnect the multimeter. Note that the multimeter is connected to\nthe neuron, not the other way around.\n\n"
      ],
      "cell_type": "markdown"
    },
    {
      "source": [
        "nest.Connect(mm, nrn)"
      ],
      "metadata": {
        "collapsed": false
      },
      "execution_count": null,
      "outputs": [],
      "cell_type": "code"
    },
    {
      "metadata": {},
      "source": [
        "We are now ready to simulate.\n\n"
      ],
      "cell_type": "markdown"
    },
    {
      "source": [
        "nest.Simulate(t_sim)"
      ],
      "metadata": {
        "collapsed": false
      },
      "execution_count": null,
      "outputs": [],
      "cell_type": "code"
    },
    {
      "metadata": {},
      "source": [
        "We now fetch the data recorded by the multimeter. The data are returned as\na dictionary with entry ``'times'`` containing timestamps for all\nrecorded data, plus one entry per recorded quantity.\nAll data is contained in the ``'events'`` entry of the status dictionary\nreturned by the multimeter. Because all NEST function return arrays,\nwe need to pick out element ``0`` from the result of `GetStatus`.\n\n"
      ],
      "cell_type": "markdown"
    },
    {
      "source": [
        "data = nest.GetStatus(mm)[0]['events']\nt = data['times']"
      ],
      "metadata": {
        "collapsed": false
      },
      "execution_count": null,
      "outputs": [],
      "cell_type": "code"
    },
    {
      "metadata": {},
      "source": [
        "The following function turns a name such as I_NaP into proper TeX code\n$I_{\\mathrm{NaP}}$ for a pretty label.\n\n"
      ],
      "cell_type": "markdown"
    },
    {
      "source": [
        "def texify_name(name):\n    return r'${}_{{\\mathrm{{{}}}}}$'.format(*name.split('_'))"
      ],
      "metadata": {
        "collapsed": false
      },
      "execution_count": null,
      "outputs": [],
      "cell_type": "code"
    },
    {
      "metadata": {},
      "source": [
        "The next step is to plot the results. We create a new figure, and add one\nsubplot each for membrane and threshold potential, synaptic conductances,\nand intrinsic currents.\n\n"
      ],
      "cell_type": "markdown"
    },
    {
      "source": [
        "fig = plt.figure()\n\nVax = fig.add_subplot(311)\nVax.plot(t, data['V_m'], 'b', lw=2, label=r'$V_m$')\nVax.plot(t, data['theta'], 'g', lw=2, label=r'$\\Theta$')\nVax.set_ylabel('Potential [mV]')\n\ntry:\n    Vax.legend(fontsize='small')\nexcept TypeError:\n    Vax.legend()  # work-around for older Matplotlib versions\nVax.set_title('ht_neuron driven by Poisson processes')\n\nGax = fig.add_subplot(312)\nfor gname in ('g_AMPA', 'g_NMDA', 'g_GABA_A', 'g_GABA_B'):\n    Gax.plot(t, data[gname], lw=2, label=texify_name(gname))\n\ntry:\n    Gax.legend(fontsize='small')\nexcept TypeError:\n    Gax.legend()  # work-around for older Matplotlib versions\nGax.set_ylabel('Conductance [nS]')\n\nIax = fig.add_subplot(313)\nfor iname, color in (('I_h', 'maroon'), ('I_T', 'orange'),\n                     ('I_NaP', 'crimson'), ('I_KNa', 'aqua')):\n    Iax.plot(t, data[iname], color=color, lw=2, label=texify_name(iname))\n\ntry:\n    Iax.legend(fontsize='small')\nexcept TypeError:\n    Iax.legend()  # work-around for older Matplotlib versions\nIax.set_ylabel('Current [pA]')\nIax.set_xlabel('Time [ms]')"
      ],
      "metadata": {
        "collapsed": false
      },
      "execution_count": null,
      "outputs": [],
      "cell_type": "code"
    }
  ],
  "nbformat": 4,
  "nbformat_minor": 0
}