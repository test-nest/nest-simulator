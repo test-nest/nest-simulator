{
  "metadata": {
    "language_info": {
      "codemirror_mode": {
        "name": "ipython",
        "version": 3
      },
      "version": "3.5.0",
      "pygments_lexer": "ipython3",
      "file_extension": ".py",
      "name": "python",
      "nbconvert_exporter": "python",
      "mimetype": "text/x-python"
    },
    "kernelspec": {
      "display_name": "Python 3",
      "name": "python3",
      "language": "python"
    }
  },
  "cells": [
    {
      "source": [
        "%matplotlib inline"
      ],
      "metadata": {
        "collapsed": false
      },
      "execution_count": null,
      "outputs": [],
      "cell_type": "code"
    },
    {
      "metadata": {},
      "source": [
        "Initial membrane voltage\n----------------------------\n\nPlot several runs of the `iaf_cond_exp_sfa_rr` neuron without input for various\ninitial values of the membrane potential.\n\nReferences\n~~~~~~~~~~~~\n\nSee Also\n~~~~~~~~~~\n\n:Authors:\n\nKEYWORDS:\n\n"
      ],
      "cell_type": "markdown"
    },
    {
      "metadata": {},
      "source": [
        "First, the necessary modules for simulation and plotting are imported.\n\n"
      ],
      "cell_type": "markdown"
    },
    {
      "source": [
        "import nest\nimport numpy\nimport pylab"
      ],
      "metadata": {
        "collapsed": false
      },
      "execution_count": null,
      "outputs": [],
      "cell_type": "code"
    },
    {
      "metadata": {},
      "source": [
        "A loop runs over a range of initial membrane voltages.\n\nIn the beginning of each iteration, the simulation kernel is put back to\nits initial state using `ResetKernel`.\n\nNext, a neuron is instantiated with `Create`. The used neuron model\n`iaf_cond_exp_sfa_rr` is an implementation of a spiking neuron with\nintegrate-and-fire dynamics, conductance-based synapses, an additional\nspike-frequency adaptation and relative refractory mechanisms as described\nin [1]. Incoming spike events induce a post-synaptic change of\nconductance  modelled  by an  exponential  function. `SetStatus` allows to\nassign the initial membrane voltage of the current loop run to the neuron.\n\n`Create` is used once more to instantiate a `voltmeter` as recording device\nwhich is subsequently connected to the neuron with `Connect`.\n\nThen, a simulation with a duration of 75 ms is started with `Simulate`.\n\nWhen the simulation has finished, the recorded times and membrane voltages\nare read from the voltmeter via `GetStatus` where they can be accessed\nthrough the key `events` of the status dictionary.\n\n.. [1] Dayan, P. and Abbott, L.F. (2001) Theoretical neuroscience,\n       MIT Press, page 166\n\nFinally, the time course of the membrane voltages is plotted for each of\nthe different inital values.\n\n"
      ],
      "cell_type": "markdown"
    },
    {
      "source": [
        "for vinit in numpy.arange(-100, -50, 10, float):\n\n    nest.ResetKernel()\n\n    cbn = nest.Create(\"iaf_cond_exp_sfa_rr\")\n\n    nest.SetStatus(cbn, \"V_m\", vinit)\n\n    voltmeter = nest.Create(\"voltmeter\")\n    nest.Connect(voltmeter, cbn)\n\n    nest.Simulate(75.0)\n\n    t = nest.GetStatus(voltmeter, \"events\")[0][\"times\"]\n    v = nest.GetStatus(voltmeter, \"events\")[0][\"V_m\"]\n\n    pylab.plot(t, v, label=\"initial V_m = %.2f mV\" % vinit)"
      ],
      "metadata": {
        "collapsed": false
      },
      "execution_count": null,
      "outputs": [],
      "cell_type": "code"
    },
    {
      "metadata": {},
      "source": [
        "Set the legend and the labels for the plot outside of the loop.\n\n"
      ],
      "cell_type": "markdown"
    },
    {
      "source": [
        "pylab.legend(loc=4)\npylab.xlabel(\"time (ms)\")\npylab.ylabel(\"V_m (mV)\")"
      ],
      "metadata": {
        "collapsed": false
      },
      "execution_count": null,
      "outputs": [],
      "cell_type": "code"
    }
  ],
  "nbformat": 4,
  "nbformat_minor": 0
}