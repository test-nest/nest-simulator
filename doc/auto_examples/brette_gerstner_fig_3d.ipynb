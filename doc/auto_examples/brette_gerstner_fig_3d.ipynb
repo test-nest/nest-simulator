{
  "metadata": {
    "language_info": {
      "codemirror_mode": {
        "name": "ipython",
        "version": 3
      },
      "version": "3.5.0",
      "pygments_lexer": "ipython3",
      "file_extension": ".py",
      "name": "python",
      "nbconvert_exporter": "python",
      "mimetype": "text/x-python"
    },
    "kernelspec": {
      "display_name": "Python 3",
      "name": "python3",
      "language": "python"
    }
  },
  "cells": [
    {
      "source": [
        "%matplotlib inline"
      ],
      "metadata": {
        "collapsed": false
      },
      "execution_count": null,
      "outputs": [],
      "cell_type": "code"
    },
    {
      "metadata": {},
      "source": [
        "Test of the adapting exponential integrate and fire model in NEST\n----------------------------------------------------------------------\n\nThis example tests the adaptive integrate and fire model (AdEx) according to\nBrette and Gerstner (2005) J. Neurophysiology and\nreproduces figure 3.D of the paper.\n\nNote that Brette&Gerstner give the value for b in nA.\nTo be consistent with the other parameters in the equations, b must be\nconverted to pA (pico Ampere).\n\nSee Also\n~~~~~~~~~~~\n\n:Authors:\n\nKEYWORDS:\n\n"
      ],
      "cell_type": "markdown"
    },
    {
      "source": [
        "import nest\nimport nest.voltage_trace\nimport pylab\n\nnest.ResetKernel()"
      ],
      "metadata": {
        "collapsed": false
      },
      "execution_count": null,
      "outputs": [],
      "cell_type": "code"
    },
    {
      "metadata": {},
      "source": [
        "First we make sure that the resolution of the simulation is 0.1 ms. This is\n important, since the slop of the action potential is very steep.\n\n"
      ],
      "cell_type": "markdown"
    },
    {
      "source": [
        "res = 0.1\nnest.SetKernelStatus({\"resolution\": res})\nneuron = nest.Create(\"aeif_cond_exp\")"
      ],
      "metadata": {
        "collapsed": false
      },
      "execution_count": null,
      "outputs": [],
      "cell_type": "code"
    },
    {
      "metadata": {},
      "source": [
        "Set the parameters of the neuron according to the paper.\n\n"
      ],
      "cell_type": "markdown"
    },
    {
      "source": [
        "nest.SetStatus(neuron, {\"V_peak\": 20., \"E_L\": -60.0, \"a\": 80.0, \"b\": 80.5,\n                        \"tau_w\": 720.0})"
      ],
      "metadata": {
        "collapsed": false
      },
      "execution_count": null,
      "outputs": [],
      "cell_type": "code"
    },
    {
      "metadata": {},
      "source": [
        "Create and configure the stimulus which is a step current.\n\n"
      ],
      "cell_type": "markdown"
    },
    {
      "source": [
        "dc = nest.Create(\"dc_generator\")\n\nnest.SetStatus(dc, [{\"amplitude\": -800.0, \"start\": 0.0, \"stop\": 400.0}])"
      ],
      "metadata": {
        "collapsed": false
      },
      "execution_count": null,
      "outputs": [],
      "cell_type": "code"
    },
    {
      "metadata": {},
      "source": [
        "We connect the DC generators.\n\n"
      ],
      "cell_type": "markdown"
    },
    {
      "source": [
        "nest.Connect(dc, neuron, 'all_to_all')"
      ],
      "metadata": {
        "collapsed": false
      },
      "execution_count": null,
      "outputs": [],
      "cell_type": "code"
    },
    {
      "metadata": {},
      "source": [
        "And add a voltmeter to record the membrane potentials.\n\n"
      ],
      "cell_type": "markdown"
    },
    {
      "source": [
        "voltmeter = nest.Create(\"voltmeter\")"
      ],
      "metadata": {
        "collapsed": false
      },
      "execution_count": null,
      "outputs": [],
      "cell_type": "code"
    },
    {
      "metadata": {},
      "source": [
        "We set the voltmeter to record in small intervals of 0.1 ms and connect the\n voltmeter to the neuron.\n\n"
      ],
      "cell_type": "markdown"
    },
    {
      "source": [
        "nest.SetStatus(voltmeter, {\"withgid\": True, \"withtime\": True, 'interval': 0.1})\n\nnest.Connect(voltmeter, neuron)"
      ],
      "metadata": {
        "collapsed": false
      },
      "execution_count": null,
      "outputs": [],
      "cell_type": "code"
    },
    {
      "metadata": {},
      "source": [
        "Finally, we simulate for 1000 ms and plot a voltage trace to produce the\nfigure.\n\n"
      ],
      "cell_type": "markdown"
    },
    {
      "source": [
        "nest.Simulate(1000.0)\n\nnest.voltage_trace.from_device(voltmeter)\npylab.axis([0, 1000, -85, 0])"
      ],
      "metadata": {
        "collapsed": false
      },
      "execution_count": null,
      "outputs": [],
      "cell_type": "code"
    }
  ],
  "nbformat": 4,
  "nbformat_minor": 0
}