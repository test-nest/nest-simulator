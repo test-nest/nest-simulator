{
  "metadata": {
    "language_info": {
      "codemirror_mode": {
        "name": "ipython",
        "version": 3
      },
      "version": "3.5.0",
      "pygments_lexer": "ipython3",
      "file_extension": ".py",
      "name": "python",
      "nbconvert_exporter": "python",
      "mimetype": "text/x-python"
    },
    "kernelspec": {
      "display_name": "Python 3",
      "name": "python3",
      "language": "python"
    }
  },
  "cells": [
    {
      "source": [
        "%matplotlib inline"
      ],
      "metadata": {
        "collapsed": false
      },
      "execution_count": null,
      "outputs": [],
      "cell_type": "code"
    },
    {
      "metadata": {},
      "source": [
        "Population of GIF neuron model with oscillatory behavior\n-------------------------------------------------------------\n\nThis script simulates a population of generalized integrate-and-fire (GIF)\nmodel neurons driven by noise from a group of Poisson generators.\n\nDue to spike-frequency adaptation, the GIF neurons tend to show oscillatory\nbehavior on the time scale comparable with the time constant of adaptation\nelements (stc and sfa).\n\nPopulation dynamics are visualized by raster plot and as average firing rate.\n\nReferences\n~~~~~~~~~~~\n\n.. [1] Schwalger et al. PLoS Comput Biol. 2017\n\nSee Also\n~~~~~~~~~~\n\n:Authors:\n\nKEYWORDS:\n\n"
      ],
      "cell_type": "markdown"
    },
    {
      "metadata": {},
      "source": [
        "Import all necessary modules for simulation and plotting.\n\n"
      ],
      "cell_type": "markdown"
    },
    {
      "source": [
        "import nest\nimport nest.raster_plot\nimport matplotlib.pyplot as plt\n\nnest.ResetKernel()"
      ],
      "metadata": {
        "collapsed": false
      },
      "execution_count": null,
      "outputs": [],
      "cell_type": "code"
    },
    {
      "metadata": {},
      "source": [
        "Assigning the simulation parameters to variables.\n\n"
      ],
      "cell_type": "markdown"
    },
    {
      "source": [
        "dt = 0.1\nsimtime = 2000.0"
      ],
      "metadata": {
        "collapsed": false
      },
      "execution_count": null,
      "outputs": [],
      "cell_type": "code"
    },
    {
      "metadata": {},
      "source": [
        "Definition of neural parameters for the GIF model. These parameters are\nextracted by fitting the model to experimental data [1].\n\n.. [1] Mensi, S., Naud, R.,Pozzorini, C., Avermann, M., Petersen, C.C. and\n       Gerstner, W., 2012. Parameter extraction and classification of\n       three cortical neuron types reveals two distinct adaptation\n       mechanisms. Journal of Neurophysiology, 107(6), pp.1756-1775.\n\n"
      ],
      "cell_type": "markdown"
    },
    {
      "source": [
        "neuron_params = {\"C_m\": 83.1,\n                 \"g_L\": 3.7,\n                 \"E_L\": -67.0,\n                 \"Delta_V\": 1.4,\n                 \"V_T_star\": -39.6,\n                 \"t_ref\": 4.0,\n                 \"V_reset\": -36.7,\n                 \"lambda_0\": 1.0,\n                 \"q_stc\": [56.7, -6.9],\n                 \"tau_stc\": [57.8, 218.2],\n                 \"q_sfa\": [11.7, 1.8],\n                 \"tau_sfa\": [53.8, 640.0],\n                 \"tau_syn_ex\": 10.0,\n                 }"
      ],
      "metadata": {
        "collapsed": false
      },
      "execution_count": null,
      "outputs": [],
      "cell_type": "code"
    },
    {
      "metadata": {},
      "source": [
        "Definition of the parameters for the population of GIF neurons.\n\n"
      ],
      "cell_type": "markdown"
    },
    {
      "source": [
        "N_ex = 100  # size of the population\np_ex = 0.3  # connection probability inside the population\nw_ex = 30.0  # synaptic weights inside the population (pA)"
      ],
      "metadata": {
        "collapsed": false
      },
      "execution_count": null,
      "outputs": [],
      "cell_type": "code"
    },
    {
      "metadata": {},
      "source": [
        "Definition of the parameters for the Poisson group and its connection with\n GIF neurons population.\n\n"
      ],
      "cell_type": "markdown"
    },
    {
      "source": [
        "N_noise = 50  # size of Poisson group\nrate_noise = 10.0  # firing rate of Poisson neurons (Hz)\nw_noise = 20.0  # synaptic weights from Poisson to population neurons (pA)"
      ],
      "metadata": {
        "collapsed": false
      },
      "execution_count": null,
      "outputs": [],
      "cell_type": "code"
    },
    {
      "metadata": {},
      "source": [
        "Configuration of the simulation kernel with the previously defined time\nresolution.\n\n"
      ],
      "cell_type": "markdown"
    },
    {
      "source": [
        "nest.SetKernelStatus({\"resolution\": dt})"
      ],
      "metadata": {
        "collapsed": false
      },
      "execution_count": null,
      "outputs": [],
      "cell_type": "code"
    },
    {
      "metadata": {},
      "source": [
        "Building a population of GIF neurons, a group of Poisson neurons and a\nspike detector device for capturing spike times of the population.\n\n"
      ],
      "cell_type": "markdown"
    },
    {
      "source": [
        "population = nest.Create(\"gif_psc_exp\", N_ex, params=neuron_params)\n\nnoise = nest.Create(\"poisson_generator\", N_noise, params={'rate': rate_noise})\n\nspike_det = nest.Create(\"spike_detector\")"
      ],
      "metadata": {
        "collapsed": false
      },
      "execution_count": null,
      "outputs": [],
      "cell_type": "code"
    },
    {
      "metadata": {},
      "source": [
        "Build connections inside the population of GIF neurons population, between\nPoisson group and the population, and also connecting spike detector to\nthe population.\n\n"
      ],
      "cell_type": "markdown"
    },
    {
      "source": [
        "nest.Connect(\n    population, population, {'rule': 'pairwise_bernoulli', 'p': p_ex},\n    syn_spec={\"weight\": w_ex}\n    )\n\nnest.Connect(noise, population, 'all_to_all', syn_spec={\"weight\": w_noise})\n\nnest.Connect(population, spike_det)"
      ],
      "metadata": {
        "collapsed": false
      },
      "execution_count": null,
      "outputs": [],
      "cell_type": "code"
    },
    {
      "metadata": {},
      "source": [
        "Simulation of the network.\n\n"
      ],
      "cell_type": "markdown"
    },
    {
      "source": [
        "nest.Simulate(simtime)"
      ],
      "metadata": {
        "collapsed": false
      },
      "execution_count": null,
      "outputs": [],
      "cell_type": "code"
    },
    {
      "metadata": {},
      "source": [
        "Plotting the results of simulation including raster plot and histogram of\npopulation activity.\n\n"
      ],
      "cell_type": "markdown"
    },
    {
      "source": [
        "nest.raster_plot.from_device(spike_det, hist=True)\nplt.title('Population dynamics')"
      ],
      "metadata": {
        "collapsed": false
      },
      "execution_count": null,
      "outputs": [],
      "cell_type": "code"
    }
  ],
  "nbformat": 4,
  "nbformat_minor": 0
}