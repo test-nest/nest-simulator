{
  "metadata": {
    "language_info": {
      "codemirror_mode": {
        "name": "ipython",
        "version": 3
      },
      "version": "3.5.0",
      "pygments_lexer": "ipython3",
      "file_extension": ".py",
      "name": "python",
      "nbconvert_exporter": "python",
      "mimetype": "text/x-python"
    },
    "kernelspec": {
      "display_name": "Python 3",
      "name": "python3",
      "language": "python"
    }
  },
  "cells": [
    {
      "source": [
        "%matplotlib inline"
      ],
      "metadata": {
        "collapsed": false
      },
      "execution_count": null,
      "outputs": [],
      "cell_type": "code"
    },
    {
      "metadata": {},
      "source": [
        "Numerical phase-plane analysis of the Hodgkin-Huxley neuron\n----------------------------------------------------------------\n\nhh_phaseplane makes a numerical phase-plane analysis of the Hodgkin-Huxley\nneuron (iaf_psc_alpha). Dynamics is investigated in the V-n space (see remark\nbelow). A constant DC can be specified  and its influence on the nullclines\ncan be studied.\n\nRemark\n~~~~~~~~\n\nTo make the two-dimensional analysis possible, the (four-dimensional)\nHodgkin-Huxley formalism needs to be artificially reduced to two dimensions,\nin this case by 'clamping' the two other variables, m an h, to\nconstant values (m_eq and h_eq).\n\nReferences\n~~~~~~~~~~~\n\nSee Also\n~~~~~~~~~~\n\n:Authors:\n\nKEYWORDS:\n\n"
      ],
      "cell_type": "markdown"
    },
    {
      "source": [
        "import nest\nimport numpy as np\nfrom matplotlib import pyplot as plt\n\n\namplitude = 100.  # Set externally applied current amplitude in pA\ndt = 0.1  # simulation step length [ms]\n\nv_min = -100.  # Min membrane potential\nv_max = 42.  # Max membrane potential\nn_min = 0.1  # Min inactivation variable\nn_max = 0.81  # Max inactivation variable\ndelta_v = 2.  # Membrane potential step length\ndelta_n = 0.01  # Inactivation variable step length\n\nV_vec = np.arange(v_min, v_max, delta_v)\nn_vec = np.arange(n_min, n_max, delta_n)\n\nnum_v_steps = len(V_vec)\nnum_n_steps = len(n_vec)\n\nnest.ResetKernel()\nnest.set_verbosity('M_ERROR')\n\nnest.SetKernelStatus({'resolution': dt})\nneuron = nest.Create('hh_psc_alpha')\n\n# Numerically obtain equilibrium state\nnest.Simulate(1000)\n\nm_eq = nest.GetStatus(neuron)[0]['Act_m']\nh_eq = nest.GetStatus(neuron)[0]['Act_h']\n\nnest.SetStatus(neuron, {'I_e': amplitude})  # Apply external current\n\n# Scan state space\nprint('Scanning phase space')\n\nV_matrix = np.zeros([num_n_steps, num_v_steps])\nn_matrix = np.zeros([num_n_steps, num_v_steps])\n\n# pp_data will contain the phase-plane data as a vector field\npp_data = np.zeros([num_n_steps * num_v_steps, 4])\n\ncount = 0\nfor i, V in enumerate(V_vec):\n    for j, n in enumerate(n_vec):\n        # Set V_m and n\n        nest.SetStatus(neuron, {'V_m': V, 'Inact_n': n,\n                                'Act_m': m_eq, 'Act_h': h_eq})\n        # Find state\n        V_m = nest.GetStatus(neuron)[0]['V_m']\n        Inact_n = nest.GetStatus(neuron)[0]['Inact_n']\n\n        # Simulate a short while\n        nest.Simulate(dt)\n\n        # Find difference between new state and old state\n        V_m_new = nest.GetStatus(neuron)[0]['V_m'] - V\n        Inact_n_new = nest.GetStatus(neuron)[0]['Inact_n'] - n\n\n        # Store in vector for later analysis\n        V_matrix[j, i] = abs(V_m_new)\n        n_matrix[j, i] = abs(Inact_n_new)\n        pp_data[count] = np.array([V_m, Inact_n, V_m_new, Inact_n_new])\n\n        if count % 10 == 0:\n            # Write updated state next to old state\n            print('')\n            print('Vm:  \\t', V_m)\n            print('new Vm:\\t', V_m_new)\n            print('Inact_n:', Inact_n)\n            print('new Inact_n:', Inact_n_new)\n\n        count += 1\n\n# Set state for AP generation\nnest.SetStatus(neuron, {'V_m': -34., 'Inact_n': 0.2,\n                        'Act_m': m_eq, 'Act_h': h_eq})\n\nprint('')\nprint('AP-trajectory')\n# ap will contain the trace of a single action potential as one possible\n# numerical solution in the vector field\nap = np.zeros([1000, 2])\nfor i in range(1, 1001):\n    # Find state\n    V_m = nest.GetStatus(neuron)[0]['V_m']\n    Inact_n = nest.GetStatus(neuron)[0]['Inact_n']\n\n    if i % 10 == 0:\n        # Write new state next to old state\n        print('Vm: \\t', V_m)\n        print('Inact_n:', Inact_n)\n    ap[i - 1] = np.array([V_m, Inact_n])\n\n    # Simulate again\n    nest.SetStatus(neuron, {'Act_m': m_eq, 'Act_h': h_eq})\n    nest.Simulate(dt)\n\n# Make analysis\nprint('')\nprint('Plot analysis')\n\nnullcline_V = []\nnullcline_n = []\n\nprint('Searching nullclines')\nfor i in range(0, len(V_vec)):\n    index = np.nanargmin(V_matrix[:][i])\n    if index != 0 and index != len(n_vec):\n        nullcline_V.append([V_vec[i], n_vec[index]])\n\n    index = np.nanargmin(n_matrix[:][i])\n    if index != 0 and index != len(n_vec):\n        nullcline_n.append([V_vec[i], n_vec[index]])\n\nprint('Plotting vector field')\nfactor = 0.1\nfor i in range(0, np.shape(pp_data)[0], 3):\n    plt.plot([pp_data[i][0], pp_data[i][0] + factor * pp_data[i][2]],\n             [pp_data[i][1], pp_data[i][1] + factor * pp_data[i][3]],\n             color=[0.6, 0.6, 0.6])\n\nplt.plot(nullcline_V[:][0], nullcline_V[:][1], linewidth=2.0)\nplt.plot(nullcline_n[:][0], nullcline_n[:][1], linewidth=2.0)\n\nplt.xlim([V_vec[0], V_vec[-1]])\nplt.ylim([n_vec[0], n_vec[-1]])\n\nplt.plot(ap[:][0], ap[:][1], color='black', linewidth=1.0)\n\nplt.xlabel('Membrane potential V [mV]')\nplt.ylabel('Inactivation variable n')\nplt.title('Phase space of the Hodgkin-Huxley Neuron')\n\nplt.show()"
      ],
      "metadata": {
        "collapsed": false
      },
      "execution_count": null,
      "outputs": [],
      "cell_type": "code"
    }
  ],
  "nbformat": 4,
  "nbformat_minor": 0
}