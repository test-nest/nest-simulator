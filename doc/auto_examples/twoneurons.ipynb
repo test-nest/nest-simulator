{
  "metadata": {
    "language_info": {
      "codemirror_mode": {
        "name": "ipython",
        "version": 3
      },
      "version": "3.5.0",
      "pygments_lexer": "ipython3",
      "file_extension": ".py",
      "name": "python",
      "nbconvert_exporter": "python",
      "mimetype": "text/x-python"
    },
    "kernelspec": {
      "display_name": "Python 3",
      "name": "python3",
      "language": "python"
    }
  },
  "cells": [
    {
      "source": [
        "%matplotlib inline"
      ],
      "metadata": {
        "collapsed": false
      },
      "execution_count": null,
      "outputs": [],
      "cell_type": "code"
    },
    {
      "metadata": {},
      "source": [
        "Two neurons\n----------------\n\nReferences\n~~~~~~~~~~~~\n\nSee Also\n~~~~~~~~~~\n\n:Authors:\n\nKEYWORDS:\n\n"
      ],
      "cell_type": "markdown"
    },
    {
      "source": [
        "import pylab\n\nimport nest\nimport nest.voltage_trace\n\nweight = 20.0\ndelay = 1.0\nstim = 1000.0\n\nneuron1 = nest.Create(\"iaf_psc_alpha\")\nneuron2 = nest.Create(\"iaf_psc_alpha\")\nvoltmeter = nest.Create(\"voltmeter\")\n\nnest.SetStatus(neuron1, {\"I_e\": stim})\nnest.Connect(neuron1, neuron2, syn_spec={'weight': weight, 'delay': delay})\nnest.Connect(voltmeter, neuron2)\n\nnest.Simulate(100.0)\n\nnest.voltage_trace.from_device(voltmeter)\nnest.voltage_trace.show()"
      ],
      "metadata": {
        "collapsed": false
      },
      "execution_count": null,
      "outputs": [],
      "cell_type": "code"
    }
  ],
  "nbformat": 4,
  "nbformat_minor": 0
}