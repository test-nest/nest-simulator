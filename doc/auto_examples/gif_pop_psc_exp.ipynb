{
  "metadata": {
    "language_info": {
      "codemirror_mode": {
        "name": "ipython",
        "version": 3
      },
      "version": "3.5.0",
      "pygments_lexer": "ipython3",
      "file_extension": ".py",
      "name": "python",
      "nbconvert_exporter": "python",
      "mimetype": "text/x-python"
    },
    "kernelspec": {
      "display_name": "Python 3",
      "name": "python3",
      "language": "python"
    }
  },
  "cells": [
    {
      "source": [
        "%matplotlib inline"
      ],
      "metadata": {
        "collapsed": false
      },
      "execution_count": null,
      "outputs": [],
      "cell_type": "code"
    },
    {
      "metadata": {},
      "source": [
        "Population rate model of generalized integrate-and-fire neurons\n--------------------------------------------------------------------\n\nThis script simulates a finite network of generalized integrate-and-fire\n(GIF) neurons directly on the mesoscopic population level using the effective\nstochastic population rate dynamics derived in the paper [1]. The stochastic\npopulation dynamics is implemented in the NEST model gif_pop_psc_exp. We\ndemonstrate this model using the example of a Brunel network of two coupled\npopulations, one excitatory and one inhibitory population.\n\nNote that the population model represents the mesoscopic level\ndescription of the corresponding microscopic network based on the\nNEST model gif_psc_exp.\n\nReferences\n~~~~~~~~~~~\n\n.. [1] Schwalger et al. PLoS Comput Biol. 2017\n\n\nSee Also\n~~~~~~~~~~\n\n:Authors:\n\nKEYWORDS:\n\n"
      ],
      "cell_type": "markdown"
    },
    {
      "source": [
        "# Loading the necessary modules:\nimport numpy as np\nimport matplotlib.pyplot as plt\nimport nest"
      ],
      "metadata": {
        "collapsed": false
      },
      "execution_count": null,
      "outputs": [],
      "cell_type": "code"
    },
    {
      "metadata": {},
      "source": [
        "We first set the parameters of the microscopic model:\n\n"
      ],
      "cell_type": "markdown"
    },
    {
      "source": [
        "# all times given in milliseconds\ndt = 0.5\ndt_rec = 1.\n\n# Simulation time\nt_end = 2000.\n\n# Parameters\nsize = 200\nN = np.array([4, 1]) * size\nM = len(N)  # number of populations\n\n# neuronal parameters\nt_ref = 4. * np.ones(M)  # absolute refractory period\ntau_m = 20 * np.ones(M)  # membrane time constant\nmu = 24. * np.ones(M)  # constant base current mu=R*(I0+Vrest)\nc = 10. * np.ones(M)  # base rate of exponential link function\nDelta_u = 2.5 * np.ones(M)  # softness of exponential link function\nV_reset = 0. * np.ones(M)  # Reset potential\nV_th = 15. * np.ones(M)  # baseline threshold (non-accumulating part)\ntau_sfa_exc = [100., 1000.]  # adaptation time constants of excitatory neurons\ntau_sfa_inh = [100., 1000.]  # adaptation time constants of inhibitory neurons\nJ_sfa_exc = [1000., 1000.]  # size of feedback kernel theta\n#                             (= area under exponential) in mV*ms\nJ_sfa_inh = [1000., 1000.]  # in mV*ms\ntau_theta = np.array([tau_sfa_exc, tau_sfa_inh])\nJ_theta = np.array([J_sfa_exc, J_sfa_inh])\n\n# connectivity\nJ = 0.3  # excitatory synaptic weight in mV if number of input connections\n#          is C0 (see below)\ng = 5.  # inhibition-to-excitation ratio\npconn = 0.2 * np.ones((M, M))\ndelay = 1. * np.ones((M, M))\n\nC0 = np.array([[800, 200], [800, 200]]) * 0.2  # constant reference matrix\nC = np.vstack((N, N)) * pconn  # numbers of input connections\n\nJ_syn = np.array([[J, -g * J], [J, -g * J]]) * \\\n    C0 / C  # final synaptic weights scaling as 1/C\n\ntaus1_ = [3., 6.]  # time constants of exc./inh. post-synaptic currents (PSC's)\ntaus1 = np.array([taus1_ for k in range(M)])\n\n\n# step current input\nstep = [[20.], [20.]]  # jump size of mu in mV\ntstep = np.array([[1500.], [1500.]])  # times of jumps\n\n# synaptic time constants of excitatory and inhibitory connections\ntau_ex = 3.  # in ms\ntau_in = 6.  # in ms"
      ],
      "metadata": {
        "collapsed": false
      },
      "execution_count": null,
      "outputs": [],
      "cell_type": "code"
    },
    {
      "metadata": {},
      "source": [
        "Simulation on the mesoscopic level\n----------------------------------\n\nTo directly simulate the mesoscopic population activities (i.e. generating\nthe activity of a finite-size population without simulating single\nneurons), we can build the populations using the NEST model\ngif_pop_psc_exp:\n\n"
      ],
      "cell_type": "markdown"
    },
    {
      "source": [
        "nest.set_verbosity(\"M_WARNING\")\nnest.ResetKernel()\nnest.SetKernelStatus(\n    {'resolution': dt, 'print_time': True, 'local_num_threads': 1})\nt0 = nest.GetKernelStatus('time')\n\nnest_pops = nest.Create('gif_pop_psc_exp', M)\n\nC_m = 250.  # irrelevant value for membrane capacity, cancels out in simulation\ng_L = C_m / tau_m\nfor i, nest_i in enumerate(nest_pops):\n    nest.SetStatus([nest_i], {\n        'C_m': C_m,\n        'I_e': mu[i] * g_L[i],\n        'lambda_0': c[i],  # in Hz!\n        'Delta_V': Delta_u[i],\n        'tau_m': tau_m[i],\n        'tau_sfa': tau_theta[i],\n        'q_sfa': J_theta[i] / tau_theta[i],  # [J_theta]= mV*ms -> [q_sfa]=mV\n        'V_T_star': V_th[i],\n        'V_reset': V_reset[i],\n        'len_kernel': -1,             # -1 triggers automatic history size\n        'N': N[i],\n        't_ref': t_ref[i],\n        'tau_syn_ex': max([tau_ex, dt]),\n        'tau_syn_in': max([tau_in, dt]),\n        'E_L': 0.\n    })\n\n\n# connect the populations\ng_syn = np.ones_like(J_syn)  # synaptic conductance\ng_syn[:, 0] = C_m / tau_ex\ng_syn[:, 1] = C_m / tau_in\nfor i, nest_i in enumerate(nest_pops):\n    for j, nest_j in enumerate(nest_pops):\n        nest.SetDefaults('static_synapse', {\n            'weight': J_syn[i, j] * g_syn[i, j] * pconn[i, j],\n            'delay': delay[i, j]})\n        nest.Connect([nest_j], [nest_i], 'all_to_all')"
      ],
      "metadata": {
        "collapsed": false
      },
      "execution_count": null,
      "outputs": [],
      "cell_type": "code"
    },
    {
      "metadata": {},
      "source": [
        "To record the instantaneous population rate Abar(t) we use a multimeter,\nand to get the population activity A_N(t) we use spike detector:\n\n"
      ],
      "cell_type": "markdown"
    },
    {
      "source": [
        "# monitor the output using a multimeter, this only records with dt_rec!\nnest_mm = nest.Create('multimeter')\nnest.SetStatus(nest_mm, {'record_from': ['n_events', 'mean'],\n                         'withgid': True,\n                         'withtime': False,\n                         'interval': dt_rec})\nnest.Connect(nest_mm, nest_pops, 'all_to_all')\n\n# monitor the output using a spike detector\nnest_sd = []\nfor i, nest_i in enumerate(nest_pops):\n    nest_sd.append(nest.Create('spike_detector'))\n    nest.SetStatus(nest_sd[i], {'withgid': False,\n                                'withtime': True,\n                                'time_in_steps': True})\n    nest.SetDefaults('static_synapse', {'weight': 1.,\n                                        'delay': dt})\n    nest.Connect([nest_pops[i]], nest_sd[i], 'all_to_all')"
      ],
      "metadata": {
        "collapsed": false
      },
      "execution_count": null,
      "outputs": [],
      "cell_type": "code"
    },
    {
      "metadata": {},
      "source": [
        "All neurons in a given population will be stimulated with a step input\ncurrent:\n\n"
      ],
      "cell_type": "markdown"
    },
    {
      "source": [
        "# set initial value (at t0+dt) of step current generator to zero\ntstep = np.hstack((dt * np.ones((M, 1)), tstep))\nstep = np.hstack((np.zeros((M, 1)), step))\n\n# create the step current devices\nnest_stepcurrent = nest.Create('step_current_generator', M)\n# set the parameters for the step currents\nfor i in range(M):\n    nest.SetStatus([nest_stepcurrent[i]], {\n        'amplitude_times': tstep[i] + t0,\n        'amplitude_values': step[i] * g_L[i], 'origin': t0, 'stop': t_end})\n    pop_ = nest_pops[i]\n    if type(nest_pops[i]) == int:\n        pop_ = [pop_]\n    nest.Connect([nest_stepcurrent[i]], pop_, syn_spec={'weight': 1.})"
      ],
      "metadata": {
        "collapsed": false
      },
      "execution_count": null,
      "outputs": [],
      "cell_type": "code"
    },
    {
      "metadata": {},
      "source": [
        "We can now start the simulation:\n\n"
      ],
      "cell_type": "markdown"
    },
    {
      "source": [
        "local_num_threads = 1\nseed = 1\nmsd = local_num_threads * seed + 1  # master seed\nnest.SetKernelStatus({'rng_seeds': range(msd, msd + local_num_threads)})\n\nt = np.arange(0., t_end, dt_rec)\nA_N = np.ones((t.size, M)) * np.nan\nAbar = np.ones_like(A_N) * np.nan\n\n# simulate 1 step longer to make sure all t are simulated\nnest.Simulate(t_end + dt)\ndata_mm = nest.GetStatus(nest_mm)[0]['events']\nfor i, nest_i in enumerate(nest_pops):\n    a_i = data_mm['mean'][data_mm['senders'] == nest_i]\n    a = a_i / N[i] / dt\n    min_len = np.min([len(a), len(Abar)])\n    Abar[:min_len, i] = a[:min_len]\n\n    data_sd = nest.GetStatus(nest_sd[i], keys=['events'])[0][0]['times']\n    data_sd = data_sd * dt - t0\n    bins = np.concatenate((t, np.array([t[-1] + dt_rec])))\n    A = np.histogram(data_sd, bins=bins)[0] / float(N[i]) / dt_rec\n    A_N[:, i] = A"
      ],
      "metadata": {
        "collapsed": false
      },
      "execution_count": null,
      "outputs": [],
      "cell_type": "code"
    },
    {
      "metadata": {},
      "source": [
        "and plot the activity:\n\n"
      ],
      "cell_type": "markdown"
    },
    {
      "source": [
        "plt.figure(1)\nplt.clf()\nplt.subplot(2, 1, 1)\nplt.plot(t, A_N * 1000)  # plot population activities (in Hz)\nplt.ylabel(r'$A_N$ [Hz]')\nplt.title('Population activities (mesoscopic sim.)')\nplt.subplot(2, 1, 2)\nplt.plot(t, Abar * 1000)  # plot instantaneous population rates (in Hz)\nplt.ylabel(r'$\\bar A$ [Hz]')\nplt.xlabel('time [ms]')"
      ],
      "metadata": {
        "collapsed": false
      },
      "execution_count": null,
      "outputs": [],
      "cell_type": "code"
    },
    {
      "metadata": {},
      "source": [
        "Microscopic (\"direct\") simulation\n----------------------------------\n\nAs mentioned above, the population model gif_pop_psc_exp directly\nsimulates the mesoscopic population activities, i.e. without the need to\n simulate single neurons. On the other hand, if we want to know single\nneuron activities, we must simulate on the microscopic #level. This is\npossible by building a corresponding network of gif_psc_exp neuron models:\n\n"
      ],
      "cell_type": "markdown"
    },
    {
      "source": [
        "nest.ResetKernel()\nnest.SetKernelStatus(\n    {'resolution': dt, 'print_time': True, 'local_num_threads': 1})\nt0 = nest.GetKernelStatus('time')\n\nnest_pops = nest.Create('gif_pop_psc_exp', M)\n\nnest_pops = []\nfor k in range(M):\n    nest_pops.append(nest.Create('gif_psc_exp', N[k]))\n\n# set single neuron properties\nfor i, nest_i in enumerate(nest_pops):\n    nest.SetStatus(nest_i, {\n        'C_m': C_m,\n        'I_e': mu[i] * g_L[i],\n        'lambda_0': c[i],  # in Hz!\n        'Delta_V': Delta_u[i],\n        'g_L': g_L[i],\n        'tau_sfa': tau_theta[i],\n        'q_sfa': J_theta[i] / tau_theta[i],  # [J_theta]= mV*ms -> [q_sfa]=mV\n        'V_T_star': V_th[i],\n        'V_reset': V_reset[i],\n        't_ref': t_ref[i],\n        'tau_syn_ex': max([tau_ex, dt]),\n        'tau_syn_in': max([tau_in, dt]),\n        'E_L': 0.,\n        'V_m': 0.\n    })\n\n\n# connect the populations\nfor i, nest_i in enumerate(nest_pops):\n    for j, nest_j in enumerate(nest_pops):\n        nest.SetDefaults('static_synapse', {\n            'weight': J_syn[i, j] * g_syn[i, j],\n            'delay': delay[i, j]})\n\n        if np.allclose(pconn[i, j], 1.):\n            conn_spec = {'rule': 'all_to_all'}\n        else:\n            conn_spec = {\n                'rule': 'fixed_indegree', 'indegree': int(pconn[i, j] * N[j])}\n\n        nest.Connect(nest_j, nest_i, conn_spec)"
      ],
      "metadata": {
        "collapsed": false
      },
      "execution_count": null,
      "outputs": [],
      "cell_type": "code"
    },
    {
      "metadata": {},
      "source": [
        "We want to record all spikes of each population in order to compute the\nmesoscopic population activities A_N(t) from the microscopic simulation.\nWe also record the membrane potentials of five example neurons:\n\n"
      ],
      "cell_type": "markdown"
    },
    {
      "source": [
        "# monitor the output using a multimeter and a spike detector\nnest_sd = []\nfor i, nest_i in enumerate(nest_pops):\n    nest_sd.append(nest.Create('spike_detector'))\n    nest.SetStatus(nest_sd[i], {'withgid': False,\n                                'withtime': True, 'time_in_steps': True})\n    nest.SetDefaults('static_synapse', {'weight': 1., 'delay': dt})\n\n    # record all spikes from population to compute population activity\n    nest.Connect(nest_pops[i], nest_sd[i], 'all_to_all')\n\nNrecord = [5, 0]  # for each population \"i\" the first Nrecord[i] neurons are\n#                   recorded\nnest_mm_Vm = []\nfor i, nest_i in enumerate(nest_pops):\n    nest_mm_Vm.append(nest.Create('multimeter'))\n    nest.SetStatus(nest_mm_Vm[i], {'record_from': ['V_m'],\n                                   'withgid': True, 'withtime': True,\n                                   'interval': dt_rec})\n    nest.Connect(nest_mm_Vm[i], list(\n        np.array(nest_pops[i])[:Nrecord[i]]), 'all_to_all')"
      ],
      "metadata": {
        "collapsed": false
      },
      "execution_count": null,
      "outputs": [],
      "cell_type": "code"
    },
    {
      "metadata": {},
      "source": [
        "As before, all neurons in a given population will be stimulated with a\nstep input current. The following code block is identical to the one for\nthe mesoscopic simulation above:\n\n"
      ],
      "cell_type": "markdown"
    },
    {
      "source": [
        "# create the step current devices if they do not exist already\nnest_stepcurrent = nest.Create('step_current_generator', M)\n# set the parameters for the step currents\nfor i in range(M):\n    nest.SetStatus([nest_stepcurrent[i]], {\n        'amplitude_times': tstep[i] + t0,\n        'amplitude_values': step[i] * g_L[i], 'origin': t0, 'stop': t_end})\n    # optionally a stopping time may be added by: 'stop': sim_T + t0\n    pop_ = nest_pops[i]\n    if type(nest_pops[i]) == int:\n        pop_ = [pop_]\n    nest.Connect([nest_stepcurrent[i]], pop_, syn_spec={'weight': 1.})"
      ],
      "metadata": {
        "collapsed": false
      },
      "execution_count": null,
      "outputs": [],
      "cell_type": "code"
    },
    {
      "metadata": {},
      "source": [
        "We can now start the microscopic simulation:\n\n"
      ],
      "cell_type": "markdown"
    },
    {
      "source": [
        "local_num_threads = 1\nseed = 1\nmsd = local_num_threads * seed + 1  # master seed\nnest.SetKernelStatus({'rng_seeds': range(msd, msd + local_num_threads)})\n\nt = np.arange(0., t_end, dt_rec)\nA_N = np.ones((t.size, M)) * np.nan\n\n# simulate 1 step longer to make sure all t are simulated\nnest.Simulate(t_end + dt)"
      ],
      "metadata": {
        "collapsed": false
      },
      "execution_count": null,
      "outputs": [],
      "cell_type": "code"
    },
    {
      "metadata": {},
      "source": [
        "Let's retrieve the data of the spike detector and plot the activity of the\n excitatory population (in Hz):\n\n"
      ],
      "cell_type": "markdown"
    },
    {
      "source": [
        "for i, nest_i in enumerate(nest_pops):\n    data_sd = nest.GetStatus(\n        nest_sd[i], keys=['events'])[0][0]['times'] * dt - t0\n    bins = np.concatenate((t, np.array([t[-1] + dt_rec])))\n    A = np.histogram(data_sd, bins=bins)[0] / float(N[i]) / dt_rec\n    A_N[:, i] = A * 1000  # in Hz\n\nt = np.arange(dt, t_end + dt, dt_rec)\nplt.figure(2)\nplt.plot(t, A_N[:, 0])\nplt.xlabel('time [ms]')\nplt.ylabel('population activity [Hz]')\nplt.title('Population activities (microscopic sim.)')"
      ],
      "metadata": {
        "collapsed": false
      },
      "execution_count": null,
      "outputs": [],
      "cell_type": "code"
    },
    {
      "metadata": {},
      "source": [
        "This should look similar to the population activity obtained from the\nmesoscopic simulation based on the NEST model gif_pop_psc_exp (cf. figure\n1). Now we retrieve the data of the multimeter, which allows us to look at\nthe membrane potentials of single neurons. Here we plot the voltage traces\n(in mV) of five example neurons:\n\n"
      ],
      "cell_type": "markdown"
    },
    {
      "source": [
        "voltage = []\nfor i in range(M):\n    if Nrecord[i] > 0:\n        senders = nest.GetStatus(nest_mm_Vm[i])[0]['events']['senders']\n        v = nest.GetStatus(nest_mm_Vm[i])[0]['events']['V_m']\n        voltage.append(\n            np.array([v[np.where(senders == j)] for j in set(senders)]))\n    else:\n        voltage.append(np.array([]))\n\n\nf, axarr = plt.subplots(Nrecord[0], sharex=True)\nfor i in range(Nrecord[0]):\n    axarr[i].plot(voltage[0][i])\n    axarr[i].set_yticks((0, 15, 30))\naxarr[i].set_xlabel('time [ms]')\naxarr[2].set_ylabel('membrane potential [mV]')\naxarr[0].set_title('5 example GIF neurons (microscopic sim.)')"
      ],
      "metadata": {
        "collapsed": false
      },
      "execution_count": null,
      "outputs": [],
      "cell_type": "code"
    },
    {
      "metadata": {},
      "source": [
        "Note that this plots only the subthreshold membrane potentials but not the\n spikes (as with every leaky integrate-and-fire model).\n\n"
      ],
      "cell_type": "markdown"
    },
    {
      "source": [
        "plt.show()"
      ],
      "metadata": {
        "collapsed": false
      },
      "execution_count": null,
      "outputs": [],
      "cell_type": "code"
    }
  ],
  "nbformat": 4,
  "nbformat_minor": 0
}