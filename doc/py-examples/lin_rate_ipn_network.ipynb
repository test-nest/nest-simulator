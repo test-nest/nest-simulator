{
  "metadata": {
    "language_info": {
      "pygments_lexer": "ipython3",
      "version": "3.5.0",
      "nbconvert_exporter": "python",
      "mimetype": "text/x-python",
      "name": "python",
      "file_extension": ".py",
      "codemirror_mode": {
        "version": 3,
        "name": "ipython"
      }
    },
    "kernelspec": {
      "name": "python3",
      "language": "python",
      "display_name": "Python 3"
    }
  },
  "nbformat_minor": 0,
  "nbformat": 4,
  "cells": [
    {
      "execution_count": null,
      "metadata": {
        "collapsed": false
      },
      "cell_type": "code",
      "outputs": [],
      "source": [
        "%matplotlib inline"
      ]
    },
    {
      "metadata": {},
      "cell_type": "markdown",
      "source": [
        "Network of linear rate neurons\n-----------------------------------\n\nThis script simulates an excitatory and an inhibitory population\nof lin_rate_ipn neurons with delayed excitatory and instantaneous\ninhibitory connections. The rate of all neurons is recorded using\na multimeter. The resulting rate for one excitatory and one\ninhibitory neuron is plotted.\n\nReferences\n~~~~~~~~~~~\n\nSee Also\n~~~~~~~~~~\n\n:Authors:\n\nKEYWORDS:\n\n"
      ]
    },
    {
      "execution_count": null,
      "metadata": {
        "collapsed": false
      },
      "cell_type": "code",
      "outputs": [],
      "source": [
        "import nest\nimport pylab\nimport numpy"
      ]
    },
    {
      "metadata": {},
      "cell_type": "markdown",
      "source": [
        "Assigning the simulation parameters to variables.\n\n"
      ]
    },
    {
      "execution_count": null,
      "metadata": {
        "collapsed": false
      },
      "cell_type": "code",
      "outputs": [],
      "source": [
        "dt = 0.1  # the resolution in ms\nT = 100.0  # Simulation time in ms"
      ]
    },
    {
      "metadata": {},
      "cell_type": "markdown",
      "source": [
        "Definition of the number of neurons\n\n"
      ]
    },
    {
      "execution_count": null,
      "metadata": {
        "collapsed": false
      },
      "cell_type": "code",
      "outputs": [],
      "source": [
        "order = 50\nNE = int(4 * order)  # number of excitatory neurons\nNI = int(1 * order)  # number of inhibitory neurons\nN = int(NE+NI)       # total number of neurons"
      ]
    },
    {
      "metadata": {},
      "cell_type": "markdown",
      "source": [
        "Definition of the connections\n\n"
      ]
    },
    {
      "execution_count": null,
      "metadata": {
        "collapsed": false
      },
      "cell_type": "code",
      "outputs": [],
      "source": [
        "d_e = 5.   # delay of excitatory connections in ms\ng = 5.0  # ratio inhibitory weight/excitatory weight\nepsilon = 0.1  # connection probability\nw = 0.1/numpy.sqrt(N)  # excitatory connection strength\n\nKE = int(epsilon * NE)  # number of excitatory synapses per neuron (outdegree)\nKI = int(epsilon * NI)  # number of inhibitory synapses per neuron (outdegree)\nK_tot = int(KI + KE)  # total number of synapses per neuron\nconnection_rule = 'fixed_outdegree'  # connection rule"
      ]
    },
    {
      "metadata": {},
      "cell_type": "markdown",
      "source": [
        "Definition of the neuron model and its neuron parameters\n\n"
      ]
    },
    {
      "execution_count": null,
      "metadata": {
        "collapsed": false
      },
      "cell_type": "code",
      "outputs": [],
      "source": [
        "neuron_model = 'lin_rate_ipn'  # neuron model\nneuron_params = {'linear_summation': True,\n                 # type of non-linearity (not affecting linear rate models)\n                 'tau': 10.0,\n                 # time constant of neuronal dynamics in ms\n                 'mean': 2.0,\n                 # mean of Gaussian white noise input\n                 'std': 5.\n                 # standard deviation of Gaussian white noise input\n                 }"
      ]
    },
    {
      "metadata": {},
      "cell_type": "markdown",
      "source": [
        "Configuration of the simulation kernel by the previously defined time\nresolution used in the simulation. Setting \"print_time\" to True prints\nthe already processed simulation time as well as its percentage of the\ntotal simulation time.\n\n"
      ]
    },
    {
      "execution_count": null,
      "metadata": {
        "collapsed": false
      },
      "cell_type": "code",
      "outputs": [],
      "source": [
        "nest.ResetKernel()\nnest.SetKernelStatus({\"resolution\": dt, \"use_wfr\": False,\n                      \"print_time\": True,\n                      \"overwrite_files\": True})\n\nprint(\"Building network\")"
      ]
    },
    {
      "metadata": {},
      "cell_type": "markdown",
      "source": [
        "Configuration of the neuron model using SetDefaults().\n\n"
      ]
    },
    {
      "execution_count": null,
      "metadata": {
        "collapsed": false
      },
      "cell_type": "code",
      "outputs": [],
      "source": [
        "nest.SetDefaults(neuron_model, neuron_params)"
      ]
    },
    {
      "metadata": {},
      "cell_type": "markdown",
      "source": [
        "Creation of the nodes using `Create`.\n\n"
      ]
    },
    {
      "execution_count": null,
      "metadata": {
        "collapsed": false
      },
      "cell_type": "code",
      "outputs": [],
      "source": [
        "n_e = nest.Create(neuron_model, NE)\nn_i = nest.Create(neuron_model, NI)"
      ]
    },
    {
      "metadata": {},
      "cell_type": "markdown",
      "source": [
        "To record from the rate neurons a multimeter is created and the parameter\n`record_from` is set to `'rate'` as well as the recording interval to `dt`\n\n"
      ]
    },
    {
      "execution_count": null,
      "metadata": {
        "collapsed": false
      },
      "cell_type": "code",
      "outputs": [],
      "source": [
        "mm = nest.Create('multimeter', params={'record_from': ['rate'],\n                                       'interval': dt})"
      ]
    },
    {
      "metadata": {},
      "cell_type": "markdown",
      "source": [
        "Specify synapse and connection dictionaries:\nConnections originating from excitatory neurons are associatated\nwith a delay d (rate_connection_delayed).\nConnections originating from inhibitory neurons are not associatated\nwith a delay (rate_connection_instantaneous).\n\n"
      ]
    },
    {
      "execution_count": null,
      "metadata": {
        "collapsed": false
      },
      "cell_type": "code",
      "outputs": [],
      "source": [
        "syn_e = {'weight': w, 'delay': d_e, 'model': 'rate_connection_delayed'}\nsyn_i = {'weight': -g*w, 'model': 'rate_connection_instantaneous'}\nconn_e = {'rule': connection_rule, 'outdegree': KE}\nconn_i = {'rule': connection_rule, 'outdegree': KI}"
      ]
    },
    {
      "metadata": {},
      "cell_type": "markdown",
      "source": [
        "Connect rate units\n\n"
      ]
    },
    {
      "execution_count": null,
      "metadata": {
        "collapsed": false
      },
      "cell_type": "code",
      "outputs": [],
      "source": [
        "nest.Connect(n_e, n_e, conn_e, syn_e)\nnest.Connect(n_i, n_i, conn_i, syn_i)\nnest.Connect(n_e, n_i, conn_i, syn_e)\nnest.Connect(n_i, n_e, conn_e, syn_i)"
      ]
    },
    {
      "metadata": {},
      "cell_type": "markdown",
      "source": [
        "Connect recording device to rate units\n\n"
      ]
    },
    {
      "execution_count": null,
      "metadata": {
        "collapsed": false
      },
      "cell_type": "code",
      "outputs": [],
      "source": [
        "nest.Connect(mm, n_e+n_i)"
      ]
    },
    {
      "metadata": {},
      "cell_type": "markdown",
      "source": [
        "Simulate the network\n\n"
      ]
    },
    {
      "execution_count": null,
      "metadata": {
        "collapsed": false
      },
      "cell_type": "code",
      "outputs": [],
      "source": [
        "nest.Simulate(T)"
      ]
    },
    {
      "metadata": {},
      "cell_type": "markdown",
      "source": [
        "Plot rates of one excitatory and one inhibitory neuron\n\n"
      ]
    },
    {
      "execution_count": null,
      "metadata": {
        "collapsed": false
      },
      "cell_type": "code",
      "outputs": [],
      "source": [
        "data = nest.GetStatus(mm)[0]['events']\nrate_ex = data['rate'][numpy.where(data['senders'] == n_e[0])]\nrate_in = data['rate'][numpy.where(data['senders'] == n_i[0])]\ntimes = data['times'][numpy.where(data['senders'] == n_e[0])]\n\npylab.figure()\npylab.plot(times, rate_ex, label='excitatory')\npylab.plot(times, rate_in, label='inhibitory')\npylab.xlabel('time (ms)')\npylab.ylabel('rate (a.u.)')\npylab.show()"
      ]
    }
  ]
}