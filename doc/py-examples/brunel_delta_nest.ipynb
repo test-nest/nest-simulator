{
  "metadata": {
    "language_info": {
      "pygments_lexer": "ipython3",
      "version": "3.5.0",
      "nbconvert_exporter": "python",
      "mimetype": "text/x-python",
      "name": "python",
      "file_extension": ".py",
      "codemirror_mode": {
        "version": 3,
        "name": "ipython"
      }
    },
    "kernelspec": {
      "name": "python3",
      "language": "python",
      "display_name": "Python 3"
    }
  },
  "nbformat_minor": 0,
  "nbformat": 4,
  "cells": [
    {
      "execution_count": null,
      "metadata": {
        "collapsed": false
      },
      "cell_type": "code",
      "outputs": [],
      "source": [
        "%matplotlib inline"
      ]
    },
    {
      "metadata": {},
      "cell_type": "markdown",
      "source": [
        "Random balanced network (delta synapses)\n----------------------------------------------\n\nThis script simulates an excitatory and an inhibitory population on\nthe basis of the network used in [1]\n\nWhen connecting the network customary synapse models are used, which\nallow for querying the number of created synapses. Using spike\ndetectors the average firing rates of the neurons in the populations\nare established. The building as well as the simulation time of the\nnetwork are recorded.\n\nReferences\n~~~~~~~~~~~~~~\n\n.. [1] Brunel N, Dynamics of Sparsely Connected Networks of Excitatory and\n       Inhibitory Spiking Neurons, Journal of Computational Neuroscience 8,\n       183-208 (2000).\n\nSee Also\n~~~~~~~~~~\n\n:Authors:\n\nKEYWORDS:\n\n"
      ]
    },
    {
      "metadata": {},
      "cell_type": "markdown",
      "source": [
        "Import all necessary modules for simulation, analysis and plotting.\n\n"
      ]
    },
    {
      "execution_count": null,
      "metadata": {
        "collapsed": false
      },
      "cell_type": "code",
      "outputs": [],
      "source": [
        "import nest\nimport nest.raster_plot\n\nimport time\nfrom numpy import exp\n\nnest.ResetKernel()"
      ]
    },
    {
      "metadata": {},
      "cell_type": "markdown",
      "source": [
        "Assigning the current time to a variable in order to determine the build\ntime of the network.\n\n"
      ]
    },
    {
      "execution_count": null,
      "metadata": {
        "collapsed": false
      },
      "cell_type": "code",
      "outputs": [],
      "source": [
        "startbuild = time.time()"
      ]
    },
    {
      "metadata": {},
      "cell_type": "markdown",
      "source": [
        "Assigning the simulation parameters to variables.\n\n"
      ]
    },
    {
      "execution_count": null,
      "metadata": {
        "collapsed": false
      },
      "cell_type": "code",
      "outputs": [],
      "source": [
        "dt = 0.1  # the resolution in ms\nsimtime = 1000.0  # Simulation time in ms\ndelay = 1.5  # synaptic delay in ms"
      ]
    },
    {
      "metadata": {},
      "cell_type": "markdown",
      "source": [
        "Definition of the parameters crucial for asynchronous irregular firing of\nthe neurons.\n\n"
      ]
    },
    {
      "execution_count": null,
      "metadata": {
        "collapsed": false
      },
      "cell_type": "code",
      "outputs": [],
      "source": [
        "g = 5.0  # ratio inhibitory weight/excitatory weight\neta = 2.0  # external rate relative to threshold rate\nepsilon = 0.1  # connection probability"
      ]
    },
    {
      "metadata": {},
      "cell_type": "markdown",
      "source": [
        "Definition of the number of neurons in the network and the number of neuron\n recorded from\n\n"
      ]
    },
    {
      "execution_count": null,
      "metadata": {
        "collapsed": false
      },
      "cell_type": "code",
      "outputs": [],
      "source": [
        "order = 2500\nNE = 4 * order  # number of excitatory neurons\nNI = 1 * order  # number of inhibitory neurons\nN_neurons = NE + NI  # number of neurons in total\nN_rec = 50  # record from 50 neurons"
      ]
    },
    {
      "metadata": {},
      "cell_type": "markdown",
      "source": [
        "Definition of connectivity parameter\n\n"
      ]
    },
    {
      "execution_count": null,
      "metadata": {
        "collapsed": false
      },
      "cell_type": "code",
      "outputs": [],
      "source": [
        "CE = int(epsilon * NE)  # number of excitatory synapses per neuron\nCI = int(epsilon * NI)  # number of inhibitory synapses per neuron\nC_tot = int(CI + CE)  # total number of synapses per neuron"
      ]
    },
    {
      "metadata": {},
      "cell_type": "markdown",
      "source": [
        "Initialization of the parameters of the integrate and fire neuron and the\nsynapses. The parameter of the neuron are stored in a dictionary.\n\n"
      ]
    },
    {
      "execution_count": null,
      "metadata": {
        "collapsed": false
      },
      "cell_type": "code",
      "outputs": [],
      "source": [
        "tauMem = 20.0  # time constant of membrane potential in ms\ntheta = 20.0  # membrane threshold potential in mV\nneuron_params = {\"C_m\": 1.0,\n                 \"tau_m\": tauMem,\n                 \"t_ref\": 2.0,\n                 \"E_L\": 0.0,\n                 \"V_reset\": 0.0,\n                 \"V_m\": 0.0,\n                 \"V_th\": theta}\nJ = 0.1  # postsynaptic amplitude in mV\nJ_ex = J  # amplitude of excitatory postsynaptic potential\nJ_in = -g * J_ex  # amplitude of inhibitory postsynaptic potential"
      ]
    },
    {
      "metadata": {},
      "cell_type": "markdown",
      "source": [
        "Definition of threshold rate, which is the external rate needed to fix the\nmembrane potential around its threshold, the external firing rate and the\nrate of the poisson generator which is multiplied by the in-degree CE and\nconverted to Hz by multiplication by 1000.\n\n"
      ]
    },
    {
      "execution_count": null,
      "metadata": {
        "collapsed": false
      },
      "cell_type": "code",
      "outputs": [],
      "source": [
        "nu_th = theta / (J * CE * tauMem)\nnu_ex = eta * nu_th\np_rate = 1000.0 * nu_ex * CE"
      ]
    },
    {
      "metadata": {},
      "cell_type": "markdown",
      "source": [
        "Configuration of the simulation kernel by the previously defined time\nresolution used in the simulation. Setting \"print_time\" to True prints the\nalready processed simulation time as well as its percentage of the total\nsimulation time.\n\n"
      ]
    },
    {
      "execution_count": null,
      "metadata": {
        "collapsed": false
      },
      "cell_type": "code",
      "outputs": [],
      "source": [
        "nest.SetKernelStatus({\"resolution\": dt, \"print_time\": True,\n                      \"overwrite_files\": True})\n\nprint(\"Building network\")"
      ]
    },
    {
      "metadata": {},
      "cell_type": "markdown",
      "source": [
        "Configuration of the model `iaf_psc_delta` and `poisson_generator` using\nSetDefaults(). This function expects the model to be the inserted as a\nstring and the parameter to be specified in a dictionary. All instances of\ntheses models created after this point will have the properties specified\nin the dictionary by default.\n\n"
      ]
    },
    {
      "execution_count": null,
      "metadata": {
        "collapsed": false
      },
      "cell_type": "code",
      "outputs": [],
      "source": [
        "nest.SetDefaults(\"iaf_psc_delta\", neuron_params)\nnest.SetDefaults(\"poisson_generator\", {\"rate\": p_rate})"
      ]
    },
    {
      "metadata": {},
      "cell_type": "markdown",
      "source": [
        "Creation of the nodes using `Create`. We store the returned handles in\nvariables for later reference. Here the excitatory and inhibitory, as well\nas the poisson generator and two spike detectors. The spike detectors will\nlater be used to record excitatory and inhibitory spikes.\n\n"
      ]
    },
    {
      "execution_count": null,
      "metadata": {
        "collapsed": false
      },
      "cell_type": "code",
      "outputs": [],
      "source": [
        "nodes_ex = nest.Create(\"iaf_psc_delta\", NE)\nnodes_in = nest.Create(\"iaf_psc_delta\", NI)\nnoise = nest.Create(\"poisson_generator\")\nespikes = nest.Create(\"spike_detector\")\nispikes = nest.Create(\"spike_detector\")"
      ]
    },
    {
      "metadata": {},
      "cell_type": "markdown",
      "source": [
        "Configuration of the spike detectors recording excitatory and inhibitory\nspikes using `SetStatus`, which expects a list of node handles and a list\nof parameter dictionaries. Setting the variable \"to_file\" to True ensures\nthat the spikes will be recorded in a .gdf file starting with the string\nassigned to label. Setting \"withtime\" and \"withgid\" to True ensures that\neach spike is saved to file by stating the gid of the spiking neuron and\nthe spike time in one line.\n\n"
      ]
    },
    {
      "execution_count": null,
      "metadata": {
        "collapsed": false
      },
      "cell_type": "code",
      "outputs": [],
      "source": [
        "nest.SetStatus(espikes, [{\"label\": \"brunel-py-ex\",\n                          \"withtime\": True,\n                          \"withgid\": True,\n                          \"to_file\": True}])\n\nnest.SetStatus(ispikes, [{\"label\": \"brunel-py-in\",\n                          \"withtime\": True,\n                          \"withgid\": True,\n                          \"to_file\": True}])\n\nprint(\"Connecting devices\")"
      ]
    },
    {
      "metadata": {},
      "cell_type": "markdown",
      "source": [
        "Definition of a synapse using `CopyModel`, which expects the model name of\na pre-defined synapse, the name of the customary synapse and an optional\nparameter dictionary. The parameters defined in the dictionary will be the\ndefault parameter for the customary synapse. Here we define one synapse for\n the excitatory and one for the inhibitory connections giving the\npreviously defined weights and equal delays.\n\n"
      ]
    },
    {
      "execution_count": null,
      "metadata": {
        "collapsed": false
      },
      "cell_type": "code",
      "outputs": [],
      "source": [
        "nest.CopyModel(\"static_synapse\", \"excitatory\",\n               {\"weight\": J_ex, \"delay\": delay})\nnest.CopyModel(\"static_synapse\", \"inhibitory\",\n               {\"weight\": J_in, \"delay\": delay})"
      ]
    },
    {
      "metadata": {},
      "cell_type": "markdown",
      "source": [
        "Connecting the previously defined poisson generator to the excitatory and\ninhibitory neurons using the excitatory synapse. Since the poisson\ngenerator is connected to all neurons in the population the default rule\n(# 'all_to_all') of Connect() is used. The synaptic properties are inserted\n via syn_spec which expects a dictionary when defining multiple variables\nor a string when simply using a pre-defined synapse.\n\n"
      ]
    },
    {
      "execution_count": null,
      "metadata": {
        "collapsed": false
      },
      "cell_type": "code",
      "outputs": [],
      "source": [
        "nest.Connect(noise, nodes_ex, syn_spec=\"excitatory\")\nnest.Connect(noise, nodes_in, syn_spec=\"excitatory\")"
      ]
    },
    {
      "metadata": {},
      "cell_type": "markdown",
      "source": [
        "Connecting the first N_rec nodes of the excitatory and inhibitory\npopulation to the associated spike detectors using excitatory synapses.\nHere the same shortcut for the specification of the synapse as defined\nabove is used.\n\n"
      ]
    },
    {
      "execution_count": null,
      "metadata": {
        "collapsed": false
      },
      "cell_type": "code",
      "outputs": [],
      "source": [
        "nest.Connect(nodes_ex[:N_rec], espikes, syn_spec=\"excitatory\")\nnest.Connect(nodes_in[:N_rec], ispikes, syn_spec=\"excitatory\")\n\nprint(\"Connecting network\")\n\nprint(\"Excitatory connections\")"
      ]
    },
    {
      "metadata": {},
      "cell_type": "markdown",
      "source": [
        "Connecting the excitatory population to all neurons using the pre-defined\nexcitatory synapse. Beforehand, the connection parameter are defined in a\ndictionary. Here we use the connection rule 'fixed_indegree',\nwhich requires the definition of the indegree. Since the synapse\nspecification is reduced to assigning the pre-defined excitatory synapse it\n suffices to insert a string.\n\n"
      ]
    },
    {
      "execution_count": null,
      "metadata": {
        "collapsed": false
      },
      "cell_type": "code",
      "outputs": [],
      "source": [
        "conn_params_ex = {'rule': 'fixed_indegree', 'indegree': CE}\nnest.Connect(nodes_ex, nodes_ex + nodes_in, conn_params_ex, \"excitatory\")\n\nprint(\"Inhibitory connections\")"
      ]
    },
    {
      "metadata": {},
      "cell_type": "markdown",
      "source": [
        "Connecting the inhibitory population to all neurons using the pre-defined\ninhibitory synapse. The connection parameter as well as the synapse\nparamtere are defined analogously to the connection from the excitatory\npopulation defined above.\n\n"
      ]
    },
    {
      "execution_count": null,
      "metadata": {
        "collapsed": false
      },
      "cell_type": "code",
      "outputs": [],
      "source": [
        "conn_params_in = {'rule': 'fixed_indegree', 'indegree': CI}\nnest.Connect(nodes_in, nodes_ex + nodes_in, conn_params_in, \"inhibitory\")"
      ]
    },
    {
      "metadata": {},
      "cell_type": "markdown",
      "source": [
        "Storage of the time point after the buildup of the network in a variable.\n\n"
      ]
    },
    {
      "execution_count": null,
      "metadata": {
        "collapsed": false
      },
      "cell_type": "code",
      "outputs": [],
      "source": [
        "endbuild = time.time()"
      ]
    },
    {
      "metadata": {},
      "cell_type": "markdown",
      "source": [
        "Simulation of the network.\n\n"
      ]
    },
    {
      "execution_count": null,
      "metadata": {
        "collapsed": false
      },
      "cell_type": "code",
      "outputs": [],
      "source": [
        "print(\"Simulating\")\n\nnest.Simulate(simtime)"
      ]
    },
    {
      "metadata": {},
      "cell_type": "markdown",
      "source": [
        "Storage of the time point after the simulation of the network in a variable.\n\n"
      ]
    },
    {
      "execution_count": null,
      "metadata": {
        "collapsed": false
      },
      "cell_type": "code",
      "outputs": [],
      "source": [
        "endsimulate = time.time()"
      ]
    },
    {
      "metadata": {},
      "cell_type": "markdown",
      "source": [
        "Reading out the total number of spikes received from the spike detector\nconnected to the excitatory population and the inhibitory population.\n\n"
      ]
    },
    {
      "execution_count": null,
      "metadata": {
        "collapsed": false
      },
      "cell_type": "code",
      "outputs": [],
      "source": [
        "events_ex = nest.GetStatus(espikes, \"n_events\")[0]\nevents_in = nest.GetStatus(ispikes, \"n_events\")[0]"
      ]
    },
    {
      "metadata": {},
      "cell_type": "markdown",
      "source": [
        "Calculation of the average firing rate of the excitatory and the inhibitory\nneurons by dividing the total number of recorded spikes by the number of\nneurons recorded from and the simulation time. The multiplication by 1000.0\nconverts the unit 1/ms to 1/s=Hz.\n\n"
      ]
    },
    {
      "execution_count": null,
      "metadata": {
        "collapsed": false
      },
      "cell_type": "code",
      "outputs": [],
      "source": [
        "rate_ex = events_ex / simtime * 1000.0 / N_rec\nrate_in = events_in / simtime * 1000.0 / N_rec"
      ]
    },
    {
      "metadata": {},
      "cell_type": "markdown",
      "source": [
        "Reading out the number of connections established using the excitatory and\ninhibitory synapse model. The numbers are summed up resulting in the total\nnumber of synapses.\n\n"
      ]
    },
    {
      "execution_count": null,
      "metadata": {
        "collapsed": false
      },
      "cell_type": "code",
      "outputs": [],
      "source": [
        "num_synapses = (nest.GetDefaults(\"excitatory\")[\"num_connections\"] +\n                nest.GetDefaults(\"inhibitory\")[\"num_connections\"])"
      ]
    },
    {
      "metadata": {},
      "cell_type": "markdown",
      "source": [
        "Establishing the time it took to build and simulate the network by taking\nthe difference of the pre-defined time variables.\n\n"
      ]
    },
    {
      "execution_count": null,
      "metadata": {
        "collapsed": false
      },
      "cell_type": "code",
      "outputs": [],
      "source": [
        "build_time = endbuild - startbuild\nsim_time = endsimulate - endbuild"
      ]
    },
    {
      "metadata": {},
      "cell_type": "markdown",
      "source": [
        "Printing the network properties, firing rates and building times.\n\n"
      ]
    },
    {
      "execution_count": null,
      "metadata": {
        "collapsed": false
      },
      "cell_type": "code",
      "outputs": [],
      "source": [
        "print(\"Brunel network simulation (Python)\")\nprint(\"Number of neurons : {0}\".format(N_neurons))\nprint(\"Number of synapses: {0}\".format(num_synapses))\nprint(\"       Exitatory  : {0}\".format(int(CE * N_neurons) + N_neurons))\nprint(\"       Inhibitory : {0}\".format(int(CI * N_neurons)))\nprint(\"Excitatory rate   : %.2f Hz\" % rate_ex)\nprint(\"Inhibitory rate   : %.2f Hz\" % rate_in)\nprint(\"Building time     : %.2f s\" % build_time)\nprint(\"Simulation time   : %.2f s\" % sim_time)"
      ]
    },
    {
      "metadata": {},
      "cell_type": "markdown",
      "source": [
        "Plot a raster of the excitatory neurons and a histogram.\n\n"
      ]
    },
    {
      "execution_count": null,
      "metadata": {
        "collapsed": false
      },
      "cell_type": "code",
      "outputs": [],
      "source": [
        "nest.raster_plot.from_device(espikes, hist=True)"
      ]
    }
  ]
}