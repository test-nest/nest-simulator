{
  "metadata": {
    "language_info": {
      "pygments_lexer": "ipython3",
      "version": "3.5.0",
      "nbconvert_exporter": "python",
      "mimetype": "text/x-python",
      "name": "python",
      "file_extension": ".py",
      "codemirror_mode": {
        "version": 3,
        "name": "ipython"
      }
    },
    "kernelspec": {
      "name": "python3",
      "language": "python",
      "display_name": "Python 3"
    }
  },
  "nbformat_minor": 0,
  "nbformat": 4,
  "cells": [
    {
      "execution_count": null,
      "metadata": {
        "collapsed": false
      },
      "cell_type": "code",
      "outputs": [],
      "source": [
        "%matplotlib inline"
      ]
    },
    {
      "metadata": {},
      "cell_type": "markdown",
      "source": [
        "\nSensitivity to perturbation\n---------------------------\n\nThis script simulates a network in two successive trials, which are identical\nexcept for one extra input spike in the second realisation (a small\nperturbation). The network consists of recurrent, randomly connected excitatory\nand inhibitory neurons. Its activity is driven by an external Poisson input\nprovided to all neurons independently. In order to ensure that the network is\nreset appropriately between the trials, we do the following steps:\n- resetting the network\n- resetting the random network generator\n- resetting the internal clock\n- deleting all entries in the spike detector\n- introducing a hyperpolarisation phase between the trials\n  (in order to avoid that spikes remaining in the NEST memory\n  after the first simulation are fed into the second simulation)\n\n\nKEYWORDS:\n\n"
      ]
    },
    {
      "metadata": {},
      "cell_type": "markdown",
      "source": [
        "Importing all necessary modules for simulation, analysis and plotting.\n\n"
      ]
    },
    {
      "execution_count": null,
      "metadata": {
        "collapsed": false
      },
      "cell_type": "code",
      "outputs": [],
      "source": [
        "import numpy\nimport pylab\nimport nest"
      ]
    },
    {
      "metadata": {},
      "cell_type": "markdown",
      "source": [
        "Here we define all parameters necessary for building and simulating the\nnetwork.\n\n"
      ]
    },
    {
      "execution_count": null,
      "metadata": {
        "collapsed": false
      },
      "cell_type": "code",
      "outputs": [],
      "source": [
        "# We start with the global network parameters.\n\n\nNE = 1000      # number of excitatory neurons\nNI = 250       # number of inhibitory neurons\nN = NE + NI    # total number of neurons\nKE = 100       # excitatory in-degree\nKI = 25        # inhibitory in-degree"
      ]
    },
    {
      "metadata": {},
      "cell_type": "markdown",
      "source": [
        "Parameters specific for the neurons in the network. The  default values of\nthe reset potential `E_L` and the spiking threshold `V_th` are used to set\nthe limits of the initial potential of the neurons.\n\n"
      ]
    },
    {
      "execution_count": null,
      "metadata": {
        "collapsed": false
      },
      "cell_type": "code",
      "outputs": [],
      "source": [
        "neuron_model = 'iaf_psc_delta'\nneuron_params = nest.GetDefaults(neuron_model)\nVmin = neuron_params['E_L']   # minimum of initial potential distribution (mV)\nVmax = neuron_params['V_th']  # maximum of initial potential distribution (mV)"
      ]
    },
    {
      "metadata": {},
      "cell_type": "markdown",
      "source": [
        "Synapse parameters. Changing the weights `J` in the network can lead to\nqualitatively different behaviors. If `J` is small (e.g.`` J = 0.1``), we\nare likely to observe a non-chaotic network behavior (after perturbation\nthe network returns to its original activity). Increasing `J`\n(e.g ``J = 5.5``) leads to rather chaotic activity. Given that in this\nexample the transition to chaos is probabilistic, we sometimes observe\nchaotic behavior for small weights (e.g. ``J = 0.5``) and non-chaotic\nbehavior for strong weights (e.g. ``J = 5.4``).\n\n"
      ]
    },
    {
      "execution_count": null,
      "metadata": {
        "collapsed": false
      },
      "cell_type": "code",
      "outputs": [],
      "source": [
        "J = 0.5                   # excitatory synaptic weight (mV)\ng = 6.                    # relative inhibitory weight\ndelay = 0.1               # spike transmission delay (ms)\n\n\n# External input parameters.\n\n\nJext = 0.2                # PSP amplitude for external Poisson input (mV)\nrate_ext = 6500.          # rate of the external Poisson input\n\n\n# Perturbation parameters.\n\n\nt_stim = 400.             # perturbation time (time of the extra spike)\nJstim = Jext              # perturbation amplitude (mV)\n\n\n# Simulation parameters.\n\n\nT = 1000.                 # simulation time per trial (ms)\nfade_out = 2.*delay       # fade out time (ms)\ndt = 0.01                 # simulation time resolution (ms)\nseed_NEST = 30            # seed of random number generator in Nest\nseed_numpy = 30           # seed of random number generator in numpy"
      ]
    },
    {
      "metadata": {},
      "cell_type": "markdown",
      "source": [
        "Before we build the network, we reset the simulation kernel to ensure\nthat previous NEST simulations in the python shell will not disturb this\nsimulation and set the simulation resolution (later defined\nsynaptic delays cannot be smaller than the simulation resolution).\n\n"
      ]
    },
    {
      "execution_count": null,
      "metadata": {
        "collapsed": false
      },
      "cell_type": "code",
      "outputs": [],
      "source": [
        "nest.ResetKernel()\nnest.SetStatus([0], [{\"resolution\": dt}])"
      ]
    },
    {
      "metadata": {},
      "cell_type": "markdown",
      "source": [
        "Now we start building the network and create excitatory and inhibitory nodes\nand connect them. According to the connectivity specification, each neuron\nis assigned random KE synapses from the excitatory population and random KI\nsynapses from the inhibitory population.\n\n"
      ]
    },
    {
      "execution_count": null,
      "metadata": {
        "collapsed": false
      },
      "cell_type": "code",
      "outputs": [],
      "source": [
        "nodes_ex = nest.Create(neuron_model, NE)\nnodes_in = nest.Create(neuron_model, NI)\nallnodes = nodes_ex+nodes_in\n\nnest.Connect(nodes_ex, allnodes,\n             conn_spec={'rule': 'fixed_indegree', 'indegree': KE},\n             syn_spec={'weight': J, 'delay': dt})\nnest.Connect(nodes_in, allnodes,\n             conn_spec={'rule': 'fixed_indegree', 'indegree': KI},\n             syn_spec={'weight': -g*J, 'delay': dt})"
      ]
    },
    {
      "metadata": {},
      "cell_type": "markdown",
      "source": [
        "Afterwards we create a `poisson_generator` that provides spikes (the external\ninput) to the neurons until time `T` is reached.\nAfterwards a `dc_generator`, which is also connected to the whole population,\nprovides a stong hyperpolarisation step for a short time period `fade_out`.\n\nThe `fade_out` period has to last at least twice as long as the simulation\nresolution to supress the neurons from firing.\n\n"
      ]
    },
    {
      "execution_count": null,
      "metadata": {
        "collapsed": false
      },
      "cell_type": "code",
      "outputs": [],
      "source": [
        "ext = nest.Create(\"poisson_generator\",\n                  params={'rate': rate_ext, 'stop': T})\nnest.Connect(ext, allnodes,\n             syn_spec={'weight': Jext, 'delay': dt})\n\nsuppr = nest.Create(\"dc_generator\",\n                    params={'amplitude': -1e16, 'start': T,\n                            'stop': T+fade_out})\nnest.Connect(suppr, allnodes)\n\nspikedetector = nest.Create(\"spike_detector\")\nnest.Connect(allnodes, spikedetector)"
      ]
    },
    {
      "metadata": {},
      "cell_type": "markdown",
      "source": [
        "We then create the `spike_generator`, which provides the extra spike\n`(perturbation).\n\n"
      ]
    },
    {
      "execution_count": null,
      "metadata": {
        "collapsed": false
      },
      "cell_type": "code",
      "outputs": [],
      "source": [
        "stimulus = nest.Create(\"spike_generator\")\nnest.SetStatus(stimulus, {'spike_times': []})"
      ]
    },
    {
      "metadata": {},
      "cell_type": "markdown",
      "source": [
        "Finally, we run the two simulations successively. After each simulation the\nsender ids and spiketimes are stored in a list (`senders`, `spiketimes`).\n\n"
      ]
    },
    {
      "execution_count": null,
      "metadata": {
        "collapsed": false
      },
      "cell_type": "code",
      "outputs": [],
      "source": [
        "senders = []\nspiketimes = []"
      ]
    },
    {
      "metadata": {},
      "cell_type": "markdown",
      "source": [
        "We need to reset the network, the random number generator, and the clock of\nthe simulation Kernel. In addition, we ensure that there is no spike left in\nthe spike detector.\n\n"
      ]
    },
    {
      "metadata": {},
      "cell_type": "markdown",
      "source": [
        "In the second trial, we add an extra input spike at time `t_stim` to the\nneuron that fires first after perturbation time `t_stim`. Thus, we make sure\nthat the perturbation is transmitted to the network before it fades away in\nthe perturbed neuron. (Single IAF-neurons are not chaotic.)\n\n"
      ]
    },
    {
      "execution_count": null,
      "metadata": {
        "collapsed": false
      },
      "cell_type": "code",
      "outputs": [],
      "source": [
        "for trial in [0, 1]:\n    nest.ResetNetwork()\n    nest.SetStatus([0], [{\"rng_seeds\": [seed_NEST]}])\n    nest.SetStatus([0], {'time': 0.0})\n    nest.SetStatus(spikedetector, {'n_events': 0})\n\n    # We assign random initial membrane potentials to all neurons\n\n    numpy.random.seed(seed_numpy)\n    Vms = Vmin + (Vmax - Vmin) * numpy.random.rand(N)\n    nest.SetStatus(allnodes, \"V_m\", Vms)\n\n    if trial == 1:\n        id_stim = [senders[0][spiketimes[0] > t_stim][0]]\n        nest.Connect(stimulus, list(id_stim),\n                     syn_spec={'weight': Jstim, 'delay': dt})\n        nest.SetStatus(stimulus, {'spike_times': [t_stim]})\n\n    # Now we simulate the network and add a fade out period to discard\n    # remaining spikes.\n\n    nest.Simulate(T)\n    nest.Simulate(fade_out)\n\n    # Storing the data.\n\n    senders += [nest.GetStatus(spikedetector, 'events')[0]['senders']]\n    spiketimes += [nest.GetStatus(spikedetector, 'events')[0]['times']]"
      ]
    },
    {
      "metadata": {},
      "cell_type": "markdown",
      "source": [
        "We plot the spiking activity of the network (first trial in red, second trial\nin black).\n\n"
      ]
    },
    {
      "execution_count": null,
      "metadata": {
        "collapsed": false
      },
      "cell_type": "code",
      "outputs": [],
      "source": [
        "pylab.figure(1)\npylab.clf()\npylab.plot(spiketimes[0], senders[0], 'ro', ms=4.)\npylab.plot(spiketimes[1], senders[1], 'ko', ms=2.)\npylab.xlabel('time (ms)')\npylab.ylabel('neuron id')\npylab.xlim((0, T))\npylab.ylim((0, N))"
      ]
    }
  ]
}