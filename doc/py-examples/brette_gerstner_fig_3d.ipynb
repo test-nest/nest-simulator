{
  "metadata": {
    "language_info": {
      "pygments_lexer": "ipython3",
      "version": "3.5.0",
      "nbconvert_exporter": "python",
      "mimetype": "text/x-python",
      "name": "python",
      "file_extension": ".py",
      "codemirror_mode": {
        "version": 3,
        "name": "ipython"
      }
    },
    "kernelspec": {
      "name": "python3",
      "language": "python",
      "display_name": "Python 3"
    }
  },
  "nbformat_minor": 0,
  "nbformat": 4,
  "cells": [
    {
      "execution_count": null,
      "metadata": {
        "collapsed": false
      },
      "cell_type": "code",
      "outputs": [],
      "source": [
        "%matplotlib inline"
      ]
    },
    {
      "metadata": {},
      "cell_type": "markdown",
      "source": [
        "Test of the adapting exponential integrate and fire model in NEST\n----------------------------------------------------------------------\n\nThis example tests the adaptive integrate and fire model (AdEx) according to\nBrette and Gerstner (2005) J. Neurophysiology and\nreproduces figure 3.D of the paper.\n\nNote that Brette&Gerstner give the value for b in nA.\nTo be consistent with the other parameters in the equations, b must be\nconverted to pA (pico Ampere).\n\nSee Also\n~~~~~~~~~~~\n\n:Authors:\n\nKEYWORDS:\n\n"
      ]
    },
    {
      "execution_count": null,
      "metadata": {
        "collapsed": false
      },
      "cell_type": "code",
      "outputs": [],
      "source": [
        "import nest\nimport nest.voltage_trace\nimport pylab\n\nnest.ResetKernel()"
      ]
    },
    {
      "metadata": {},
      "cell_type": "markdown",
      "source": [
        "First we make sure that the resolution of the simulation is 0.1 ms. This is\n important, since the slop of the action potential is very steep.\n\n"
      ]
    },
    {
      "execution_count": null,
      "metadata": {
        "collapsed": false
      },
      "cell_type": "code",
      "outputs": [],
      "source": [
        "res = 0.1\nnest.SetKernelStatus({\"resolution\": res})\nneuron = nest.Create(\"aeif_cond_exp\")"
      ]
    },
    {
      "metadata": {},
      "cell_type": "markdown",
      "source": [
        "Set the parameters of the neuron according to the paper.\n\n"
      ]
    },
    {
      "execution_count": null,
      "metadata": {
        "collapsed": false
      },
      "cell_type": "code",
      "outputs": [],
      "source": [
        "nest.SetStatus(neuron, {\"V_peak\": 20., \"E_L\": -60.0, \"a\": 80.0, \"b\": 80.5,\n                        \"tau_w\": 720.0})"
      ]
    },
    {
      "metadata": {},
      "cell_type": "markdown",
      "source": [
        "Create and configure the stimulus which is a step current.\n\n"
      ]
    },
    {
      "execution_count": null,
      "metadata": {
        "collapsed": false
      },
      "cell_type": "code",
      "outputs": [],
      "source": [
        "dc = nest.Create(\"dc_generator\")\n\nnest.SetStatus(dc, [{\"amplitude\": -800.0, \"start\": 0.0, \"stop\": 400.0}])"
      ]
    },
    {
      "metadata": {},
      "cell_type": "markdown",
      "source": [
        "We connect the DC generators.\n\n"
      ]
    },
    {
      "execution_count": null,
      "metadata": {
        "collapsed": false
      },
      "cell_type": "code",
      "outputs": [],
      "source": [
        "nest.Connect(dc, neuron, 'all_to_all')"
      ]
    },
    {
      "metadata": {},
      "cell_type": "markdown",
      "source": [
        "And add a voltmeter to record the membrane potentials.\n\n"
      ]
    },
    {
      "execution_count": null,
      "metadata": {
        "collapsed": false
      },
      "cell_type": "code",
      "outputs": [],
      "source": [
        "voltmeter = nest.Create(\"voltmeter\")"
      ]
    },
    {
      "metadata": {},
      "cell_type": "markdown",
      "source": [
        "We set the voltmeter to record in small intervals of 0.1 ms and connect the\n voltmeter to the neuron.\n\n"
      ]
    },
    {
      "execution_count": null,
      "metadata": {
        "collapsed": false
      },
      "cell_type": "code",
      "outputs": [],
      "source": [
        "nest.SetStatus(voltmeter, {\"withgid\": True, \"withtime\": True, 'interval': 0.1})\n\nnest.Connect(voltmeter, neuron)"
      ]
    },
    {
      "metadata": {},
      "cell_type": "markdown",
      "source": [
        "Finally, we simulate for 1000 ms and plot a voltage trace to produce the\nfigure.\n\n"
      ]
    },
    {
      "execution_count": null,
      "metadata": {
        "collapsed": false
      },
      "cell_type": "code",
      "outputs": [],
      "source": [
        "nest.Simulate(1000.0)\n\nnest.voltage_trace.from_device(voltmeter)\npylab.axis([0, 1000, -85, 0])"
      ]
    }
  ]
}