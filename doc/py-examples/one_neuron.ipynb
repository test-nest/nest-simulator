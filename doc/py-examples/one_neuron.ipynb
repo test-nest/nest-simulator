{
  "metadata": {
    "language_info": {
      "pygments_lexer": "ipython3",
      "version": "3.5.0",
      "nbconvert_exporter": "python",
      "mimetype": "text/x-python",
      "name": "python",
      "file_extension": ".py",
      "codemirror_mode": {
        "version": 3,
        "name": "ipython"
      }
    },
    "kernelspec": {
      "name": "python3",
      "language": "python",
      "display_name": "Python 3"
    }
  },
  "nbformat_minor": 0,
  "nbformat": 4,
  "cells": [
    {
      "execution_count": null,
      "metadata": {
        "collapsed": false
      },
      "cell_type": "code",
      "outputs": [],
      "source": [
        "%matplotlib inline"
      ]
    },
    {
      "metadata": {},
      "cell_type": "markdown",
      "source": [
        "\nOne neuron example\n------------------\n\nThis script simulates a neuron driven by a constant external current\nand records its membrane potential.\n\nKEYWORDS: iaf_psc_alpha, voltmeter\n\n"
      ]
    },
    {
      "metadata": {},
      "cell_type": "markdown",
      "source": [
        "First, we import all necessary modules needed to simulate, analyze and\nplot our example. Additionally, we set the verbosity to only show warnings\nand reset the kernel.\nResetting the kernel removes any nodes we may have created previously and\nresets the internal clock to zero. This allows us to execute the script\nseveral times in a Python shell without interference from previous NEST\nsimulations.\n\n"
      ]
    },
    {
      "execution_count": null,
      "metadata": {
        "collapsed": false
      },
      "cell_type": "code",
      "outputs": [],
      "source": [
        "import nest\nimport nest.voltage_trace\n\nnest.set_verbosity(\"M_WARNING\")\nnest.ResetKernel()"
      ]
    },
    {
      "metadata": {},
      "cell_type": "markdown",
      "source": [
        "Second, we create the nodes, in our case the neuron and measuring device,\nusing the `Create()` function.\nWe store the returned handles in variables for later reference.\nWe can indicate the number of nodes that we want as well. For example,\n:code:`nest.Create('iaf_psc_alpha',5)`\n\n"
      ]
    },
    {
      "execution_count": null,
      "metadata": {
        "collapsed": false
      },
      "cell_type": "code",
      "outputs": [],
      "source": [
        "neuron = nest.Create(\"iaf_psc_alpha\")\nvoltmeter = nest.Create(\"voltmeter\")"
      ]
    },
    {
      "metadata": {},
      "cell_type": "markdown",
      "source": [
        "Third, the neuron and the voltmeter are configured using `SetStatus()`,\nwhich expects a list of node handles and a list of parameter dictionaries.\nIn this example, we use `SetStatus()` to configure the constant current input\nto the neuron. We also want to record the global id of the observed nodes and\nset the `withgid` flag of the voltmeter to ``True``.\nAlternatively, we can add the parameters of the model as arguments to\nCreate(), for example,\n:code:`nest.Create(\"iaf_psc_alpha\", params=[{'I_e':376.0}])`\nor :code:`nest.Create(\"voltmeter\", [{\"withgid\": True, \"withtime\": True}])`.\n\n"
      ]
    },
    {
      "execution_count": null,
      "metadata": {
        "collapsed": false
      },
      "cell_type": "code",
      "outputs": [],
      "source": [
        "nest.SetStatus(neuron, \"I_e\", 376.0)\nnest.SetStatus(voltmeter, [{\"withgid\": True}])"
      ]
    },
    {
      "metadata": {},
      "cell_type": "markdown",
      "source": [
        "Fourth, we connect the neuron to the voltmeter. The order in which the\narguments to `Connect()` are specified reflects the flow of events in the\nsimulation kernel; in our case, the voltmeter periodically sends requests to\nthe neuron to ask for its membrane potential at that point in time.\n\n"
      ]
    },
    {
      "execution_count": null,
      "metadata": {
        "collapsed": false
      },
      "cell_type": "code",
      "outputs": [],
      "source": [
        "nest.Connect(voltmeter, neuron)"
      ]
    },
    {
      "metadata": {},
      "cell_type": "markdown",
      "source": [
        "Now we simulate the network using `Simulate()`, which takes the\ndesired simulation time in milliseconds.\n\n"
      ]
    },
    {
      "execution_count": null,
      "metadata": {
        "collapsed": false
      },
      "cell_type": "code",
      "outputs": [],
      "source": [
        "nest.Simulate(1000.0)"
      ]
    },
    {
      "metadata": {},
      "cell_type": "markdown",
      "source": [
        "Finally, we plot the neuron's membrane potential as a function of\ntime.\n\n"
      ]
    },
    {
      "execution_count": null,
      "metadata": {
        "collapsed": false
      },
      "cell_type": "code",
      "outputs": [],
      "source": [
        "nest.voltage_trace.from_device(voltmeter)"
      ]
    }
  ]
}