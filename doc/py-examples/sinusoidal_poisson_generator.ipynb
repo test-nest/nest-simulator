{
  "metadata": {
    "language_info": {
      "pygments_lexer": "ipython3",
      "version": "3.5.0",
      "nbconvert_exporter": "python",
      "mimetype": "text/x-python",
      "name": "python",
      "file_extension": ".py",
      "codemirror_mode": {
        "version": 3,
        "name": "ipython"
      }
    },
    "kernelspec": {
      "name": "python3",
      "language": "python",
      "display_name": "Python 3"
    }
  },
  "nbformat_minor": 0,
  "nbformat": 4,
  "cells": [
    {
      "execution_count": null,
      "metadata": {
        "collapsed": false
      },
      "cell_type": "code",
      "outputs": [],
      "source": [
        "%matplotlib inline"
      ]
    },
    {
      "metadata": {},
      "cell_type": "markdown",
      "source": [
        "\nSinusoidal poisson generator example\n------------------------------------\n\nThis script demonstrates the use of the `sinusoidal_poisson_generator`\nand its different parameters and modes. The source code of the model\ncan be found in ``models/sinusoidal_poisson_generator.h``.\n\nThe script is structured into two parts and creates one common figure.\nIn Part 1, two instances of the `sinusoidal_poisson_generator` are\ncreated with different parameters. Part 2 illustrates the effect of\nthe ``individual_spike_trains`` switch.\n\nKEYWORDS:\n\n"
      ]
    },
    {
      "metadata": {},
      "cell_type": "markdown",
      "source": [
        "We import the modules required to simulate, analyze and plot this example.\n\n"
      ]
    },
    {
      "execution_count": null,
      "metadata": {
        "collapsed": false
      },
      "cell_type": "code",
      "outputs": [],
      "source": [
        "import nest\nimport matplotlib.pyplot as plt\nimport numpy as np\n\nnest.ResetKernel()   # in case we run the script multiple times from iPython"
      ]
    },
    {
      "metadata": {},
      "cell_type": "markdown",
      "source": [
        "We create two instances of the `sinusoidal_poisson_generator` with two\ndifferent parameter sets using `Create`. Moreover, we create devices to\nrecord firing rates (`multimeter`) and spikes (`spike_detector`) and connect\nthem to the generators using `Connect`.\n\n"
      ]
    },
    {
      "execution_count": null,
      "metadata": {
        "collapsed": false
      },
      "cell_type": "code",
      "outputs": [],
      "source": [
        "nest.SetKernelStatus({'resolution': 0.01})\n\ng = nest.Create('sinusoidal_poisson_generator', n=2,\n                params=[{'rate': 10000.0,\n                         'amplitude': 5000.0,\n                         'frequency': 10.0,\n                         'phase': 0.0},\n                        {'rate': 0.0,\n                         'amplitude': 10000.0,\n                         'frequency': 5.0,\n                         'phase': 90.0}])\n\nm = nest.Create('multimeter', n=2, params={'interval': 0.1, 'withgid': False,\n                                           'record_from': ['rate']})\ns = nest.Create('spike_detector', n=2, params={'withgid': False})\n\nnest.Connect(m, g, 'one_to_one')\nnest.Connect(g, s, 'one_to_one')\nprint(nest.GetStatus(m))\nnest.Simulate(200)"
      ]
    },
    {
      "metadata": {},
      "cell_type": "markdown",
      "source": [
        "After simulating, the spikes are extracted from the `spike_detector` using\n`GetStatus` and plots are created with panels for the PST and ISI histograms.\n\n"
      ]
    },
    {
      "execution_count": null,
      "metadata": {
        "collapsed": false
      },
      "cell_type": "code",
      "outputs": [],
      "source": [
        "colors = ['b', 'g']\n\nfor j in range(2):\n\n    ev = nest.GetStatus([m[j]])[0]['events']\n    t = ev['times']\n    r = ev['rate']\n\n    sp = nest.GetStatus([s[j]])[0]['events']['times']\n    plt.subplot(221)\n    h, e = np.histogram(sp, bins=np.arange(0., 201., 5.))\n    plt.plot(t, r, color=colors[j])\n    plt.step(e[:-1], h * 1000 / 5., color=colors[j], where='post')\n    plt.title('PST histogram and firing rates')\n    plt.ylabel('Spikes per second')\n\n    plt.subplot(223)\n    plt.hist(np.diff(sp), bins=np.arange(0., 1.005, 0.02),\n             histtype='step', color=colors[j])\n    plt.title('ISI histogram')"
      ]
    },
    {
      "metadata": {},
      "cell_type": "markdown",
      "source": [
        "The kernel is reset and the number of threads set to 4.\n\n"
      ]
    },
    {
      "execution_count": null,
      "metadata": {
        "collapsed": false
      },
      "cell_type": "code",
      "outputs": [],
      "source": [
        "nest.ResetKernel()\nnest.SetKernelStatus({'local_num_threads': 4})"
      ]
    },
    {
      "metadata": {},
      "cell_type": "markdown",
      "source": [
        "A `sinusoidal_poisson_generator` with  `individual_spike_trains` set to\n``True`` is created and connected to 20 parrot neurons whose spikes are\nrecorded by a spike detector. After simulating, a raster plot of the spikes\nis created.\n\n"
      ]
    },
    {
      "execution_count": null,
      "metadata": {
        "collapsed": false
      },
      "cell_type": "code",
      "outputs": [],
      "source": [
        "g = nest.Create('sinusoidal_poisson_generator',\n                params={'rate': 100.0, 'amplitude': 50.0,\n                        'frequency': 10.0, 'phase': 0.0,\n                        'individual_spike_trains': True})\np = nest.Create('parrot_neuron', 20)\ns = nest.Create('spike_detector')\n\nnest.Connect(g, p, 'all_to_all')\nnest.Connect(p, s, 'all_to_all')\n\nnest.Simulate(200)\nev = nest.GetStatus(s)[0]['events']\nplt.subplot(222)\nplt.plot(ev['times'], ev['senders'] - min(ev['senders']), 'o')\nplt.ylim([-0.5, 19.5])\nplt.yticks([])\nplt.title('Individual spike trains for each target')"
      ]
    },
    {
      "metadata": {},
      "cell_type": "markdown",
      "source": [
        "The kernel is reset again and the whole procedure is repeated for a\n`sinusoidal_poisson_generator` with `individual_spike_trains` set to\n``False``. The plot shows that in this case, all neurons receive the same\nspike train from the `sinusoidal_poisson_generator`.\n\n"
      ]
    },
    {
      "execution_count": null,
      "metadata": {
        "collapsed": false
      },
      "cell_type": "code",
      "outputs": [],
      "source": [
        "nest.ResetKernel()\nnest.SetKernelStatus({'local_num_threads': 4})\n\ng = nest.Create('sinusoidal_poisson_generator',\n                params={'rate': 100.0, 'amplitude': 50.0,\n                        'frequency': 10.0, 'phase': 0.0,\n                        'individual_spike_trains': False})\np = nest.Create('parrot_neuron', 20)\ns = nest.Create('spike_detector')\n\nnest.Connect(g, p, 'all_to_all')\nnest.Connect(p, s, 'all_to_all')\n\nnest.Simulate(200)\nev = nest.GetStatus(s)[0]['events']\nplt.subplot(224)\nplt.plot(ev['times'], ev['senders'] - min(ev['senders']), 'o')\nplt.ylim([-0.5, 19.5])\nplt.yticks([])\nplt.title('One spike train for all targets')"
      ]
    }
  ]
}