{
  "metadata": {
    "language_info": {
      "pygments_lexer": "ipython3",
      "version": "3.5.0",
      "nbconvert_exporter": "python",
      "mimetype": "text/x-python",
      "name": "python",
      "file_extension": ".py",
      "codemirror_mode": {
        "version": 3,
        "name": "ipython"
      }
    },
    "kernelspec": {
      "name": "python3",
      "language": "python",
      "display_name": "Python 3"
    }
  },
  "nbformat_minor": 0,
  "nbformat": 4,
  "cells": [
    {
      "execution_count": null,
      "metadata": {
        "collapsed": false
      },
      "cell_type": "code",
      "outputs": [],
      "source": [
        "%matplotlib inline"
      ]
    },
    {
      "metadata": {},
      "cell_type": "markdown",
      "source": [
        "\nStructural Plasticity example\n-----------------------\nThis example shows a simple network of two populations where structural\nplasticity is used. The network has 1000 neurons, 80% excitatory and\n20% inhibitory. The simulation starts without any connectivity. A set of\nhomeostatic rules are defined, according to which structural plasticity will\ncreate and delete synapses dynamically during the simulation until a desired\nlevel of electrical activity is reached. The model of structural plasticity\nused here corresponds to the formulation presented in [1]_.\nAt the end of the simulation, a plot of the evolution of the connectivity\nin the network and the average calcium concentration in the neurons is created.\n\nReferences\n~~~~~~~~~~~~\n.. [1] Butz M,and van Ooyen A. 201). A simple rule for dendritic spine and\n       axonal bouton formation can account for cortical reorganization after\n       focal retinal lesions. PLoS Computational Biology 9(10):e1003259.\n\n\nKEYWORDS:\n\n"
      ]
    },
    {
      "metadata": {},
      "cell_type": "markdown",
      "source": [
        "First, we have import all necessary modules.\n\n"
      ]
    },
    {
      "execution_count": null,
      "metadata": {
        "collapsed": false
      },
      "cell_type": "code",
      "outputs": [],
      "source": [
        "import nest\nimport numpy\nimport matplotlib.pyplot as pl\nimport sys"
      ]
    },
    {
      "metadata": {},
      "cell_type": "markdown",
      "source": [
        "In this implementation of structural plasticity, neurons grow connection\npoints called synaptic elements. Synapses can be created between compatible\nsynaptic elements. The growth of these elements is guided by homeostatic\nrules, defined as growth curves. Here we specify the growth curves for\nsynaptic elements of excitatory and inhibitory neurons.\n\n"
      ]
    },
    {
      "execution_count": null,
      "metadata": {
        "collapsed": false
      },
      "cell_type": "code",
      "outputs": [],
      "source": [
        "class StructralPlasticityExample:\n    def __init__(self):\n\n        # We define general simulation parameters\n\n        # simulated time (ms)\n        self.t_sim = 200000.0\n        # simulation step (ms).\n        self.dt = 0.1\n        self.number_excitatory_neurons = 800\n        self.number_inhibitory_neurons = 200\n\n        # Structural_plasticity properties\n        self.update_interval = 1000\n        self.record_interval = 1000.0\n        # rate of background Poisson input\n        self.bg_rate = 10000.0\n        self.neuron_model = 'iaf_psc_exp'\n\n        # Excitatory synaptic elements of excitatory neurons\n        self.growth_curve_e_e = {\n            'growth_curve': \"gaussian\",\n            'growth_rate': 0.0001,  # (elements/ms)\n            'continuous': False,\n            'eta': 0.0,  # Ca2+\n            'eps': 0.05,  # Ca2+\n        }\n\n        # Inhibitory synaptic elements of excitatory neurons\n        self.growth_curve_e_i = {\n            'growth_curve': \"gaussian\",\n            'growth_rate': 0.0001,  # (elements/ms)\n            'continuous': False,\n            'eta': 0.0,  # Ca2+\n            'eps': self.growth_curve_e_e['eps'],  # Ca2+\n        }\n\n        # Excitatory synaptic elements of inhibitory neurons\n        self.growth_curve_i_e = {\n            'growth_curve': \"gaussian\",\n            'growth_rate': 0.0004,  # (elements/ms)\n            'continuous': False,\n            'eta': 0.0,  # Ca2+\n            'eps': 0.2,  # Ca2+\n        }\n\n        # Inhibitory synaptic elements of inhibitory neurons\n        self.growth_curve_i_i = {\n            'growth_curve': \"gaussian\",\n            'growth_rate': 0.0001,  # (elements/ms)\n            'continuous': False,\n            'eta': 0.0,  # Ca2+\n            'eps': self.growth_curve_i_e['eps']  # Ca2+\n        }\n\n        # Now we specify the neuron model.\n        self.model_params = {'tau_m': 10.0,  # membrane time constant (ms)\n                             # excitatory synaptic time constant (ms)\n                             'tau_syn_ex': 0.5,\n                             # inhibitory synaptic time constant (ms)\n                             'tau_syn_in': 0.5,\n                             't_ref': 2.0,  # absolute refractory period (ms)\n                             'E_L': -65.0,  # resting membrane potential (mV)\n                             'V_th': -50.0,  # spike threshold (mV)\n                             'C_m': 250.0,  # membrane capacitance (pF)\n                             'V_reset': -65.0  # reset potential (mV)\n                             }\n\n        self.nodes_e = None\n        self.nodes_i = None\n        self.mean_ca_e = []\n        self.mean_ca_i = []\n        self.total_connections_e = []\n        self.total_connections_i = []\n\n        # We initialize variables for the post-synaptic currents of the\n        # synapses. These values were calculated from a PSP amplitude of 1 for\n        # excitatory synapses, -1 for inhibitory synapses and 0.11 for\n        # external synapses.\n\n        self.psc_e = 585.0\n        self.psc_i = -585.0\n        self.psc_ext = 6.2\n\n    def prepare_simulation(self):\n        nest.ResetKernel()\n        nest.set_verbosity('M_ERROR')\n\n        # Here we define the resolution for the simulation, which is also the\n        # time resolution for the update of the synaptic elements.\n\n        nest.SetKernelStatus(\n            {\n                'resolution': self.dt\n            }\n        )\n\n        # Set Structural Plasticity synaptic update interval which is how often\n        # the connectivity will be updated inside the network. It is important\n        # to notice that synaptic elements and connections change on different\n        # time scales.\n\n        nest.SetStructuralPlasticityStatus({\n            'structural_plasticity_update_interval': self.update_interval,\n        })\n\n        # Now we define Structural Plasticity synapses. In this example, we\n        # create two synapse models, one for excitatory and one for inhibitory\n        # synapses. Then we define that excitatory synapses can only be created\n        # between a  presynaptic element called 'Axon_ex' and a postsynaptic\n        # element called `Den_ex`. In a similar manner, synaptic elements for\n        # inhibitory synapses are defined.\n\n        nest.CopyModel('static_synapse', 'synapse_ex')\n        nest.SetDefaults('synapse_ex', {'weight': self.psc_e, 'delay': 1.0})\n        nest.CopyModel('static_synapse', 'synapse_in')\n        nest.SetDefaults('synapse_in', {'weight': self.psc_i, 'delay': 1.0})\n        nest.SetStructuralPlasticityStatus({\n            'structural_plasticity_synapses': {\n                'synapse_ex': {\n                    'model': 'synapse_ex',\n                    'post_synaptic_element': 'Den_ex',\n                    'pre_synaptic_element': 'Axon_ex',\n                },\n                'synapse_in': {\n                    'model': 'synapse_in',\n                    'post_synaptic_element': 'Den_in',\n                    'pre_synaptic_element': 'Axon_in',\n                },\n            }\n        })\n\n    def create_nodes(self):\n\n    # Now we assign the growth curves to the corresponding synaptic elements\n\n        synaptic_elements = {\n            'Den_ex': self.growth_curve_e_e,\n            'Den_in': self.growth_curve_e_i,\n            'Axon_ex': self.growth_curve_e_e,\n        }\n\n        synaptic_elements_i = {\n            'Den_ex': self.growth_curve_i_e,\n            'Den_in': self.growth_curve_i_i,\n            'Axon_in': self.growth_curve_i_i,\n        }\n\n        # Then it is time to create a population with 80% of the total network\n        # size excitatory neurons and another one with 20% of the total network\n        # size of inhibitory neurons.\n\n        self.nodes_e = nest.Create('iaf_psc_alpha',\n                                   self.number_excitatory_neurons,\n                                   {'synaptic_elements': synaptic_elements})\n\n        self.nodes_i = nest.Create('iaf_psc_alpha',\n                                   self.number_inhibitory_neurons,\n                                   {'synaptic_elements': synaptic_elements_i})\n        nest.SetStatus(self.nodes_e, 'synaptic_elements', synaptic_elements)\n        nest.SetStatus(self.nodes_i, 'synaptic_elements', synaptic_elements_i)\n\n    def connect_external_input(self):\n\n        # We create and connect the Poisson generator for external input\n\n        noise = nest.Create('poisson_generator')\n        nest.SetStatus(noise, {\"rate\": self.bg_rate})\n        nest.Connect(noise, self.nodes_e, 'all_to_all',\n                     {'weight': self.psc_ext, 'delay': 1.0})\n        nest.Connect(noise, self.nodes_i, 'all_to_all',\n                     {'weight': self.psc_ext, 'delay': 1.0})\n\n    # In order to save the amount of average calcium concentration in each\n    # population through time we create the function `record_ca`. Here we use\n    # the `GetStatus` function to retrieve the value of Ca for every neuron in\n    # the network and then store the average.\n\n    def record_ca(self):\n        ca_e = nest.GetStatus(self.nodes_e, 'Ca'),  # Calcium concentration\n        self.mean_ca_e.append(numpy.mean(ca_e))\n\n        ca_i = nest.GetStatus(self.nodes_i, 'Ca'),  # Calcium concentration\n        self.mean_ca_i.append(numpy.mean(ca_i))\n\n    # In order to save the state of the connectivity in the network through\n    # time, we create the function `record_connectivity`. Here we use the\n    # `GetStatus` function to retrieve the number of connected presynaptic\n    # elements of each  neuron. The total amount of excitatory connections is\n    # equal to the total amount of connected excitatory presynaptic elements.\n    # The same applies for inhibitory connections.\n\n    def record_connectivity(self):\n        syn_elems_e = nest.GetStatus(self.nodes_e, 'synaptic_elements')\n        syn_elems_i = nest.GetStatus(self.nodes_i, 'synaptic_elements')\n        self.total_connections_e.append(sum(neuron['Axon_ex']['z_connected']\n                                            for neuron in syn_elems_e))\n        self.total_connections_i.append(sum(neuron['Axon_in']['z_connected']\n                                            for neuron in syn_elems_i))\n    # We define a function to plot the recorded values at the end of the\n    # simulation.\n\n    def plot_data(self):\n        fig, ax1 = pl.subplots()\n        ax1.axhline(self.growth_curve_e_e['eps'],\n                    linewidth=4.0, color='#9999FF')\n        ax1.plot(self.mean_ca_e, 'b',\n                 label='Ca Concentration Excitatory Neurons', linewidth=2.0)\n        ax1.axhline(self.growth_curve_i_e['eps'],\n                    linewidth=4.0, color='#FF9999')\n        ax1.plot(self.mean_ca_i, 'r',\n                 label='Ca Concentration Inhibitory Neurons', linewidth=2.0)\n        ax1.set_ylim([0, 0.275])\n        ax1.set_xlabel(\"Time in [s]\")\n        ax1.set_ylabel(\"Ca concentration\")\n        ax2 = ax1.twinx()\n        ax2.plot(self.total_connections_e, 'm',\n                 label='Excitatory connections', linewidth=2.0, linestyle='--')\n        ax2.plot(self.total_connections_i, 'k',\n                 label='Inhibitory connections', linewidth=2.0, linestyle='--')\n        ax2.set_ylim([0, 2500])\n        ax2.set_ylabel(\"Connections\")\n        ax1.legend(loc=1)\n        ax2.legend(loc=4)\n        pl.savefig('StructuralPlasticityExample.eps', format='eps')\n\n    # It is time to specify how we want to perform the simulation. In this\n    # function we first enable structural plasticity in the network and then we\n    # simulate in steps. On each step we record the calcium concentration and i\n    # the connectivity. At the end of the simulation, the plot of connections\n    # and calcium concentration through time is generated.\n\n    def simulate(self):\n        if nest.NumProcesses() > 1:\n            sys.exit(\"For simplicity, this example only works \" +\n                     \"for a single process.\")\n        nest.EnableStructuralPlasticity()\n        print(\"Starting simulation\")\n        sim_steps = numpy.arange(0, self.t_sim, self.record_interval)\n        for i, step in enumerate(sim_steps):\n            nest.Simulate(self.record_interval)\n            self.record_ca()\n            self.record_connectivity()\n            if i % 20 == 0:\n                print(\"Progress: \" + str(i / 2) + \"%\")\n        print(\"Simulation finished successfully\")"
      ]
    },
    {
      "metadata": {},
      "cell_type": "markdown",
      "source": [
        "Finally we take all the functions that we have defined and create the\nsequence for our example. We prepare the simulation, create the nodes for the\nnetwork, connect the external input and then simulate. Please note that as we\nare simulating 200 biological seconds in this example, it will take a few\nminutes to complete.\n\n"
      ]
    },
    {
      "execution_count": null,
      "metadata": {
        "collapsed": false
      },
      "cell_type": "code",
      "outputs": [],
      "source": [
        "if __name__ == '__main__':\n    example = StructralPlasticityExample()\n    # Prepare simulation\n    example.prepare_simulation()\n    example.create_nodes()\n    example.connect_external_input()\n    # Start simulation\n    example.simulate()\n    example.plot_data()"
      ]
    }
  ]
}