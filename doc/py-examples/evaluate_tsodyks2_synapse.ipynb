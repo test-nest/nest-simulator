{
  "metadata": {
    "language_info": {
      "pygments_lexer": "ipython3",
      "version": "3.5.0",
      "nbconvert_exporter": "python",
      "mimetype": "text/x-python",
      "name": "python",
      "file_extension": ".py",
      "codemirror_mode": {
        "version": 3,
        "name": "ipython"
      }
    },
    "kernelspec": {
      "name": "python3",
      "language": "python",
      "display_name": "Python 3"
    }
  },
  "nbformat_minor": 0,
  "nbformat": 4,
  "cells": [
    {
      "execution_count": null,
      "metadata": {
        "collapsed": false
      },
      "cell_type": "code",
      "outputs": [],
      "source": [
        "%matplotlib inline"
      ]
    },
    {
      "metadata": {},
      "cell_type": "markdown",
      "source": [
        "Example of the tsodyks2_synapse in NEST\n---------------------------------------------\n\nThis synapse model implements synaptic short-term depression and short-term f\naccording to [1] and [2]. It solves Eq (2) from [1] and modulates U according\n\nThis connection merely scales the synaptic weight, based on the spike history\nparameters of the kinetic model. Thus, it is suitable for all types of synapt\nthat is current or conductance based.\n\nThe parameter A_se from the publications is represented by the\nsynaptic weight. The variable x in the synapse properties is the\nfactor that scales the synaptic weight.\n\nParameters\n~~~~~~~~~~~\n\nThe following parameters can be set in the status dictionary:\n\n* U          double - probability of release increment (U1) [0,1], default=0.\n* u          double - Maximum probability of release (U_se) [0,1], default=0.\n* x          double - current scaling factor of the weight, default=U\n* tau_rec    double - time constant for depression in ms, default=800 ms\n* tau_fac    double - time constant for facilitation in ms, default=0 (off)\n\nNotes\n~~~~~~~\n\nUnder identical conditions, the tsodyks2_synapse produces slightly lower\npeak amplitudes than the tsodyks_synapse. However, the qualitative behavior\nis identical.\n\nThis compares the two synapse models.\n\nReferences\n~~~~~~~~~~~\n\n.. [1] Tsodyks, M. V., & Markram, H. (1997). The neural code between\n       neocortical depends on neurotransmitter release probability. PNAS,\n       94(2), 719-23.\n.. [2] Fuhrmann, G., Segev, I., Markram, H., & Tsodyks, M. V. (2002). Coding of\n       information by activity-dependent synapses. Journal of\n       neurophysiology, 8\n.. [3] Maass, W., & Markram, H. (2002). Synapses as dynamic memory buffers.\n       Neural Networks, 15(2), 155-161.\n       http://dx.doi.org/10.1016/S0893-6080(01)00144-7\n\nSee Also\n~~~~~~~~~~\n\n:Authors:\n\nKEYWORDS:\n\n"
      ]
    },
    {
      "execution_count": null,
      "metadata": {
        "collapsed": false
      },
      "cell_type": "code",
      "outputs": [],
      "source": [
        "import nest\nimport nest.voltage_trace\n\nnest.ResetKernel()"
      ]
    },
    {
      "metadata": {},
      "cell_type": "markdown",
      "source": [
        "Parameter set for depression\n\n"
      ]
    },
    {
      "execution_count": null,
      "metadata": {
        "collapsed": false
      },
      "cell_type": "code",
      "outputs": [],
      "source": [
        "dep_params = {\"U\": 0.67, \"u\": 0.67, 'x': 1.0, \"tau_rec\": 450.0,\n              \"tau_fac\": 0.0, \"weight\": 250.}"
      ]
    },
    {
      "metadata": {},
      "cell_type": "markdown",
      "source": [
        "Parameter set for facilitation\n\n"
      ]
    },
    {
      "execution_count": null,
      "metadata": {
        "collapsed": false
      },
      "cell_type": "code",
      "outputs": [],
      "source": [
        "fac_params = {\"U\": 0.1, \"u\": 0.1, 'x': 1.0, \"tau_fac\": 1000.,\n              \"tau_rec\": 100., \"weight\": 250.}"
      ]
    },
    {
      "metadata": {},
      "cell_type": "markdown",
      "source": [
        "Now we assign the parameter set to the synapse models.\n\n"
      ]
    },
    {
      "execution_count": null,
      "metadata": {
        "collapsed": false
      },
      "cell_type": "code",
      "outputs": [],
      "source": [
        "t1_params = fac_params       # for tsodyks_synapse\nt2_params = t1_params.copy()  # for tsodyks2_synapse\n\nnest.SetDefaults(\"tsodyks2_synapse\", t1_params)\nnest.SetDefaults(\"tsodyks_synapse\", t2_params)\nnest.SetDefaults(\"iaf_psc_exp\", {\"tau_syn_ex\": 3.})"
      ]
    },
    {
      "metadata": {},
      "cell_type": "markdown",
      "source": [
        "Create three neurons.\n\n"
      ]
    },
    {
      "execution_count": null,
      "metadata": {
        "collapsed": false
      },
      "cell_type": "code",
      "outputs": [],
      "source": [
        "neuron = nest.Create(\"iaf_psc_exp\", 3)"
      ]
    },
    {
      "metadata": {},
      "cell_type": "markdown",
      "source": [
        "Neuron one produces spikes. Neurons 2 and 3 receive the spikes via the two\n synapse models.\n\n"
      ]
    },
    {
      "execution_count": null,
      "metadata": {
        "collapsed": false
      },
      "cell_type": "code",
      "outputs": [],
      "source": [
        "nest.Connect([neuron[0]], [neuron[1]], syn_spec=\"tsodyks_synapse\")\nnest.Connect([neuron[0]], [neuron[2]], syn_spec=\"tsodyks2_synapse\")"
      ]
    },
    {
      "metadata": {},
      "cell_type": "markdown",
      "source": [
        "Now create two voltmeters to record the responses.\n\n"
      ]
    },
    {
      "execution_count": null,
      "metadata": {
        "collapsed": false
      },
      "cell_type": "code",
      "outputs": [],
      "source": [
        "voltmeter = nest.Create(\"voltmeter\", 2)\nnest.SetStatus(voltmeter, {\"withgid\": True, \"withtime\": True})"
      ]
    },
    {
      "metadata": {},
      "cell_type": "markdown",
      "source": [
        "Connect the voltmeters to the neurons.\n\n"
      ]
    },
    {
      "execution_count": null,
      "metadata": {
        "collapsed": false
      },
      "cell_type": "code",
      "outputs": [],
      "source": [
        "nest.Connect([voltmeter[0]], [neuron[1]])\nnest.Connect([voltmeter[1]], [neuron[2]])"
      ]
    },
    {
      "metadata": {},
      "cell_type": "markdown",
      "source": [
        "Now simulate the standard STP protocol: a burst of spikes, followed by a\npause and a recovery response.\n\n"
      ]
    },
    {
      "execution_count": null,
      "metadata": {
        "collapsed": false
      },
      "cell_type": "code",
      "outputs": [],
      "source": [
        "nest.SetStatus([neuron[0]], \"I_e\", 376.0)\nnest.Simulate(500.0)\nnest.SetStatus([neuron[0]], \"I_e\", 0.0)\nnest.Simulate(500.0)\nnest.SetStatus([neuron[0]], \"I_e\", 376.0)\nnest.Simulate(500.0)"
      ]
    },
    {
      "metadata": {},
      "cell_type": "markdown",
      "source": [
        "Finally, generate voltage traces. Both are shown in the same plot and\nshould be almost completely overlapping.\n\n"
      ]
    },
    {
      "execution_count": null,
      "metadata": {
        "collapsed": false
      },
      "cell_type": "code",
      "outputs": [],
      "source": [
        "nest.voltage_trace.from_device([voltmeter[0]])\nnest.voltage_trace.from_device([voltmeter[1]])"
      ]
    }
  ]
}