{
  "metadata": {
    "language_info": {
      "pygments_lexer": "ipython3",
      "version": "3.5.0",
      "nbconvert_exporter": "python",
      "mimetype": "text/x-python",
      "name": "python",
      "file_extension": ".py",
      "codemirror_mode": {
        "version": 3,
        "name": "ipython"
      }
    },
    "kernelspec": {
      "name": "python3",
      "language": "python",
      "display_name": "Python 3"
    }
  },
  "nbformat_minor": 0,
  "nbformat": 4,
  "cells": [
    {
      "execution_count": null,
      "metadata": {
        "collapsed": false
      },
      "cell_type": "code",
      "outputs": [],
      "source": [
        "%matplotlib inline"
      ]
    },
    {
      "metadata": {},
      "cell_type": "markdown",
      "source": [
        "Spike synchronization through subthreshold oscillation\n------------------------------------------------------------\n\nThis script reproduces the spike synchronization behavior\nof integrate-and-fire neurons in response to a subthreshold\noscillation. This phenomenon is shown in Fig. 1 of [1]\n\nNeurons receive a weak 35 Hz oscillation, a gaussian noise current\nand an increasing DC. The time-locking capability is shown to\ndepend on the input current given. The result is then plotted using\npylab. All parameters are taken from the above paper.\n\nReferences\n~~~~~~~~~~~~~\n\n.. [1] C.D. Brody and J.J. Hopfield (2003) Simple Networks for\n       Spike-Timing-Based Computation, with Application to Olfactory\n       Processing. Neuron 37, 843-852 (2003)\n\nSee Also\n~~~~~~~~~~~\n\n:Authors:\n\nKEYWORDS:\n\n"
      ]
    },
    {
      "metadata": {},
      "cell_type": "markdown",
      "source": [
        "First, we import all necessary modules for simulation, analysis and plotting.\n\n"
      ]
    },
    {
      "execution_count": null,
      "metadata": {
        "collapsed": false
      },
      "cell_type": "code",
      "outputs": [],
      "source": [
        "import nest\nimport nest.raster_plot"
      ]
    },
    {
      "metadata": {},
      "cell_type": "markdown",
      "source": [
        "Second, the simulation parameters are assigned to variables.\n\n"
      ]
    },
    {
      "execution_count": null,
      "metadata": {
        "collapsed": false
      },
      "cell_type": "code",
      "outputs": [],
      "source": [
        "N = 1000           # number of neurons\nbias_begin = 140.  # minimal value for the bias current injection [pA]\nbias_end = 200.    # maximal value for the bias current injection [pA]\nT = 600            # simulation time (ms)\n\n# parameters for the alternative-current generator\ndriveparams = {'amplitude': 50., 'frequency': 35.}\n# parameters for the noise generator\nnoiseparams = {'mean': 0.0, 'std': 200.}\nneuronparams = {'tau_m': 20.,  # membrane time constant\n                'V_th': 20.,  # threshold potential\n                'E_L': 10.,  # membrane resting potential\n                't_ref': 2.,  # refractory period\n                'V_reset': 0.,  # reset potential\n                'C_m': 200.,  # membrane capacitance\n                'V_m': 0.}      # initial membrane potential"
      ]
    },
    {
      "metadata": {},
      "cell_type": "markdown",
      "source": [
        "Third, the nodes are created using `Create`. We store the returned handles\nin variables for later reference.\n\n"
      ]
    },
    {
      "execution_count": null,
      "metadata": {
        "collapsed": false
      },
      "cell_type": "code",
      "outputs": [],
      "source": [
        "neurons = nest.Create('iaf_psc_alpha', N)\nsd = nest.Create('spike_detector')\nnoise = nest.Create('noise_generator')\ndrive = nest.Create('ac_generator')"
      ]
    },
    {
      "metadata": {},
      "cell_type": "markdown",
      "source": [
        "Set the parameters specified above for the generators using `SetStatus`.\n\n"
      ]
    },
    {
      "execution_count": null,
      "metadata": {
        "collapsed": false
      },
      "cell_type": "code",
      "outputs": [],
      "source": [
        "nest.SetStatus(drive, driveparams)\nnest.SetStatus(noise, noiseparams)"
      ]
    },
    {
      "metadata": {},
      "cell_type": "markdown",
      "source": [
        "Set the parameters specified above for the neurons. Nurons getan internal\ncurrent. The first neuron additionally receives the current with amplitude\n``bias_begin``, the last neuron with amplitude ``bias_end``.\n\n"
      ]
    },
    {
      "execution_count": null,
      "metadata": {
        "collapsed": false
      },
      "cell_type": "code",
      "outputs": [],
      "source": [
        "nest.SetStatus(neurons, neuronparams)\nnest.SetStatus(neurons, [{'I_e':\n                          (n * (bias_end - bias_begin) / N + bias_begin)}\n                         for n in neurons])"
      ]
    },
    {
      "metadata": {},
      "cell_type": "markdown",
      "source": [
        "Set the parameters for the `spike_detector`: recorded data should include\nthe information about global IDs of spiking neurons and the time of\nindividual spikes.\n\n"
      ]
    },
    {
      "execution_count": null,
      "metadata": {
        "collapsed": false
      },
      "cell_type": "code",
      "outputs": [],
      "source": [
        "nest.SetStatus(sd, {\"withgid\": True, \"withtime\": True})"
      ]
    },
    {
      "metadata": {},
      "cell_type": "markdown",
      "source": [
        "Connect alternative current and noise generators as well as\n`spike_detector`s. to neurons\n\n"
      ]
    },
    {
      "execution_count": null,
      "metadata": {
        "collapsed": false
      },
      "cell_type": "code",
      "outputs": [],
      "source": [
        "nest.Connect(drive, neurons)\nnest.Connect(noise, neurons)\nnest.Connect(neurons, sd)"
      ]
    },
    {
      "metadata": {},
      "cell_type": "markdown",
      "source": [
        "Simulate the network for time T.\n\n"
      ]
    },
    {
      "execution_count": null,
      "metadata": {
        "collapsed": false
      },
      "cell_type": "code",
      "outputs": [],
      "source": [
        "nest.Simulate(T)"
      ]
    },
    {
      "metadata": {},
      "cell_type": "markdown",
      "source": [
        "Plot the raster plot of the neuronal spiking activity.\n\n"
      ]
    },
    {
      "execution_count": null,
      "metadata": {
        "collapsed": false
      },
      "cell_type": "code",
      "outputs": [],
      "source": [
        "nest.raster_plot.from_device(sd, hist=True)"
      ]
    }
  ]
}