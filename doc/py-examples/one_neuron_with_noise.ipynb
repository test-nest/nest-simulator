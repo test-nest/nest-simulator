{
  "metadata": {
    "language_info": {
      "pygments_lexer": "ipython3",
      "version": "3.5.0",
      "nbconvert_exporter": "python",
      "mimetype": "text/x-python",
      "name": "python",
      "file_extension": ".py",
      "codemirror_mode": {
        "version": 3,
        "name": "ipython"
      }
    },
    "kernelspec": {
      "name": "python3",
      "language": "python",
      "display_name": "Python 3"
    }
  },
  "nbformat_minor": 0,
  "nbformat": 4,
  "cells": [
    {
      "execution_count": null,
      "metadata": {
        "collapsed": false
      },
      "cell_type": "code",
      "outputs": [],
      "source": [
        "%matplotlib inline"
      ]
    },
    {
      "metadata": {},
      "cell_type": "markdown",
      "source": [
        "\nOne neuron with noise\n----------------------\n\nThis script simulates a neuron with input from the Poisson generator, and\nrecords the neuron's membrane potential.\n\nKEYWORDS: iaf_psc_alpha, Poisson generator, voltmeter\n\n"
      ]
    },
    {
      "metadata": {},
      "cell_type": "markdown",
      "source": [
        "First, we import all necessary modules needed to simulate, analyze and\nplot our example. Additionally, we set the verbosity to only show warnings\nand reset the kernel.\nResetting the kernel removes any nodes we may have created previously and\nresets the internal clock to zero. This allows us to execute the script\nseveral times in a Python shell without interference from previous NEST\nsimulations.\n\n"
      ]
    },
    {
      "execution_count": null,
      "metadata": {
        "collapsed": false
      },
      "cell_type": "code",
      "outputs": [],
      "source": [
        "import nest\nimport nest.voltage_trace\n\nnest.set_verbosity(\"M_WARNING\")\nnest.ResetKernel()"
      ]
    },
    {
      "metadata": {},
      "cell_type": "markdown",
      "source": [
        "Second, the nodes (the neuron, poisson generator (two of them), and the\nvoltmeter) are created using  the `Create()` function.\nWe store the returned handles in variables for later reference.\n\n"
      ]
    },
    {
      "execution_count": null,
      "metadata": {
        "collapsed": false
      },
      "cell_type": "code",
      "outputs": [],
      "source": [
        "neuron = nest.Create(\"iaf_psc_alpha\")\nnoise = nest.Create(\"poisson_generator\", 2)\nvoltmeter = nest.Create(\"voltmeter\")"
      ]
    },
    {
      "metadata": {},
      "cell_type": "markdown",
      "source": [
        "Third, the voltmeter and the Poisson generator are configured using\n`SetStatus()`, which expects a list of node handles and a list of parameter\ndictionaries. Note that we do not need to set parameters for the neuron,\nsince it has satisfactory defaults.\nWe set each Poisson generator to 8 000 Hz and 15 000 Hz, respectively.\nFor the voltmeter, we want to record the global id of the observed nodes and\nset the `withgid` flag of the voltmeter to ``True``.\nWe also set its property `withtime` so it will also record the points\nin time at which it samples the membrane voltage.\n\n"
      ]
    },
    {
      "execution_count": null,
      "metadata": {
        "collapsed": false
      },
      "cell_type": "code",
      "outputs": [],
      "source": [
        "nest.SetStatus(noise, [{\"rate\": 80000.0}, {\"rate\": 15000.0}])\nnest.SetStatus(voltmeter, {\"withgid\": True, \"withtime\": True})"
      ]
    },
    {
      "metadata": {},
      "cell_type": "markdown",
      "source": [
        "Fourth, the neuron is connected to the Poisson generator and to the\nvoltmeter. We also specify the synaptic weight and delay in this step.\n\n"
      ]
    },
    {
      "execution_count": null,
      "metadata": {
        "collapsed": false
      },
      "cell_type": "code",
      "outputs": [],
      "source": [
        "nest.Connect(noise, neuron, syn_spec={'weight': [[1.2, -1.0]], 'delay': 1.0})\nnest.Connect(voltmeter, neuron)"
      ]
    },
    {
      "metadata": {},
      "cell_type": "markdown",
      "source": [
        "Now we simulate the network using `Simulate()`, which takes the\ndesired simulation time in milliseconds.\n\n"
      ]
    },
    {
      "execution_count": null,
      "metadata": {
        "collapsed": false
      },
      "cell_type": "code",
      "outputs": [],
      "source": [
        "nest.Simulate(1000.0)"
      ]
    },
    {
      "metadata": {},
      "cell_type": "markdown",
      "source": [
        "Finally, we plot the neuron's membrane potential as a function of\ntime.\n\n"
      ]
    },
    {
      "execution_count": null,
      "metadata": {
        "collapsed": false
      },
      "cell_type": "code",
      "outputs": [],
      "source": [
        "nest.voltage_trace.from_device(voltmeter)"
      ]
    }
  ]
}