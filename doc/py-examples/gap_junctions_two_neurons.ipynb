{
  "metadata": {
    "language_info": {
      "pygments_lexer": "ipython3",
      "version": "3.5.0",
      "nbconvert_exporter": "python",
      "mimetype": "text/x-python",
      "name": "python",
      "file_extension": ".py",
      "codemirror_mode": {
        "version": 3,
        "name": "ipython"
      }
    },
    "kernelspec": {
      "name": "python3",
      "language": "python",
      "display_name": "Python 3"
    }
  },
  "nbformat_minor": 0,
  "nbformat": 4,
  "cells": [
    {
      "execution_count": null,
      "metadata": {
        "collapsed": false
      },
      "cell_type": "code",
      "outputs": [],
      "source": [
        "%matplotlib inline"
      ]
    },
    {
      "metadata": {},
      "cell_type": "markdown",
      "source": [
        "Gap Junctions: Two neuron example\n--------------------------------------\n\nThis script simulates two Hodgkin-Huxley neurons of type `hh_psc_alpha_gap`\nconnected by a gap junction. Both neurons receive a constant current of\n100.0 pA. The neurons are initialized with different membrane potentials and\nsynchronize over time due to the gap-junction connection.\n\nReferences\n~~~~~~~~~~~\n\nSee Also\n~~~~~~~~~~\n\n:Authors:\n\nKEYWORDS:\n\n"
      ]
    },
    {
      "execution_count": null,
      "metadata": {
        "collapsed": false
      },
      "cell_type": "code",
      "outputs": [],
      "source": [
        "import nest\nimport pylab as pl\nimport numpy\n\nnest.ResetKernel()"
      ]
    },
    {
      "metadata": {},
      "cell_type": "markdown",
      "source": [
        "First we set the resolution of the simulation, create two neurons and\ncreate a `voltmeter` for recording.\n\n"
      ]
    },
    {
      "execution_count": null,
      "metadata": {
        "collapsed": false
      },
      "cell_type": "code",
      "outputs": [],
      "source": [
        "nest.SetKernelStatus({'resolution': 0.05})\n\nneuron = nest.Create('hh_psc_alpha_gap', 2)\n\nvm = nest.Create('voltmeter', params={'to_file': False,\n                                      'withgid': True,\n                                      'withtime': True,\n                                      'interval': 0.1})"
      ]
    },
    {
      "metadata": {},
      "cell_type": "markdown",
      "source": [
        "Then we set the constant current input, modify the inital membrane\npotential of one of the neurons and connect the neurons to the `voltmeter`.\n\n"
      ]
    },
    {
      "execution_count": null,
      "metadata": {
        "collapsed": false
      },
      "cell_type": "code",
      "outputs": [],
      "source": [
        "nest.SetStatus(neuron, {'I_e': 100.})\nnest.SetStatus([neuron[0]], {'V_m': -10.})\n\nnest.Connect(vm, neuron, 'all_to_all')"
      ]
    },
    {
      "metadata": {},
      "cell_type": "markdown",
      "source": [
        "In order to create the `gap_junction` connection we employ the\n`all_to_all` connection rule: Gap junctions are bidirectional connections,\ntherefore we need to connect `neuron[0]` to `neuron[1]` and `neuron[1]` to\n`neuron[0]`:\n\n"
      ]
    },
    {
      "execution_count": null,
      "metadata": {
        "collapsed": false
      },
      "cell_type": "code",
      "outputs": [],
      "source": [
        "nest.Connect(neuron, neuron,\n             {'rule': 'all_to_all', 'autapses': False},\n             {'model': 'gap_junction', 'weight': 0.5})"
      ]
    },
    {
      "metadata": {},
      "cell_type": "markdown",
      "source": [
        "Finally we start the simulation and plot the membrane potentials of both\nneurons.\n\n"
      ]
    },
    {
      "execution_count": null,
      "metadata": {
        "collapsed": false
      },
      "cell_type": "code",
      "outputs": [],
      "source": [
        "nest.Simulate(351.)\n\nsenders = nest.GetStatus(vm, 'events')[0]['senders']\ntimes = nest.GetStatus(vm, 'events')[0]['times']\nV = nest.GetStatus(vm, 'events')[0]['V_m']\n\npl.figure(1)\npl.plot(times[numpy.where(senders == 1)],\n        V[numpy.where(senders == 1)], 'r-')\npl.plot(times[numpy.where(senders == 2)],\n        V[numpy.where(senders == 2)], 'g-')\npl.xlabel('time (ms)')\npl.ylabel('membrane potential (mV)')\npl.show()"
      ]
    }
  ]
}