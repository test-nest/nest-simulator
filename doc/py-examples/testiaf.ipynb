{
  "metadata": {
    "language_info": {
      "pygments_lexer": "ipython3",
      "version": "3.5.0",
      "nbconvert_exporter": "python",
      "mimetype": "text/x-python",
      "name": "python",
      "file_extension": ".py",
      "codemirror_mode": {
        "version": 3,
        "name": "ipython"
      }
    },
    "kernelspec": {
      "name": "python3",
      "language": "python",
      "display_name": "Python 3"
    }
  },
  "nbformat_minor": 0,
  "nbformat": 4,
  "cells": [
    {
      "execution_count": null,
      "metadata": {
        "collapsed": false
      },
      "cell_type": "code",
      "outputs": [],
      "source": [
        "%matplotlib inline"
      ]
    },
    {
      "metadata": {},
      "cell_type": "markdown",
      "source": [
        "IAF Neuron example\n------------------\n\nA DC current is injected into the neuron using a current generator\ndevice. The membrane potential as well as the spiking activity are\nrecorded by corresponding devices.\n\nIt can be observed how the current charges the membrane, a spike\nis emitted, the neuron becomes absolute refractory, and finally\nstarts to recover.\n\nReferences\n~~~~~~~~~~~~\n\nSee Also\n~~~~~~~~~~\n\n:Authors:\n\nKEYWORDS:\n\n"
      ]
    },
    {
      "metadata": {},
      "cell_type": "markdown",
      "source": [
        "First, we import all necessary modules for simulation and plotting\n\n"
      ]
    },
    {
      "execution_count": null,
      "metadata": {
        "collapsed": false
      },
      "cell_type": "code",
      "outputs": [],
      "source": [
        "import nest\nimport pylab"
      ]
    },
    {
      "metadata": {},
      "cell_type": "markdown",
      "source": [
        "Second the Function build_network is defined to build the network and\nreturn the handles of the spike detector and the voltmeter\n\n"
      ]
    },
    {
      "execution_count": null,
      "metadata": {
        "collapsed": false
      },
      "cell_type": "code",
      "outputs": [],
      "source": [
        "def build_network(dt):\n\n    nest.ResetKernel()\n    nest.SetKernelStatus({\"local_num_threads\": 1, \"resolution\": dt})\n\n    neuron = nest.Create('iaf_psc_alpha')\n    nest.SetStatus(neuron, \"I_e\", 376.0)\n\n    vm = nest.Create('voltmeter')\n    nest.SetStatus(vm, \"withtime\", True)\n\n    sd = nest.Create('spike_detector')\n\n    nest.Connect(vm, neuron)\n    nest.Connect(neuron, sd)\n\n    return vm, sd"
      ]
    },
    {
      "metadata": {},
      "cell_type": "markdown",
      "source": [
        "The function build_network takes the resolution as argument.\nFirst the Kernel is reset and the number of threads is set to zero as well\n as the resolution to the specified value dt.  The iaf_psc_alpha is\ncreated and the handle is stored in the variable neuron The status of the\nneuron is changed so it receives an external current.  Next the voltmeter\nis created and the handle stored in vm and the option 'withtime' is set,\ntherefore times are given in the times vector in events. Now the\nspike_detecor is created and its handle is stored in sd.\n\nVoltmeter and spikedetector are then connected to the neuron. The connect\n function takes the handles as input.  The Voltmeter is connected to the\nneuron and the neuron to the spikedetector because the neuron sends spikes\n to the detector and the voltmeter 'observes' the neuron.\n\n"
      ]
    },
    {
      "metadata": {},
      "cell_type": "markdown",
      "source": [
        "The neuron is simulated for three different resolutions and then the\nvoltage trace is plotted\n\n"
      ]
    },
    {
      "execution_count": null,
      "metadata": {
        "collapsed": false
      },
      "cell_type": "code",
      "outputs": [],
      "source": [
        "for dt in [0.1, 0.5, 1.0]:\n    print(\"Running simulation with dt=%.2f\" % dt)\n    vm, sd = build_network(dt)\n\n    ###########################################################################\n    # First using build_network the network is build and the handles of the\n    # spike detector and the voltmeter are stored in vm and sd\n\n    nest.Simulate(1000.0)\n\n    ###########################################################################\n    # The network is simulated using `Simulate`, which takes the desired\n    # simulation time in milliseconds and advances the network state by this\n    # amount of time. During simulation, the `spike_detector` counts the\n    # spikes of the target neuron and the total number is read out at the\n    # end of the simulation period.\n\n    potentials = nest.GetStatus(vm, \"events\")[0][\"V_m\"]\n    times = nest.GetStatus(vm, \"events\")[0][\"times\"]\n\n    ###########################################################################\n    # The values of the voltage recorded by the voltmeter are read out and\n    # the values for the membrane potential are stored in potential and the\n    # corresponding times in the times array\n\n    pylab.plot(times, potentials, label=\"dt=%.2f\" % dt)\n    print(\"  Number of spikes: {0}\".format(nest.GetStatus(sd, \"n_events\")[0]))\n\n    ###########################################################################\n    # Using the pylab library the voltage trace is plotted over time\n\n    pylab.legend(loc=3)\n    pylab.xlabel(\"time (ms)\")\n    pylab.ylabel(\"V_m (mV)\")\n\n    ###########################################################################\n    # Finally the axis are labelled and a legend is generated"
      ]
    }
  ]
}